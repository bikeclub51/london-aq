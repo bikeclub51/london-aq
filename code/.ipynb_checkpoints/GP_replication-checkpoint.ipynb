{
 "cells": [
  {
   "cell_type": "markdown",
   "metadata": {},
   "source": [
    "# Gaussian Process\n",
    "#### Replication of Adrianna's methods using LAQN data retrieved through the LAQN API and applied to multiple pollutants"
   ]
  },
  {
   "cell_type": "code",
   "execution_count": null,
   "metadata": {},
   "outputs": [],
   "source": [
    "## load in relevant packages\n",
    "import pandas as pd  \n",
    "import numpy as np\n",
    "import matplotlib.pyplot as plt\n",
    "import gpflow\n",
    "\n",
    "\n",
    "\n",
    "np.random.seed(1)"
   ]
  },
  {
   "cell_type": "markdown",
   "metadata": {},
   "source": [
    "### Access & Process Data \n",
    "#### Read in data downloaded from LAQN API in download_data.py"
   ]
  },
  {
   "cell_type": "code",
   "execution_count": 8,
   "metadata": {},
   "outputs": [
    {
     "data": {
      "text/html": [
       "<div>\n",
       "<style scoped>\n",
       "    .dataframe tbody tr th:only-of-type {\n",
       "        vertical-align: middle;\n",
       "    }\n",
       "\n",
       "    .dataframe tbody tr th {\n",
       "        vertical-align: top;\n",
       "    }\n",
       "\n",
       "    .dataframe thead th {\n",
       "        text-align: right;\n",
       "    }\n",
       "</style>\n",
       "<table border=\"1\" class=\"dataframe\">\n",
       "  <thead>\n",
       "    <tr style=\"text-align: right;\">\n",
       "      <th></th>\n",
       "      <th>O3</th>\n",
       "      <th>SiteCode</th>\n",
       "      <th>Latitude</th>\n",
       "      <th>Longitude</th>\n",
       "    </tr>\n",
       "    <tr>\n",
       "      <th>Timestamp</th>\n",
       "      <th></th>\n",
       "      <th></th>\n",
       "      <th></th>\n",
       "      <th></th>\n",
       "    </tr>\n",
       "  </thead>\n",
       "  <tbody>\n",
       "    <tr>\n",
       "      <th>2007-12-01 00:00:00</th>\n",
       "      <td>71.8</td>\n",
       "      <td>TD0</td>\n",
       "      <td>51.424304</td>\n",
       "      <td>-0.345715</td>\n",
       "    </tr>\n",
       "    <tr>\n",
       "      <th>2007-12-01 01:00:00</th>\n",
       "      <td>71.2</td>\n",
       "      <td>TD0</td>\n",
       "      <td>51.424304</td>\n",
       "      <td>-0.345715</td>\n",
       "    </tr>\n",
       "    <tr>\n",
       "      <th>2007-12-01 02:00:00</th>\n",
       "      <td>67.9</td>\n",
       "      <td>TD0</td>\n",
       "      <td>51.424304</td>\n",
       "      <td>-0.345715</td>\n",
       "    </tr>\n",
       "    <tr>\n",
       "      <th>2007-12-01 03:00:00</th>\n",
       "      <td>65.4</td>\n",
       "      <td>TD0</td>\n",
       "      <td>51.424304</td>\n",
       "      <td>-0.345715</td>\n",
       "    </tr>\n",
       "    <tr>\n",
       "      <th>2007-12-01 04:00:00</th>\n",
       "      <td>61.9</td>\n",
       "      <td>TD0</td>\n",
       "      <td>51.424304</td>\n",
       "      <td>-0.345715</td>\n",
       "    </tr>\n",
       "  </tbody>\n",
       "</table>\n",
       "</div>"
      ],
      "text/plain": [
       "                       O3 SiteCode   Latitude  Longitude\n",
       "Timestamp                                               \n",
       "2007-12-01 00:00:00  71.8      TD0  51.424304  -0.345715\n",
       "2007-12-01 01:00:00  71.2      TD0  51.424304  -0.345715\n",
       "2007-12-01 02:00:00  67.9      TD0  51.424304  -0.345715\n",
       "2007-12-01 03:00:00  65.4      TD0  51.424304  -0.345715\n",
       "2007-12-01 04:00:00  61.9      TD0  51.424304  -0.345715"
      ]
     },
     "execution_count": 8,
     "metadata": {},
     "output_type": "execute_result"
    }
   ],
   "source": [
    "import pandas as pd  \n",
    "\n",
    "## read in hourly data of given pollutant\n",
    "pollutant = \"O3\"\n",
    "hourly_df = pd.read_csv(\"../data/\" + pollutant + \"_data.csv\", sep=',', parse_dates=[\"Timestamp\"]).set_index(\"Timestamp\")\n",
    "\n",
    "print(\"Hourly Data of \", pollutant)\n",
    "hourly_df.head()\n",
    "# convert CSV to DF"
   ]
  },
  {
   "cell_type": "code",
   "execution_count": 10,
   "metadata": {},
   "outputs": [
    {
     "data": {
      "text/html": [
       "<div>\n",
       "<style scoped>\n",
       "    .dataframe tbody tr th:only-of-type {\n",
       "        vertical-align: middle;\n",
       "    }\n",
       "\n",
       "    .dataframe tbody tr th {\n",
       "        vertical-align: top;\n",
       "    }\n",
       "\n",
       "    .dataframe thead th {\n",
       "        text-align: right;\n",
       "    }\n",
       "</style>\n",
       "<table border=\"1\" class=\"dataframe\">\n",
       "  <thead>\n",
       "    <tr style=\"text-align: right;\">\n",
       "      <th></th>\n",
       "      <th>SiteCode</th>\n",
       "      <th>Timestamp</th>\n",
       "      <th>O3</th>\n",
       "      <th>Latitude</th>\n",
       "      <th>Longitude</th>\n",
       "    </tr>\n",
       "    <tr>\n",
       "      <th>date</th>\n",
       "      <th></th>\n",
       "      <th></th>\n",
       "      <th></th>\n",
       "      <th></th>\n",
       "      <th></th>\n",
       "    </tr>\n",
       "  </thead>\n",
       "  <tbody>\n",
       "    <tr>\n",
       "      <th>2007-12-01</th>\n",
       "      <td>BL0</td>\n",
       "      <td>2007-12-01</td>\n",
       "      <td>49.979167</td>\n",
       "      <td>51.522287</td>\n",
       "      <td>-0.125848</td>\n",
       "    </tr>\n",
       "    <tr>\n",
       "      <th>2007-12-02</th>\n",
       "      <td>BL0</td>\n",
       "      <td>2007-12-02</td>\n",
       "      <td>51.729167</td>\n",
       "      <td>51.522287</td>\n",
       "      <td>-0.125848</td>\n",
       "    </tr>\n",
       "    <tr>\n",
       "      <th>2007-12-03</th>\n",
       "      <td>BL0</td>\n",
       "      <td>2007-12-03</td>\n",
       "      <td>25.225000</td>\n",
       "      <td>51.522287</td>\n",
       "      <td>-0.125848</td>\n",
       "    </tr>\n",
       "    <tr>\n",
       "      <th>2007-12-04</th>\n",
       "      <td>BL0</td>\n",
       "      <td>2007-12-04</td>\n",
       "      <td>19.604167</td>\n",
       "      <td>51.522287</td>\n",
       "      <td>-0.125848</td>\n",
       "    </tr>\n",
       "    <tr>\n",
       "      <th>2007-12-05</th>\n",
       "      <td>BL0</td>\n",
       "      <td>2007-12-05</td>\n",
       "      <td>35.787500</td>\n",
       "      <td>51.522287</td>\n",
       "      <td>-0.125848</td>\n",
       "    </tr>\n",
       "  </tbody>\n",
       "</table>\n",
       "</div>"
      ],
      "text/plain": [
       "           SiteCode  Timestamp         O3   Latitude  Longitude\n",
       "date                                                           \n",
       "2007-12-01      BL0 2007-12-01  49.979167  51.522287  -0.125848\n",
       "2007-12-02      BL0 2007-12-02  51.729167  51.522287  -0.125848\n",
       "2007-12-03      BL0 2007-12-03  25.225000  51.522287  -0.125848\n",
       "2007-12-04      BL0 2007-12-04  19.604167  51.522287  -0.125848\n",
       "2007-12-05      BL0 2007-12-05  35.787500  51.522287  -0.125848"
      ]
     },
     "execution_count": 10,
     "metadata": {},
     "output_type": "execute_result"
    }
   ],
   "source": [
    "daily_df = df.groupby(by=[\"SiteCode\"]).resample(\"D\").mean().reset_index()\n",
    "daily_df[\"date\"] = daily_df[\"Timestamp\"].apply(lambda x: x.strftime(\"%Y-%m-%d\"))\n",
    "daily_df.set_index(\"date\", inplace=True)\n",
    "daily_df.head()"
   ]
  },
  {
   "cell_type": "markdown",
   "metadata": {},
   "source": [
    "#### Create Training & Testing Datasets"
   ]
  },
  {
   "cell_type": "code",
   "execution_count": 10,
   "metadata": {},
   "outputs": [
    {
     "name": "stdout",
     "output_type": "stream",
     "text": [
      "Model Features:\n",
      "(5184309, 4)\n",
      "[['2007-12-01 01:00' 'TD0' 51.4243043441456 -0.345714576446947]\n",
      " ['2007-12-01 02:00' 'TD0' 51.4243043441456 -0.345714576446947]\n",
      " ['2007-12-01 03:00' 'TD0' 51.4243043441456 -0.345714576446947]\n",
      " ['2007-12-01 04:00' 'TD0' 51.4243043441456 -0.345714576446947]\n",
      " ['2007-12-01 05:00' 'TD0' 51.4243043441456 -0.345714576446947]\n",
      " ['2007-12-01 06:00' 'TD0' 51.4243043441456 -0.345714576446947]\n",
      " ['2007-12-01 07:00' 'TD0' 51.4243043441456 -0.345714576446947]\n",
      " ['2007-12-01 08:00' 'TD0' 51.4243043441456 -0.345714576446947]\n",
      " ['2007-12-01 09:00' 'TD0' 51.4243043441456 -0.345714576446947]]\n",
      "--------------------\n",
      "Variables:  O3\n",
      "(5184309, 1)\n",
      "[[71.8]\n",
      " [71.2]\n",
      " [67.9]\n",
      " [65.4]\n",
      " [61.9]\n",
      " [63.4]\n",
      " [62.9]\n",
      " [57.4]\n",
      " [58.4]\n",
      " [61.4]]\n"
     ]
    }
   ],
   "source": [
    "## divide into features and variable\n",
    "params = ['Timestamp', 'SiteCode', 'Latitude', 'Longitude']\n",
    "\n",
    "X = df[params].values\n",
    "y = df.loc[:, pollutant].values\n",
    "y = y.reshape(-1,1)\n",
    "\n",
    "## print previews\n",
    "print(\"Model Features:\")\n",
    "print(X.shape)\n",
    "print(X[1:10,:])\n",
    "\n",
    "print(\"--------------------\")\n",
    "\n",
    "print(\"Variables: \", pollutant)\n",
    "print(y.shape)\n",
    "print(y[0:10])\n"
   ]
  },
  {
   "cell_type": "code",
   "execution_count": 11,
   "metadata": {},
   "outputs": [
    {
     "name": "stdout",
     "output_type": "stream",
     "text": [
      "(3888231, 4)\n",
      "(3888231, 1)\n",
      "(1296078, 4)\n",
      "(1296078, 1)\n"
     ]
    }
   ],
   "source": [
    "from sklearn.model_selection import train_test_split\n",
    "## create validation dataset (no test set since using MLL)\n",
    "X_train, X_val, y_train, y_val = train_test_split(X, y, test_size=0.25, random_state=0) \n",
    "\n",
    "print(X_train.shape)\n",
    "print(y_train.shape)\n",
    "print(X_val.shape)\n",
    "print(y_val.shape)"
   ]
  },
  {
   "cell_type": "code",
   "execution_count": 12,
   "metadata": {},
   "outputs": [
    {
     "name": "stdout",
     "output_type": "stream",
     "text": [
      "(3888231, 1)\n",
      "(1296078, 1)\n"
     ]
    }
   ],
   "source": [
    "\n",
    "from sklearn.preprocessing import StandardScaler  \n",
    "feature_scaler = StandardScaler() \n",
    "\n",
    "## Normalize Y (after splitting into training and validation)\n",
    "\n",
    "## standardize y-values\n",
    "y_train = feature_scaler.fit_transform(y_train)\n",
    "y_val = feature_scaler.fit_transform(y_val)\n",
    "\n",
    "print(y_train.shape)\n",
    "print(y_val.shape)"
   ]
  },
  {
   "cell_type": "markdown",
   "metadata": {},
   "source": [
    "### Building GP model"
   ]
  },
  {
   "cell_type": "code",
   "execution_count": 14,
   "metadata": {},
   "outputs": [],
   "source": [
    "##===================================================================================\n",
    "import gpflow \n",
    "# define GP kernel parameters\n",
    "kernel_flag = 0\n",
    "\n",
    "## fullcovariance kernel(lat, long, time; lat', long', time') =\n",
    "## RBF(lat, long; lat', long') + RBF(time; time') * periodic(time; time')\n",
    "\n",
    "print('Model' + str(kernel_flag) + ' selected')\n",
    "\n",
    "## kernel 0: White noise\n",
    "## kernel 1: RBF space (spatial relationship)\n",
    "## kernel 2: RBF time (short-term irregularities due to weather, error measurement)\n",
    "## kernel 3: RBF time * Periodic time\n",
    "kernel0 = gpflow.kernels.White(1) +\\\n",
    "            gpflow.kernels.RBF(2, active_dims=[0,1], lengthscales=1.0) +\\\n",
    "            gpflow.kernels.RBF(1, active_dims=[2], lengthscales=1.0) +\\\n",
    "            gpflow.kernels.RBF(1, active_dims=[2], lengthscales=1.0) *\\\n",
    "            gpflow.kernels.Periodic(1, period=12., active_dims=[2])\n",
    "\n",
    "## kernel 0: White noise\n",
    "## kernel 1: RBF time (noise, should be shorter length-scale)\n",
    "## kernel 1: RBF space\n",
    "## kernel 2: RBF time (short)\n",
    "## kernel 3: RBF time * Periodic time\n",
    "kernel1 = gpflow.kernels.White(1) +\\\n",
    "            gpflow.kernels.RBF(1, active_dims=[2], lengthscales=1.0) +\\\n",
    "            gpflow.kernels.RBF(2, active_dims=[0,1], lengthscales=1.0) +\\\n",
    "            gpflow.kernels.RBF(1, active_dims=[2], lengthscales=1.0) +\\\n",
    "            gpflow.kernels.RBF(1, active_dims=[2], lengthscales=1.0) *\\\n",
    "            gpflow.kernels.Periodic(1, period=12., active_dims=[2])\n",
    "\n",
    "## OLD\n",
    "## kernel 0: Constant\n",
    "## kernel 1: RBF space * RBF time\n",
    "## kernel 2: RBF time\n",
    "## kernel 3: RBF time * Periodic time\n",
    "#kernel1 = gpflow.kernels.Constant(1) +\\\n",
    "#            gpflow.kernels.RBF(2, active_dims=[0,1], lengthscales=1.0) *\\\n",
    "#            gpflow.kernels.RBF(1, active_dims=[2], lengthscales=1.0) +\\\n",
    "#            gpflow.kernels.RBF(1, active_dims=[2], lengthscales=1.0) +\\\n",
    "#            gpflow.kernels.RBF(1, active_dims=[2], lengthscales=1.0) *\\\n",
    "#            gpflow.kernels.Periodic(1, period=12., active_dims=[2])\n",
    "\n",
    "## kernel 0: Constant\n",
    "## kernel 1: RBF space * RBF time * Periodic time\n",
    "## kernel 2: RBF space * time\n",
    "kernel2 = gpflow.kernels.Constant(1) +\\\n",
    "            gpflow.kernels.RBF(2, active_dims=[0,1], lengthscales=1.0) *\\\n",
    "            gpflow.kernels.RBF(1, active_dims=[2], lengthscales=1.0) *\\\n",
    "            gpflow.kernels.Periodic(1, period=12., active_dims=[2]) +\\\n",
    "            gpflow.kernels.RBF(2, active_dims=[0,1], lengthscales=1.0) *\\\n",
    "            gpflow.kernels.RBF(1, active_dims=[2], lengthscales=1.0)\n",
    "\n",
    "if kernel_flag == 0:\n",
    "    selected_kernel = kernel0\n",
    "if kernel_flag == 1:\n",
    "    selected_kernel = kernel1\n",
    "if kernel_flag == 2:\n",
    "    selected_kernel = kernel2"
   ]
  },
  {
   "cell_type": "code",
   "execution_count": 2,
   "metadata": {},
   "outputs": [],
   "source": [
    "import gpflow\n",
    "## build model\n",
    "model = gpflow.models.GPR(X_train, y_train, kern=selected_kernel)\n",
    "model.likelihood.variance = 0.01\n",
    "\n",
    "## view \n",
    "model.as_pandas_table()\n",
    "print(model.as_pandas_table())\n",
    "print(\"hello\")"
   ]
  }
 ],
 "metadata": {
  "interpreter": {
   "hash": "aee8b7b246df8f9039afb4144a1f6fd8d2ca17a180786b69acc140d282b71a49"
  },
  "kernelspec": {
   "display_name": "Python 3 (ipykernel)",
   "language": "python",
   "name": "python3"
  },
  "language_info": {
   "codemirror_mode": {
    "name": "ipython",
    "version": 3
   },
   "file_extension": ".py",
   "mimetype": "text/x-python",
   "name": "python",
   "nbconvert_exporter": "python",
   "pygments_lexer": "ipython3",
   "version": "3.9.7"
  }
 },
 "nbformat": 4,
 "nbformat_minor": 2
}
