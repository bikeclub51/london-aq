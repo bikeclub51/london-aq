{
 "cells": [
  {
   "cell_type": "markdown",
   "metadata": {},
   "source": [
    "#### Calculate mutual information"
   ]
  },
  {
   "cell_type": "code",
   "execution_count": 1,
   "metadata": {},
   "outputs": [],
   "source": [
    "import numpy as np\n",
    "import pickle\n",
    "import matplotlib.pyplot as plt\n",
    "import geopandas\n",
    "from scipy.linalg import det\n",
    "from shapely.geometry import Point, Polygon\n",
    "import pandas as pd\n",
    "import math\n",
    "import json\n",
    "from scipy.spatial import Delaunay\n",
    "from generate_sample_U import *\n",
    "import dill as pickle\n"
   ]
  },
  {
   "cell_type": "code",
   "execution_count": 2,
   "metadata": {},
   "outputs": [],
   "source": [
    "def load_model(filename):\n",
    "    path = f\"../gp-models/GPR-models/ST-SVGP/{filename}/{filename}\"\n",
    "    model = pickle.load(open(f\"{path}_model.sav\", 'rb'))\n",
    "    df = pickle.load(open(f\"{path}_df.sav\", 'rb'))\n",
    "    train_df = pickle.load(open(f\"{path}_train_df.sav\", 'rb'))\n",
    "    test_df = pickle.load(open(f\"{path}_test_df.sav\", 'rb'))\n",
    "    scalers = pickle.load(open(f\"{path}_scalers.sav\", 'rb'))\n",
    "    \n",
    "    return model, df, train_df, test_df, scalers"
   ]
  },
  {
   "cell_type": "code",
   "execution_count": 3,
   "metadata": {},
   "outputs": [],
   "source": [
    "# incrementally grab the sensors in the order that they are placed\n",
    "# (calculate MI for 1st sensor, then for 1st & 2nd sensor, etc.)\n",
    "# initialize list for MI storage\n",
    "def GPR_mutual_info(GPR, k, A_df, U_df, t):\n",
    "    MI = np.array([],dtype=float)\n",
    "\n",
    "    for i in range(k):\n",
    "        print(i)\n",
    "        A_df[\"t\"] = t\n",
    "        A = A_df[[\"t\", \"scaled_latitude\", \"scaled_longitude\"]].values\n",
    "        U_df[\"t\"] = t\n",
    "        U = U_df[[\"t\", \"scaled_latitude\", \"scaled_longitude\"]].values\n",
    "        \n",
    "        n = np.arange(0,i+1)\n",
    "        ## grab first n sensors placed\n",
    "        test_X = A[n,:].reshape(i+1, A.shape[1])        \n",
    "        \n",
    "        ## add in U\n",
    "        test_XU = np.append(test_X, U, axis=0)\n",
    "\n",
    "        ## compute covariance matrix\n",
    "        if not isinstance(test_XU, np.ndarray):\n",
    "            test_XU = np.array(test_XU).reshape(-1,1)\n",
    "        cov_mat_XU = GPR.predict(test_XU, return_cov=True)[1]\n",
    "\n",
    "        print(cov_mat_XU)\n",
    "        print(cov_mat_XU.shape)\n",
    "        \n",
    "        XX_cov = cov_mat_XU[:i+1,:i+1]\n",
    "        #print(XX_cov.shape)\n",
    "        UU_cov = cov_mat_XU[i+1:cov_mat_XU.shape[0], i+1:cov_mat_XU.shape[0]]\n",
    "        #print(UU_cov.shape)\n",
    "        \n",
    "        ## calculate \n",
    "        det_XU = det(cov_mat_XU)\n",
    "        det_XX = det(XX_cov)\n",
    "        det_UU = det(UU_cov)\n",
    "\n",
    "        print(\"det_XU = \" + str(det_XU))\n",
    "        print(\"log(det_XU) = \" + str(np.log(det_XU)))\n",
    "        print(\"det_XX = \" + str(det_XX))\n",
    "        print(\"log(det_XX) = \" + str(np.log(det_XX)))\n",
    "        print(\"det_UU = \" + str(det_UU))\n",
    "        print(\"log(det_UU) = \" + str(np.log(det_UU)))\n",
    "        if det_XU == 0:\n",
    "            print(\"skipping \" + str(i))\n",
    "        else:\n",
    "            mi_star = 0.5*np.log((det_XX * det_UU) / (det_XU))\n",
    "            alt_mi_star = 0.5*(np.log(det_XX) + np.log(det_UU) - np.log (det_XU))\n",
    "            print(\"mi = \" + str(mi_star))\n",
    "            print(\"alternative mi = \" + str(alt_mi_star))\n",
    "            MI = np.append(MI, mi_star)\n",
    "\n",
    "    return MI"
   ]
  },
  {
   "cell_type": "code",
   "execution_count": 4,
   "metadata": {},
   "outputs": [],
   "source": [
    "def STVGP_mutual_info(GP, k, A_df, U_df, t, verbose=1):\n",
    "    '''\n",
    "    GP : ST-VGP model\n",
    "    k : int : number of sensors to be placed\n",
    "    A_df : pd.DataFrame : sensor sites of optimal mutual information; columns = [\"t\", \"latitude\", \"longitude\", \"scaled_latitude\", \"scaled_longitude\"]\n",
    "    U_df : pd.DataFrame : locations where sensors cannot be placed\n",
    "    t : int : time index\n",
    "    '''\n",
    "    MI = np.array([],dtype=float)\n",
    "\n",
    "    for i in range(k):\n",
    "        A_df[\"t\"] = t\n",
    "        A = A_df[[\"scaled_latitude\", \"scaled_longitude\"]].values\n",
    "        U_df[\"t\"] = t\n",
    "        U = U_df[[\"scaled_latitude\", \"scaled_longitude\"]].values\n",
    "\n",
    "        \n",
    "        ## grab first n sensors placed\n",
    "        n = np.arange(0,i+1)\n",
    "        test_X = A[n,:].reshape(i+1, A.shape[1])\n",
    "\n",
    "        ## add in U\n",
    "        yA_R = np.append(test_X, U, axis=0)\n",
    "\n",
    "        yA_t = np.array([[t]])\n",
    "        yA_R = np.tile(yA_R, [yA_t.shape[0], 1, 1])\n",
    "        yA_mean, cov_mat_XU = GP.likelihood_cov(X=yA_t, R=yA_R)\n",
    "\n",
    "        if verbose:\n",
    "            print(cov_mat_XU)\n",
    "            print(cov_mat_XU.shape)\n",
    "        \n",
    "        XX_cov = cov_mat_XU[:i+1,:i+1]\n",
    "        #print(XX_cov.shape)\n",
    "        UU_cov = cov_mat_XU[i+1:cov_mat_XU.shape[0], i+1:cov_mat_XU.shape[0]]\n",
    "        #print(UU_cov.shape)\n",
    "        \n",
    "        ## calculate \n",
    "        det_XU = det(cov_mat_XU)\n",
    "        det_XX = det(XX_cov)\n",
    "        det_UU = det(UU_cov)\n",
    "\n",
    "        if verbose: \n",
    "            print(\"det_XU = \" + str(det_XU))\n",
    "            print(\"log(det_XU) = \" + str(np.log(det_XU)))\n",
    "            print(\"det_XX = \" + str(det_XX))\n",
    "            print(\"log(det_XX) = \" + str(np.log(det_XX)))\n",
    "            print(\"det_UU = \" + str(det_UU))\n",
    "            print(\"log(det_UU) = \" + str(np.log(det_UU)))\n",
    "        if det_XU == 0:\n",
    "            print(\"skipping \" + str(i))\n",
    "        else:\n",
    "            mi_star = 0.5*np.log((det_XX * det_UU) / (det_XU))\n",
    "            # alt_mi_star = 0.5*(np.log(det_XX) + np.log(det_UU) - np.log (det_XU))\n",
    "            print(f\"mi ({i+1})= {mi_star}\")\n",
    "            # print(\"alternative mi = \" + str(alt_mi_star))\n",
    "            MI = np.append(MI, mi_star)\n",
    "            \n",
    "    return MI"
   ]
  },
  {
   "cell_type": "code",
   "execution_count": 5,
   "metadata": {},
   "outputs": [],
   "source": [
    "model_name = 'STSVGP_MODEL_3207'\n",
    "model, df, train_df, test_df, scalers = load_model(model_name)\n",
    "\n",
    "# path = f\"../gp-models/GPR-models/ST-SVGP/{model_name}/{model_name}\"\n",
    "# model = pickle.load(open(f\"{path}_model.sav\", 'rb'))\n",
    "# scalers = pickle.load(open(f\"{path}_scalers.sav\", 'rb'))"
   ]
  },
  {
   "cell_type": "code",
   "execution_count": 6,
   "metadata": {},
   "outputs": [
    {
     "ename": "FileNotFoundError",
     "evalue": "[Errno 2] No such file or directory: '../optimization/krause-output/STSVGP_MODEL_3207_mutual_info_k_100_likelihood_df.sav'",
     "output_type": "error",
     "traceback": [
      "\u001b[0;31m---------------------------------------------------------------------------\u001b[0m",
      "\u001b[0;31mFileNotFoundError\u001b[0m                         Traceback (most recent call last)",
      "\u001b[0;32m/var/folders/6c/3n2fd4rj4l3gj84562cjz0kr0000gn/T/ipykernel_93565/1703285390.py\u001b[0m in \u001b[0;36m<module>\u001b[0;34m\u001b[0m\n\u001b[0;32m----> 1\u001b[0;31m \u001b[0mA_df\u001b[0m \u001b[0;34m=\u001b[0m \u001b[0mpickle\u001b[0m\u001b[0;34m.\u001b[0m\u001b[0mload\u001b[0m\u001b[0;34m(\u001b[0m\u001b[0mopen\u001b[0m\u001b[0;34m(\u001b[0m\u001b[0;34mf'../optimization/krause-output/{model_name}_mutual_info_k_100_likelihood_df.sav'\u001b[0m\u001b[0;34m,\u001b[0m \u001b[0;34m'rb'\u001b[0m\u001b[0;34m)\u001b[0m\u001b[0;34m)\u001b[0m\u001b[0;34m\u001b[0m\u001b[0;34m\u001b[0m\u001b[0m\n\u001b[0m\u001b[1;32m      2\u001b[0m \u001b[0;31m# scale coordinates\u001b[0m\u001b[0;34m\u001b[0m\u001b[0;34m\u001b[0m\u001b[0;34m\u001b[0m\u001b[0m\n\u001b[1;32m      3\u001b[0m \u001b[0mk\u001b[0m \u001b[0;34m=\u001b[0m \u001b[0mA_df\u001b[0m\u001b[0;34m.\u001b[0m\u001b[0mshape\u001b[0m\u001b[0;34m[\u001b[0m\u001b[0;36m0\u001b[0m\u001b[0;34m]\u001b[0m\u001b[0;34m\u001b[0m\u001b[0;34m\u001b[0m\u001b[0m\n\u001b[1;32m      4\u001b[0m \u001b[0;32mfor\u001b[0m \u001b[0mfeature\u001b[0m \u001b[0;32min\u001b[0m \u001b[0mscalers\u001b[0m\u001b[0;34m:\u001b[0m\u001b[0;34m\u001b[0m\u001b[0;34m\u001b[0m\u001b[0m\n\u001b[1;32m      5\u001b[0m     \u001b[0mA_df\u001b[0m\u001b[0;34m[\u001b[0m\u001b[0;34mf\"scaled_{feature}\"\u001b[0m\u001b[0;34m]\u001b[0m \u001b[0;34m=\u001b[0m \u001b[0mscalers\u001b[0m\u001b[0;34m[\u001b[0m\u001b[0mfeature\u001b[0m\u001b[0;34m]\u001b[0m\u001b[0;34m.\u001b[0m\u001b[0mtransform\u001b[0m\u001b[0;34m(\u001b[0m\u001b[0mA_df\u001b[0m\u001b[0;34m[\u001b[0m\u001b[0;34m[\u001b[0m\u001b[0mfeature\u001b[0m\u001b[0;34m]\u001b[0m\u001b[0;34m]\u001b[0m\u001b[0;34m.\u001b[0m\u001b[0mvalues\u001b[0m\u001b[0;34m)\u001b[0m\u001b[0;31m#+0.00001*np.random.rand(k, 1)\u001b[0m\u001b[0;34m\u001b[0m\u001b[0;34m\u001b[0m\u001b[0m\n",
      "\u001b[0;31mFileNotFoundError\u001b[0m: [Errno 2] No such file or directory: '../optimization/krause-output/STSVGP_MODEL_3207_mutual_info_k_100_likelihood_df.sav'"
     ]
    }
   ],
   "source": [
    "A_df = pickle.load(open(f'../optimization/krause-output/{model_name}_mutual_info_k_100_likelihood_df.sav', 'rb'))\n",
    "# scale coordinates\n",
    "k = A_df.shape[0]\n",
    "for feature in scalers:\n",
    "    A_df[f\"scaled_{feature}\"] = scalers[feature].transform(A_df[[feature]].values)#+0.00001*np.random.rand(k, 1)\n",
    "A_df"
   ]
  },
  {
   "cell_type": "code",
   "execution_count": 7,
   "metadata": {},
   "outputs": [
    {
     "data": {
      "image/png": "[encoded data removed]",
      "text/plain": [
       "<Figure size 432x288 with 1 Axes>"
      ]
     },
     "metadata": {
      "needs_background": "light"
     },
     "output_type": "display_data"
    },
    {
     "data": {
      "image/png": "[encoded data removed]",
      "text/plain": [
       "<Figure size 432x288 with 1 Axes>"
      ]
     },
     "metadata": {
      "needs_background": "light"
     },
     "output_type": "display_data"
    },
    {
     "data": {
      "image/png": "[encoded data removed]",
      "text/plain": [
       "<Figure size 432x288 with 1 Axes>"
      ]
     },
     "metadata": {
      "needs_background": "light"
     },
     "output_type": "display_data"
    }
   ],
   "source": [
    "S_df, U_df = generate_placement_sets(df, scalers, n=1000, plot=True)"
   ]
  },
  {
   "cell_type": "code",
   "execution_count": 8,
   "metadata": {},
   "outputs": [],
   "source": [
    "t = 0"
   ]
  },
  {
   "cell_type": "code",
   "execution_count": 9,
   "metadata": {},
   "outputs": [
    {
     "name": "stderr",
     "output_type": "stream",
     "text": [
      "WARNING:absl:No GPU/TPU found, falling back to CPU. (Set TF_CPP_MIN_LOG_LEVEL=0 and rerun for more info.)\n"
     ]
    },
    {
     "name": "stdout",
     "output_type": "stream",
     "text": [
      "mi (1)= 0.19458150759544435\n",
      "mi (2)= 0.40084208991848824\n",
      "mi (3)= 0.5814094725184273\n",
      "mi (4)= 0.8102561269703357\n",
      "mi (5)= 0.9610950700952268\n",
      "mi (6)= 1.1406579472167495\n",
      "mi (7)= 1.3275201120910103\n",
      "mi (8)= 1.5228693170510599\n",
      "mi (9)= 1.842471691181264\n",
      "mi (10)= 2.043360226022106\n",
      "mi (11)= 2.3391379275819077\n",
      "mi (12)= 2.5554854220903382\n",
      "mi (13)= 2.8073021863283993\n",
      "mi (14)= 3.0301157697916277\n",
      "mi (15)= 3.2465248823938744\n",
      "mi (16)= 3.3603557417288354\n",
      "mi (17)= 3.564450763119529\n",
      "mi (18)= 3.623011528962924\n",
      "mi (19)= 3.8196546750227265\n",
      "mi (20)= 3.850745215965245\n",
      "mi (21)= 3.9436129338947743\n",
      "mi (22)= 4.065596898030339\n",
      "mi (23)= 4.1809405287067705\n",
      "mi (24)= 4.215274105491147\n",
      "mi (25)= 4.265681671099951\n",
      "mi (26)= 4.329586804852282\n",
      "mi (27)= 4.3822018400788\n",
      "mi (28)= 4.477187392949234\n",
      "mi (29)= 4.511920776246438\n",
      "mi (30)= 4.549837290201094\n",
      "mi (31)= 4.611444538577998\n",
      "mi (32)= 4.648328600556831\n",
      "mi (33)= 4.806619341198191\n",
      "mi (34)= 4.93328947077017\n",
      "mi (35)= 4.999555932844432\n",
      "mi (36)= 5.074459688012837\n",
      "mi (37)= 5.113706349779569\n",
      "mi (38)= 5.176356117080636\n",
      "mi (39)= 5.293185614811861\n",
      "mi (40)= 5.301034515039521\n",
      "mi (41)= 5.3411482903560765\n",
      "mi (42)= 5.380781861884747\n",
      "mi (43)= 5.414999917824267\n",
      "mi (44)= 5.467026553844823\n",
      "mi (45)= 5.520088227959155\n",
      "mi (46)= 5.54056890292498\n",
      "mi (47)= 5.6114899119537345\n",
      "mi (48)= 5.710823092337914\n",
      "mi (49)= 5.7541849966012855\n",
      "mi (50)= 5.78162727432133\n",
      "mi (51)= 5.803662207427028\n",
      "mi (52)= 5.827850603130405\n",
      "mi (53)= 5.839540343359664\n",
      "mi (54)= 5.8487651628695465\n",
      "mi (55)= 5.944940992886994\n",
      "mi (56)= 5.963705230708492\n",
      "mi (57)= 6.002956592089433\n",
      "mi (58)= 6.1075872591039335\n",
      "mi (59)= 6.1827884104657365\n",
      "mi (60)= 6.229445298236592\n",
      "mi (61)= 6.290826222288317\n",
      "mi (62)= 6.363059162449442\n",
      "mi (63)= 6.405500032640253\n",
      "mi (64)= 6.434850379110348\n",
      "mi (65)= 6.469384215997764\n",
      "mi (66)= 6.479146453467043\n",
      "mi (67)= 6.489031407715753\n",
      "mi (68)= 6.532176479687322\n",
      "mi (69)= 6.54336819181764\n",
      "mi (70)= 6.5631541987840905\n",
      "mi (71)= 6.570698261816111\n",
      "mi (72)= 6.595462515580981\n",
      "mi (73)= 6.643819018831594\n",
      "mi (74)= 6.650284966247024\n",
      "mi (75)= 6.658490090852029\n",
      "mi (76)= 6.698750683363224\n",
      "mi (77)= 6.705345666070488\n",
      "mi (78)= 6.7320050764584165\n",
      "mi (79)= 6.748815976952609\n",
      "mi (80)= 6.763508143398559\n",
      "mi (81)= 6.785223968906841\n",
      "mi (82)= 6.826079656934985\n",
      "mi (83)= 6.845965171989997\n",
      "mi (84)= 6.857140255308684\n",
      "mi (85)= 6.8788315332235195\n",
      "mi (86)= 6.886561508230205\n",
      "mi (87)= 6.892835587372323\n",
      "mi (88)= 6.905396396033494\n",
      "mi (89)= 6.908490499896395\n",
      "mi (90)= 6.950376878352097\n",
      "mi (91)= 6.979876264814602\n",
      "mi (92)= 6.984100457756678\n",
      "mi (93)= 6.990524363869287\n",
      "mi (94)= 7.000794564705876\n",
      "mi (95)= 7.019056348159838\n",
      "mi (96)= 7.040740242517053\n",
      "mi (97)= 7.045987425557889\n",
      "mi (98)= 7.049402125549737\n",
      "mi (99)= 7.059295443006845\n",
      "mi (100)= 7.074708899963231\n"
     ]
    },
    {
     "data": {
      "text/plain": [
       "array([0.19458151, 0.40084209, 0.58140947, 0.81025613, 0.96109507,\n",
       "       1.14065795, 1.32752011, 1.52286932, 1.84247169, 2.04336023,\n",
       "       2.33913793, 2.55548542, 2.80730219, 3.03011577, 3.24652488,\n",
       "       3.36035574, 3.56445076, 3.62301153, 3.81965468, 3.85074522,\n",
       "       3.94361293, 4.0655969 , 4.18094053, 4.21527411, 4.26568167,\n",
       "       4.3295868 , 4.38220184, 4.47718739, 4.51192078, 4.54983729,\n",
       "       4.61144454, 4.6483286 , 4.80661934, 4.93328947, 4.99955593,\n",
       "       5.07445969, 5.11370635, 5.17635612, 5.29318561, 5.30103452,\n",
       "       5.34114829, 5.38078186, 5.41499992, 5.46702655, 5.52008823,\n",
       "       5.5405689 , 5.61148991, 5.71082309, 5.754185  , 5.78162727,\n",
       "       5.80366221, 5.8278506 , 5.83954034, 5.84876516, 5.94494099,\n",
       "       5.96370523, 6.00295659, 6.10758726, 6.18278841, 6.2294453 ,\n",
       "       6.29082622, 6.36305916, 6.40550003, 6.43485038, 6.46938422,\n",
       "       6.47914645, 6.48903141, 6.53217648, 6.54336819, 6.5631542 ,\n",
       "       6.57069826, 6.59546252, 6.64381902, 6.65028497, 6.65849009,\n",
       "       6.69875068, 6.70534567, 6.73200508, 6.74881598, 6.76350814,\n",
       "       6.78522397, 6.82607966, 6.84596517, 6.85714026, 6.87883153,\n",
       "       6.88656151, 6.89283559, 6.9053964 , 6.9084905 , 6.95037688,\n",
       "       6.97987626, 6.98410046, 6.99052436, 7.00079456, 7.01905635,\n",
       "       7.04074024, 7.04598743, 7.04940213, 7.05929544, 7.0747089 ])"
      ]
     },
     "execution_count": 9,
     "metadata": {},
     "output_type": "execute_result"
    }
   ],
   "source": [
    "MI = STVGP_mutual_info(model, k, A_df, U_df, t, verbose=0)\n",
    "MI"
   ]
  },
  {
   "cell_type": "code",
   "execution_count": 10,
   "metadata": {},
   "outputs": [
    {
     "data": {
      "text/plain": [
       "Text(0.5, 0, 'Number of Sensors')"
      ]
     },
     "execution_count": 10,
     "metadata": {},
     "output_type": "execute_result"
    },
    {
     "data": {
      "image/png": "[encoded data removed]",
      "text/plain": [
       "<Figure size 432x288 with 1 Axes>"
      ]
     },
     "metadata": {
      "needs_background": "light"
     },
     "output_type": "display_data"
    }
   ],
   "source": [
    "import matplotlib.pyplot as plt\n",
    "import numpy as np\n",
    "\n",
    "# MI_placeholder = [np.log(i) for i in range(k)]\n",
    "# plt.plot(list(range(k)), MI_placeholder)\n",
    "\n",
    "plt.plot(list(range(1, k+1)), MI)\n",
    "plt.grid()\n",
    "plt.title('Mutual Information Gain')\n",
    "plt.ylabel('Mutual Information')\n",
    "plt.xlabel('Number of Sensors')"
   ]
  },
  {
   "cell_type": "code",
   "execution_count": null,
   "metadata": {},
   "outputs": [],
   "source": []
  }
 ],
 "metadata": {
  "interpreter": {
   "hash": "aee8b7b246df8f9039afb4144a1f6fd8d2ca17a180786b69acc140d282b71a49"
  },
  "kernelspec": {
   "display_name": "Python 3.9.7 64-bit",
   "language": "python",
   "name": "python3"
  },
  "language_info": {
   "codemirror_mode": {
    "name": "ipython",
    "version": 3
   },
   "file_extension": ".py",
   "mimetype": "text/x-python",
   "name": "python",
   "nbconvert_exporter": "python",
   "pygments_lexer": "ipython3",
   "version": "3.7.12"
  },
  "orig_nbformat": 4
 },
 "nbformat": 4,
 "nbformat_minor": 2
}
