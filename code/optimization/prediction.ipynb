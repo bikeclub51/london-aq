{
 "cells": [
  {
   "cell_type": "code",
   "execution_count": 1,
   "metadata": {},
   "outputs": [],
   "source": [
    "import dill as pickle\n",
    "import numpy as np\n",
    "import pandas as pd\n",
    "from datetime import datetime\n",
    "from generate_sample_U import *\n",
    "import geopandas as gpd\n",
    "import os"
   ]
  },
  {
   "cell_type": "code",
   "execution_count": 2,
   "metadata": {},
   "outputs": [],
   "source": [
    "def save_obj(filename, obj, obj_name):\n",
    "    path = f\"krause-output/\"\n",
    "    \n",
    "    if not os.path.exists(path):\n",
    "        os.makedirs(path)\n",
    "    \n",
    "    filepath = f\"{path}{filename}_{obj_name}.sav\"\n",
    "    pickle.dump(obj, open(filepath, \"wb\"))"
   ]
  },
  {
   "cell_type": "code",
   "execution_count": 3,
   "metadata": {},
   "outputs": [],
   "source": [
    "def load_obj(filename, obj_name):\n",
    "    path = f\"krause-output/{filename}_{obj_name}.sav\"\n",
    "    return pickle.load(open(path, 'rb'))"
   ]
  },
  {
   "cell_type": "code",
   "execution_count": 4,
   "metadata": {},
   "outputs": [],
   "source": [
    "def load_model(filename):\n",
    "    path = f\"../gp-models/GPR-models/ST-SVGP/{filename}/{filename}\"\n",
    "    model = pickle.load(open(f\"{path}_model.sav\", 'rb'))\n",
    "    df = pickle.load(open(f\"{path}_df.sav\", 'rb'))\n",
    "    train_df = pickle.load(open(f\"{path}_train_df.sav\", 'rb'))\n",
    "    test_df = pickle.load(open(f\"{path}_test_df.sav\", 'rb'))\n",
    "    val_df = pickle.load(open(f\"{path}_val_df.sav\", 'rb'))\n",
    "    scalers = pickle.load(open(f\"{path}_scalers.sav\", 'rb'))\n",
    "    \n",
    "    return model, df, train_df, test_df, val_df, scalers"
   ]
  },
  {
   "cell_type": "code",
   "execution_count": 5,
   "metadata": {},
   "outputs": [],
   "source": [
    "def call_predict(model, df, codes):\n",
    "    min_t, max_t = df[\"t\"].min(), df[\"t\"].max()\n",
    "    # t_plot = np.linspace(min_t, max_t, max_t-min_t+1).reshape(-1, 1)\n",
    "    t_plot = np.array([[0.]])\n",
    "    \n",
    "    scaled_lats, scaled_lons = [], []\n",
    "    for code in codes:\n",
    "        site_lat, site_lon = df.loc[df['code'] == code]['latitude'].unique()[0], df.loc[df['code'] == code]['longitude'].unique()[0]\n",
    "        scaled_lat = scalers['latitude'].transform(np.array([[site_lat]])).item()\n",
    "        scaled_lon = scalers['longitude'].transform(np.array([[site_lon]])).item()\n",
    "        scaled_lats.append([scaled_lat])\n",
    "        scaled_lons.append([scaled_lon])\n",
    "    \n",
    "    scaled_lats, scaled_lons = np.array(scaled_lats), np.array(scaled_lons)\n",
    "    R_plot = np.tile(np.hstack((scaled_lats, scaled_lons)), [t_plot.shape[0], 1, 1])\n",
    "\n",
    "    return model.predict(X=t_plot, R=R_plot)"
   ]
  },
  {
   "cell_type": "code",
   "execution_count": 6,
   "metadata": {},
   "outputs": [],
   "source": [
    "def call_cov(model, df, codes):\n",
    "    min_t, max_t = df[\"t\"].min(), df[\"t\"].max()\n",
    "    # t_plot = np.linspace(min_t, max_t, max_t-min_t+1).reshape(-1, 1)\n",
    "    t_plot = np.array([[0.]])\n",
    "    \n",
    "    scaled_lats, scaled_lons = [], []\n",
    "    for code in codes:\n",
    "        site_lat, site_lon = df.loc[df['code'] == code]['latitude'].unique()[0], df.loc[df['code'] == code]['longitude'].unique()[0]\n",
    "        scaled_lat = scalers['latitude'].transform(np.array([[site_lat]])).item()\n",
    "        scaled_lon = scalers['longitude'].transform(np.array([[site_lon]])).item()\n",
    "        scaled_lats.append([scaled_lat])\n",
    "        scaled_lons.append([scaled_lon])\n",
    "    \n",
    "    scaled_lats, scaled_lons = np.array(scaled_lats), np.array(scaled_lons)\n",
    "    R_plot = np.tile(np.hstack((scaled_lats, scaled_lons)), [t_plot.shape[0], 1, 1])\n",
    "\n",
    "    return model.cov(X=t_plot, R=R_plot)"
   ]
  },
  {
   "cell_type": "code",
   "execution_count": 7,
   "metadata": {},
   "outputs": [],
   "source": [
    "def call_predict_y(model, df, codes):\n",
    "    min_t, max_t = df[\"t\"].min(), df[\"t\"].max()\n",
    "    # t_plot = np.linspace(min_t, max_t, max_t-min_t+1).reshape(-1, 1)\n",
    "    t_plot = np.array([[0.]])\n",
    "    \n",
    "    scaled_lats, scaled_lons = [], []\n",
    "    for code in codes:\n",
    "        site_lat, site_lon = df.loc[df['code'] == code]['latitude'].unique()[0], df.loc[df['code'] == code]['longitude'].unique()[0]\n",
    "        scaled_lat = scalers['latitude'].transform(np.array([[site_lat]])).item()\n",
    "        scaled_lon = scalers['longitude'].transform(np.array([[site_lon]])).item()\n",
    "        scaled_lats.append([scaled_lat])\n",
    "        scaled_lons.append([scaled_lon])\n",
    "    \n",
    "    scaled_lats, scaled_lons = np.array(scaled_lats), np.array(scaled_lons)\n",
    "    R_plot = np.tile(np.hstack((scaled_lats, scaled_lons)), [t_plot.shape[0], 1, 1])\n",
    "\n",
    "    return model.predict_y(X=t_plot, R=R_plot)"
   ]
  },
  {
   "cell_type": "code",
   "execution_count": 8,
   "metadata": {},
   "outputs": [],
   "source": [
    "def call_likelihood_cov(model, df, codes):\n",
    "    min_t, max_t = df[\"t\"].min(), df[\"t\"].max()\n",
    "    # t_plot = np.linspace(min_t, max_t, max_t-min_t+1).reshape(-1, 1)\n",
    "    t_plot = np.array([[0.]])\n",
    "    \n",
    "    scaled_lats, scaled_lons = [], []\n",
    "    for code in codes:\n",
    "        site_lat, site_lon = df.loc[df['code'] == code]['latitude'].unique()[0], df.loc[df['code'] == code]['longitude'].unique()[0]\n",
    "        scaled_lat = scalers['latitude'].transform(np.array([[site_lat]])).item()\n",
    "        scaled_lon = scalers['longitude'].transform(np.array([[site_lon]])).item()\n",
    "        scaled_lats.append([scaled_lat])\n",
    "        scaled_lons.append([scaled_lon])\n",
    "    \n",
    "    scaled_lats, scaled_lons = np.array(scaled_lats), np.array(scaled_lons)\n",
    "    R_plot = np.tile(np.hstack((scaled_lats, scaled_lons)), [t_plot.shape[0], 1, 1])\n",
    "\n",
    "    return model.likelihood_cov(X=t_plot, R=R_plot)"
   ]
  },
  {
   "cell_type": "code",
   "execution_count": 9,
   "metadata": {},
   "outputs": [],
   "source": [
    "filename = \"STSVGP_MODEL_2936\""
   ]
  },
  {
   "cell_type": "code",
   "execution_count": 10,
   "metadata": {},
   "outputs": [],
   "source": [
    "model, df, train_df, test_df, val_df, scalers = load_model(filename)"
   ]
  },
  {
   "cell_type": "code",
   "execution_count": 11,
   "metadata": {},
   "outputs": [
    {
     "name": "stderr",
     "output_type": "stream",
     "text": [
      "WARNING:absl:No GPU/TPU found, falling back to CPU. (Set TF_CPP_MIN_LOG_LEVEL=0 and rerun for more info.)\n"
     ]
    }
   ],
   "source": [
    "pred_mean, pred_var = call_predict(model, df, [\"HK6\", \"KC2\", \"KC1\"])"
   ]
  },
  {
   "cell_type": "code",
   "execution_count": 12,
   "metadata": {},
   "outputs": [
    {
     "data": {
      "text/plain": [
       "(DeviceArray([52.34946478, 52.2275877 , 45.69269291], dtype=float64),\n",
       " DeviceArray([2.94179014, 2.36502559, 5.03170062], dtype=float64))"
      ]
     },
     "execution_count": 12,
     "metadata": {},
     "output_type": "execute_result"
    }
   ],
   "source": [
    "pred_mean, pred_var"
   ]
  },
  {
   "cell_type": "code",
   "execution_count": 13,
   "metadata": {},
   "outputs": [],
   "source": [
    "cov_mean, cov_var = call_cov(model, df, [\"HK6\", \"KC2\", \"KC1\"])"
   ]
  },
  {
   "cell_type": "code",
   "execution_count": 14,
   "metadata": {},
   "outputs": [
    {
     "data": {
      "text/plain": [
       "(DeviceArray([52.34946478, 52.2275877 , 45.69269291], dtype=float64),\n",
       " DeviceArray([[ 2.94179014, -0.39691312, -0.28498296],\n",
       "              [-0.39691312,  2.36502559,  1.17338958],\n",
       "              [-0.28498296,  1.17338958,  5.03170062]], dtype=float64))"
      ]
     },
     "execution_count": 14,
     "metadata": {},
     "output_type": "execute_result"
    }
   ],
   "source": [
    "cov_mean, cov_var"
   ]
  },
  {
   "cell_type": "code",
   "execution_count": 15,
   "metadata": {},
   "outputs": [
    {
     "name": "stdout",
     "output_type": "stream",
     "text": [
      "[ 9.29094885  8.7141843  11.38085933]\n",
      "(3,)\n",
      "(3,)\n"
     ]
    }
   ],
   "source": [
    "likelihood_mean, likelihood_var = call_likelihood_cov(model, df, [\"HK6\", \"KC2\", \"KC1\"])"
   ]
  },
  {
   "cell_type": "code",
   "execution_count": 16,
   "metadata": {},
   "outputs": [
    {
     "data": {
      "text/plain": [
       "(DeviceArray([52.34946478, 52.2275877 , 45.69269291], dtype=float64),\n",
       " DeviceArray([[ 9.29094885, -0.39691312, -0.28498296],\n",
       "              [-0.39691312,  8.7141843 ,  1.17338958],\n",
       "              [-0.28498296,  1.17338958, 11.38085933]], dtype=float64))"
      ]
     },
     "execution_count": 16,
     "metadata": {},
     "output_type": "execute_result"
    }
   ],
   "source": [
    "likelihood_mean, likelihood_var"
   ]
  },
  {
   "cell_type": "code",
   "execution_count": 17,
   "metadata": {},
   "outputs": [],
   "source": [
    "pred_y_mean, pred_y_var = call_predict_y(model, df, [\"HK6\", \"KC2\", \"KC1\"])"
   ]
  },
  {
   "cell_type": "code",
   "execution_count": 18,
   "metadata": {},
   "outputs": [
    {
     "data": {
      "text/plain": [
       "(DeviceArray([52.34946478, 52.2275877 , 45.69269291], dtype=float64),\n",
       " DeviceArray([ 9.29094885,  8.7141843 , 11.38085933], dtype=float64))"
      ]
     },
     "execution_count": 18,
     "metadata": {},
     "output_type": "execute_result"
    }
   ],
   "source": [
    "pred_y_mean, pred_y_var"
   ]
  },
  {
   "cell_type": "code",
   "execution_count": null,
   "metadata": {},
   "outputs": [
    {
     "data": {
      "text/plain": [
       "DeviceArray([[ 9.29094885,  0.        ,  0.        ],\n",
       "             [ 0.        ,  8.7141843 ,  0.        ],\n",
       "             [ 0.        ,  0.        , 11.38085933]], dtype=float64)"
      ]
     },
     "execution_count": 20,
     "metadata": {},
     "output_type": "execute_result"
    }
   ],
   "source": [
    "likelihood_var-cov_var"
   ]
  },
  {
   "cell_type": "code",
   "execution_count": null,
   "metadata": {},
   "outputs": [],
   "source": []
  }
 ],
 "metadata": {
  "interpreter": {
   "hash": "55e14b2c4004c25fab60d9f834128c32cf94a0a32ecd2b4f54f45426be663a89"
  },
  "kernelspec": {
   "display_name": "Python 3.7.12 ('london-aq')",
   "language": "python",
   "name": "python3"
  },
  "language_info": {
   "codemirror_mode": {
    "name": "ipython",
    "version": 3
   },
   "file_extension": ".py",
   "mimetype": "text/x-python",
   "name": "python",
   "nbconvert_exporter": "python",
   "pygments_lexer": "ipython3",
   "version": "3.7.12"
  },
  "orig_nbformat": 4
 },
 "nbformat": 4,
 "nbformat_minor": 2
}
