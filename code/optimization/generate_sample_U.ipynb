{
 "cells": [
  {
   "cell_type": "markdown",
   "metadata": {},
   "source": [
    "## Python notebook version of generate_sample_U.py"
   ]
  },
  {
   "cell_type": "code",
   "execution_count": 129,
   "metadata": {},
   "outputs": [],
   "source": [
    "'''\n",
    "Generate set S of sensor placements and set U of locations which we are interested in but cannot place a sensor.\n",
    "    S : Dataframe of network sensor locations\n",
    "    U : Dataframe of uniformally distributed placements in the LAQN in raw latitude longitdue coordinates.\n",
    "'''\n",
    "from turtle import title\n",
    "import pandas as pd\n",
    "import math\n",
    "import json\n",
    "import matplotlib.pyplot as plt\n",
    "from scipy.spatial import Delaunay\n",
    "import numpy as np\n",
    "import random\n",
    "from shapely.geometry import shape, GeometryCollection, Point, Polygon, MultiPolygon, LinearRing\n",
    "import geopandas\n",
    "from shapely.geometry.polygon import Polygon\n",
    "# from shapely.geometry import Polygon, Point"
   ]
  },
  {
   "cell_type": "code",
   "execution_count": 232,
   "metadata": {},
   "outputs": [],
   "source": [
    "def generate_placement_sets(n=10000, plot=False):\n",
    "    '''\n",
    "    param n : int : the number of placements of interest in set U\n",
    "    returns : (pd.DataFrame, pd.DataFrame) : tuple of sets in order (S, U)\n",
    "    '''\n",
    "    header_list = [\"SiteCode\", \"Latitude\", \"Longitude\"]\n",
    "    sensor_coords_df = pd.read_csv(\"../data-collection/LAQN_API_data/site_coordinates.csv\", names=header_list)\n",
    "\n",
    "    S_df = generate_set_S(sensor_coords_df, plot=False)\n",
    "    U_df = generate_set_U(sensor_coords_df, n, plot)\n",
    "\n",
    "    return S_df, U_df"
   ]
  },
  {
   "cell_type": "code",
   "execution_count": 233,
   "metadata": {},
   "outputs": [],
   "source": [
    "def generate_set_S(sensor_coords_df, plot=False):\n",
    "    \n",
    "    ## site placements in original coordinates \n",
    "    set_S = sensor_coords_df.loc[:, sensor_coords_df.columns.drop([\"SiteCode\"])]\n",
    "    if plot:\n",
    "        set_S.plot(x=\"Longitude\", y=\"Latitude\", kind=\"scatter\",\n",
    "            title=\"Set S: Sensor Placements\")\n",
    "        plt.show()\n",
    "\n",
    "    ## site placements in normalized coordinate locations\n",
    "    # set_S = normalize(coordinates_df=sensor_coords_df)\n",
    "    # set_S.plot(x=\"NormalizedX\", y=\"NormalizedY\", kind=\"scatter\",\n",
    "    #     colormap=\"YlOrRd\")\n",
    "    # plt.show()\n",
    "\n",
    "    return set_S"
   ]
  },
  {
   "cell_type": "code",
   "execution_count": 240,
   "metadata": {},
   "outputs": [],
   "source": [
    "def generate_set_U(sensor_coords_df, n, plot=False):\n",
    "    '''\n",
    "    Given a dataframe of all sensor coordinates and integer n, returns dataframe of n U placements that are \n",
    "    uniformly distributed within the London boundaries. These placements do not overlap with sensor coordinates.\n",
    "    '''\n",
    "    ## retrieve London coordinate boundaries\n",
    "    london_burough_boundaries_df = get_london_boundaries()\n",
    "    london_gdf = geopandas.GeoDataFrame(\n",
    "        london_burough_boundaries_df, geometry=geopandas.points_from_xy(london_burough_boundaries_df.Longitude, london_burough_boundaries_df.Latitude))\n",
    "    \n",
    "    ## find max and min latitude and longitude coordinates, extremes\n",
    "    min_latitude = math.floor(london_burough_boundaries_df.Latitude.min())\n",
    "    max_latitude = math.ceil(london_burough_boundaries_df.Latitude.max())\n",
    "    \n",
    "    min_longitude = math.floor(london_burough_boundaries_df.Longitude.min())\n",
    "    max_longitude = math.ceil(london_burough_boundaries_df.Longitude.max())\n",
    "    \n",
    "    ## produce equally distributed values of latitude and longitude coordinates within London max and min boundaries\n",
    "    latitudes = np.linspace(min_latitude, max_latitude, int(n**0.5))\n",
    "    longitudes =  np.linspace(min_longitude, max_longitude, int(n**0.5))\n",
    "    u_sites = {'code': [], 'Latitude': [], 'Longitude': []}\n",
    "    \n",
    "    ## creates map_df that contains shapely polygons for each burough\n",
    "    fp = \"../data-collection/london_boroughs.json\"\n",
    "    map_df = geopandas.read_file(fp).to_crs(\"EPSG:4326\")\n",
    "    map_df = map_df.explode(index_parts=False)\n",
    "\n",
    "    ## creates U locations with corresponding code\n",
    "    for i in range(int(n**0.5)):\n",
    "        for j in range(int(n**0.5)):\n",
    "            site_code = f\"U_{i*j}\" # U location code\n",
    "            num_decimal_places = 13\n",
    "            float_long = round(float(longitudes[i]), num_decimal_places)\n",
    "            float_lat = round(float(latitudes[j]), num_decimal_places)\n",
    "            \n",
    "            ## creates Point instance of coordinate and a bounding polygon that contains the point\n",
    "            coord = Point(float_long, float_lat)\n",
    "            poly_point = Polygon([(coord.x + lam_lat, coord.y + lam_lon) for lam_lat in p_range for lam_lon in p_range])\n",
    "            \n",
    "            ## finds whether the bounding coordinate polygon intersects with the burough boundaries\n",
    "            for burough in map_df.geometry:\n",
    "                if burough.intersects(poly_point):                   \n",
    "                    u_sites['code'].append(site_code)\n",
    "                    u_sites['Latitude'].append(latitudes[j])\n",
    "                    u_sites['Longitude'].append(longitudes[i])\n",
    "\n",
    "    u_sites_df = pd.DataFrame(u_sites)\n",
    "    \n",
    "    ## removes current sensor locations from uniformly coordinate placements\n",
    "    intersection_locations = pd.merge(u_sites_df, sensor_coords_df, how='inner', on=['Latitude', 'Longitude'])\n",
    "    set_U = pd.concat([u_sites_df, intersection_locations]).drop_duplicates(keep=False)\n",
    "\n",
    "    ## plot london boundaries and selected locations of set U\n",
    "    if plot:\n",
    "        map_df.plot()\n",
    "        plt.show()\n",
    "\n",
    "        set_U.plot(x=\"Longitude\", y=\"Latitude\", title=\"Set U\", kind=\"scatter\")\n",
    "        plt.show()\n",
    "\n",
    "    return set_U"
   ]
  },
  {
   "cell_type": "code",
   "execution_count": 235,
   "metadata": {},
   "outputs": [],
   "source": [
    "def normalize(coordinates_df):\n",
    "    '''\n",
    "    given dataframe of coordinates in latitude and longitude, returns a dataframe of sensor locations\n",
    "    with normalized coordinates to area of interest\n",
    "\n",
    "    param coordinates_df : pd.DataFrame : sensor locations with the following column: SiteCode, Latitude, Longitude\n",
    "        - Site Code Format: {A-Z}{A-Z}{0-9}, Example: “TD0”\n",
    "\n",
    "    returns : pd.DataFrame : dataframe including sensor locatiosn in format: SiteCode, X, Y\n",
    "    '''\n",
    "    normalized_coords_df = pd.DataFrame(columns=[\"SiteCode\", \"NormalizedX\", \"NormalizedY\"])\n",
    "   \n",
    "    min_longitude = coordinates_df.Longitude.min()\n",
    "    max_longitude = coordinates_df.Longitude.max()\n",
    "    delta_longitude = max_longitude - min_longitude\n",
    "\n",
    "    min_latitude = coordinates_df.Latitude.min()\n",
    "    max_latitude = coordinates_df.Latitude.max()\n",
    "    delta_latitude = max_latitude - min_latitude\n",
    "    \n",
    "    for index, row in coordinates_df.iterrows():\n",
    "        norm_x = (row.Longitude - min_longitude) / delta_longitude\n",
    "        norm_y = (row.Latitude - min_latitude) / delta_latitude \n",
    "        normalized_dict = {\"SiteCode\": row.SiteCode, \"NormalizedX\": norm_x, \"NormalizedY\": norm_y}\n",
    "        normalized_coords_df = normalized_coords_df.append(normalized_dict, ignore_index = True)\n",
    "\n",
    "    return normalized_coords_df"
   ]
  },
  {
   "cell_type": "code",
   "execution_count": 236,
   "metadata": {},
   "outputs": [],
   "source": [
    "def get_london_boundaries():\n",
    "    '''\n",
    "    Returns dataframe of all burough boundaries with columns [latitude, longitude]\n",
    "    '''\n",
    "    # if PyShp shapefile library is installed, can read shapefile\n",
    "    # shape = shapefile.Reader(\"code/data-collection/London_Borough_Excluding_MHW.shp\")\n",
    "\n",
    "    boundaries = []\n",
    "\n",
    "    london_burough_boundaries = json.load(open(\"../data-collection/london_boroughs.json\", ))\n",
    "    for burough in london_burough_boundaries[\"features\"]:\n",
    "        for coordinate in burough[\"geometry\"][\"coordinates\"][0][0]:\n",
    "            boundaries.append(coordinate)\n",
    "    \n",
    "    london_burough_boundaries_df = pd.DataFrame(boundaries, columns=['Longitude', 'Latitude'])\n",
    "    london_burough_boundaries_df = london_burough_boundaries_df[london_burough_boundaries_df.columns[::-1]]\n",
    "\n",
    "    np_burough_boundaries = london_burough_boundaries_df.to_numpy()\n",
    "    london_edges = alpha_shape(np_burough_boundaries, 0.25)\n",
    "    \n",
    "    # plt.figure()\n",
    "    # plt.axis('equal')\n",
    "    # plt.plot(np_burough_boundaries[:, 1], np_burough_boundaries[:, 0], '.')\n",
    "    # for i, j in london_edges:\n",
    "    #     plt.plot(np_burough_boundaries[[i, j], 1], np_burough_boundaries[[i, j], 0])\n",
    "    # plt.show()\n",
    "\n",
    "    return london_burough_boundaries_df\n"
   ]
  },
  {
   "cell_type": "code",
   "execution_count": 237,
   "metadata": {},
   "outputs": [],
   "source": [
    "'''\n",
    "Function retrieved from https://stackoverflow.com/questions/50549128/boundary-enclosing-a-given-set-of-points \n",
    "'''\n",
    "def alpha_shape(points, alpha, only_outer=True):\n",
    "    \"\"\"\n",
    "    Compute the alpha shape (concave hull) of a set of points.\n",
    "    :param points: np.array of shape (n,2) points.\n",
    "    :param alpha: alpha value.\n",
    "    :param only_outer: boolean value to specify if we keep only the outer border\n",
    "    or also inner edges.\n",
    "    :return: set of (i,j) pairs representing edges of the alpha-shape. (i,j) are\n",
    "    the indices in the points array.\n",
    "    \"\"\"\n",
    "    assert points.shape[0] > 3, \"Need at least four points\"\n",
    "\n",
    "    def add_edge(edges, i, j):\n",
    "        \"\"\"\n",
    "        Add an edge between the i-th and j-th points,\n",
    "        if not in the list already\n",
    "        \"\"\"\n",
    "        if (i, j) in edges or (j, i) in edges:\n",
    "            # already added\n",
    "            assert (j, i) in edges, \"Can't go twice over same directed edge right?\"\n",
    "            if only_outer:\n",
    "                # if both neighboring triangles are in shape, it's not a boundary edge\n",
    "                edges.remove((j, i))\n",
    "            return\n",
    "        edges.add((i, j))\n",
    "\n",
    "    tri = Delaunay(points)\n",
    "    edges = set()\n",
    "    # Loop over triangles:\n",
    "    # ia, ib, ic = indices of corner points of the triangle\n",
    "    for ia, ib, ic in tri.vertices:\n",
    "        pa = points[ia]\n",
    "        pb = points[ib]\n",
    "        pc = points[ic]\n",
    "        # Computing radius of triangle circumcircle\n",
    "        # www.mathalino.com/reviewer/derivation-of-formulas/derivation-of-formula-for-radius-of-circumcircle\n",
    "        a = np.sqrt((pa[0] - pb[0]) ** 2 + (pa[1] - pb[1]) ** 2)\n",
    "        b = np.sqrt((pb[0] - pc[0]) ** 2 + (pb[1] - pc[1]) ** 2)\n",
    "        c = np.sqrt((pc[0] - pa[0]) ** 2 + (pc[1] - pa[1]) ** 2)\n",
    "        s = (a + b + c) / 2.0\n",
    "        area = np.sqrt(s * (s - a) * (s - b) * (s - c))\n",
    "        circum_r = a * b * c / (4.0 * area)\n",
    "        if circum_r < alpha:\n",
    "            add_edge(edges, ia, ib)\n",
    "            add_edge(edges, ib, ic)\n",
    "            add_edge(edges, ic, ia)\n",
    "    return edges"
   ]
  },
  {
   "cell_type": "code",
   "execution_count": 239,
   "metadata": {},
   "outputs": [
    {
     "name": "stdout",
     "output_type": "stream",
     "text": [
      "N =  5000\n"
     ]
    },
    {
     "data": {
      "image/png": "[encoded data removed]",
      "text/plain": [
       "<Figure size 432x288 with 1 Axes>"
      ]
     },
     "metadata": {
      "needs_background": "light"
     },
     "output_type": "display_data"
    },
    {
     "data": {
      "image/png": "[encoded data removed]",
      "text/plain": [
       "<Figure size 432x288 with 1 Axes>"
      ]
     },
     "metadata": {
      "needs_background": "light"
     },
     "output_type": "display_data"
    }
   ],
   "source": [
    "n = 10000\n",
    "S_df, U_df = generate_placement_sets(n=n, plot=True)\n"
   ]
  }
 ],
 "metadata": {
  "interpreter": {
   "hash": "aee8b7b246df8f9039afb4144a1f6fd8d2ca17a180786b69acc140d282b71a49"
  },
  "kernelspec": {
   "display_name": "Python 3.9.7 64-bit",
   "language": "python",
   "name": "python3"
  },
  "language_info": {
   "codemirror_mode": {
    "name": "ipython",
    "version": 3
   },
   "file_extension": ".py",
   "mimetype": "text/x-python",
   "name": "python",
   "nbconvert_exporter": "python",
   "pygments_lexer": "ipython3",
   "version": "3.9.7"
  },
  "orig_nbformat": 4
 },
 "nbformat": 4,
 "nbformat_minor": 2
}
