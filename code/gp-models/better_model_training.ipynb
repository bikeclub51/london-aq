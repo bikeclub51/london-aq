{
 "cells": [
  {
   "cell_type": "code",
   "execution_count": 8,
   "id": "48364429",
   "metadata": {},
   "outputs": [],
   "source": [
    "from multiprocessing import pool\n",
    "import pandas as pd\n",
    "import numpy as np\n",
    "from datetime import datetime, timedelta, date\n",
    "from sklearn.gaussian_process import GaussianProcessRegressor\n",
    "import sklearn.gaussian_process.kernels as kernels\n",
    "from sklearn.model_selection import train_test_split\n",
    "from sklearn.preprocessing import StandardScaler\n",
    "import pickle\n",
    "import time\n",
    "import matplotlib.pyplot as plt\n",
    "import os\n",
    "import random\n",
    "from calendar import monthrange"
   ]
  },
  {
   "cell_type": "code",
   "execution_count": 64,
   "id": "2b214914",
   "metadata": {},
   "outputs": [],
   "source": [
    "def load_data(pollutant, data_path=\"data/\", time_step=None, time_range=None, season=None, day_of_week=None, time_of_day=None):\n",
    "    \"\"\"\n",
    "    :param pollutant: {\"CO\", \"NO2\", \"O3\", \"SO2\", \"PM10\", \"PM25\"}\n",
    "    :param data_path: path to data directory\n",
    "    :param time_step: if provided, {\"H\", \"D\", \"M\", \"Y\"}\n",
    "    :param time_range: if provided, get data within the given time_range, inclusive\n",
    "            If second element isn't provided, defaults to present day\n",
    "    :param season: true, false - creates columns for each seasons denoted by binary columns to the season datapoint belongs to\n",
    "            Winter: December, January, Ferbruary\n",
    "            Spring: March, April and May\n",
    "            Summer: June, July and August\n",
    "            Autumn: September, October and November\n",
    "    :param day_of_week: true, false\n",
    "            0 : weekday\n",
    "            1 : weekend\n",
    "    :param time_of_day: true, false\n",
    "            0 : daytime\n",
    "            1 : nighttime\n",
    "    \"\"\"\n",
    "    df = pd.read_csv(f\"{data_path}{pollutant}.csv\", parse_dates=[\"date\"])\n",
    "\n",
    "    # TODO: FILTER OUT NEGATIVE VALUES FROM DF\n",
    "    # get data within a given time range\n",
    "    if time_range:\n",
    "        start, end = time_range\n",
    "        if not end:\n",
    "            end = datetime.today\n",
    "        df = df.loc[(df[\"date\"] >= start) & (df[\"date\"] <= end)]\n",
    "\n",
    "    df = df.set_index(\"date\")\n",
    "    # daily, monthly, yearly\n",
    "    if time_step in {\"D\", \"M\", \"Y\"}:\n",
    "        index_format = {\"D\": \"%Y-%m-%d\", \"M\": \"%Y-%m\", \"Y\": \"%Y\"}\n",
    "        df = df.groupby(by=[\"code\"]).resample(time_step).mean().dropna().reset_index()\n",
    "        # df[\"date\"] = df[\"date\"].apply(lambda x: x.strftime(index_format[time_step]))\n",
    "\n",
    "    # seasonal buckets\n",
    "    # creates binary column for each season \n",
    "    # (1 represents that the data point is part of that season, 0 represents not part of season)\n",
    "    if season:\n",
    "        seasons = {\"winter\": [12, 1, 2], \n",
    "                \"spring\": [i for i in range(3, 6)], \n",
    "                \"summer\" : [i for i in range(6, 9)], \n",
    "                \"autumn\" : [i for i in range(9, 12)]}\n",
    "\n",
    "        df[\"Month\"] = pd.DatetimeIndex(df['date']).month\n",
    "        # print(df)\n",
    "\n",
    "        # define condition: month must be within seasonal month range\n",
    "        \n",
    "        for s in seasons:\n",
    "            # condition = (df.Month in seasons[season])\n",
    "            condition = ((df.Month >= seasons[s][0]) & (df.Month <=seasons[s][-1]))\n",
    "            if s == \"winter\":\n",
    "                condition = ((df.Month >= seasons[s][0]) | (df.Month <= seasons[s][-1]))\n",
    "            df[s] = np.where(condition, 1, 0)\n",
    "\n",
    "        # drop created month column\n",
    "        df = df.drop([\"Month\"], axis=1)\n",
    "        \n",
    "    # day of week buckets: weekday vs weekend\n",
    "    # creates binary column for 'day_of_week' (1 represents weekday, 0 represents weekend)\n",
    "    if day_of_week:\n",
    "        weekdays = [i for i in range(5)]\n",
    "        df[\"DayOfWeek\"] = pd.DatetimeIndex(df['date']).dayofweek\n",
    "        # condition = (df.DayOfWeek in weekdays)\n",
    "        condition = ((df.DayOfWeek >= weekdays[0]) & (df.DayOfWeek <= weekdays[-1]))\n",
    "\n",
    "        # add binary column denoting whether data point belongs to input day of week group\n",
    "        df['day_of_week'] = np.where(condition, 1, 0)\n",
    "        df = df.drop([\"DayOfWeek\"], axis=1)\n",
    "        \n",
    "    \n",
    "    # daytime (7am - 5pm) vs nighttime (5pm - 7am) buckets, according to London's sunrise and sunset times\n",
    "    # creates binary column for 'time_of_day' (1 represents daytime, 0 represents nighttime)\n",
    "    if time_of_day:\n",
    "        daytime_hours = [i for i in range(7, 18)]\n",
    "        df[\"Hour\"] = pd.DatetimeIndex(df['date']).hour\n",
    "        # condition = (df.Hour in daytime_hours)\n",
    "\n",
    "        condition = ((df.Hour >= daytime_hours[0]) & (df.Hour <= daytime_hours[-1]))\n",
    "        if time_of_day == \"night\":\n",
    "            condition = ((df.Hour >= daytime_hours[0]) | (df.Hour <= daytime_hours[-1]))\n",
    "\n",
    "        df[\"time_of_day\"] = np.where(condition, 1, 0)\n",
    "        df = df.drop([\"Hour\"], axis=1)\n",
    "\n",
    "    # generate time_step (t) column\n",
    "    df = df.sort_values(\"date\")\n",
    "    dates = df[\"date\"].values\n",
    "\n",
    "    t = -1\n",
    "    current_date = None\n",
    "    time_steps = []\n",
    "    for date in dates:\n",
    "        if date != current_date:\n",
    "            t += 1\n",
    "            current_date = date\n",
    "        time_steps.append(t)\n",
    "    df[\"t\"] = time_steps\n",
    "    \n",
    "    return df"
   ]
  },
  {
   "cell_type": "code",
   "execution_count": 61,
   "id": "6e4a04af",
   "metadata": {},
   "outputs": [],
   "source": [
    "def split_data(df, test_percent=0.2):\n",
    "    \"\"\"\n",
    "    returns: train_df, test_df, train_indices, test_indices\n",
    "    \"\"\"\n",
    "    N, M = df.shape\n",
    "    indices = np.arange(N)\n",
    "    train_indices, test_indices = train_test_split(indices, test_size=test_percent)\n",
    "    train_df, test_df = df.iloc[train_indices, :], df.iloc[test_indices, :]\n",
    "    return train_df, test_df"
   ]
  },
  {
   "cell_type": "code",
   "execution_count": 49,
   "id": "a65b6626",
   "metadata": {},
   "outputs": [],
   "source": [
    "def scale_data(train_df, test_df, features):\n",
    "    scalers = {}\n",
    "    for feature in features:\n",
    "        scaler = StandardScaler()\n",
    "        train_df[f\"scaled_{feature}\"] = scaler.fit_transform(train_df[[feature]].values)\n",
    "        test_df[f\"scaled_{feature}\"] = scaler.transform(test_df[[feature]].values)\n",
    "        scalers[feature] = scaler\n",
    "    return scalers"
   ]
  },
  {
   "cell_type": "code",
   "execution_count": 50,
   "id": "741eecc8",
   "metadata": {},
   "outputs": [],
   "source": [
    "def train_GPR_model(kernel, train_df, x_features, y_features):\n",
    "    model = GaussianProcessRegressor(kernel=kernel, alpha=1e-6, n_restarts_optimizer=2, normalize_y=True)\n",
    "    model.fit(train_df[x_features], train_df[y_features])\n",
    "    return model"
   ]
  },
  {
   "cell_type": "code",
   "execution_count": 51,
   "id": "185deb5d",
   "metadata": {},
   "outputs": [],
   "source": [
    "def save_model(filename, df, model, train_df, test_df, train_scalers):\n",
    "    path = f\"GPR-models/{filename}/\"\n",
    "    \n",
    "    if not os.path.exists(path):\n",
    "        os.makedirs(path)\n",
    "    \n",
    "    df_filename = f\"{path}{filename}_df.sav\"\n",
    "    model_filename = f\"{path}{filename}_model.sav\"\n",
    "    train_df_filename = f\"{path}{filename}_train_df.sav\"\n",
    "    test_df_filename = f\"{path}{filename}_test_df.sav\"\n",
    "    scalers_filename = f\"{path}{filename}_scalers.sav\"\n",
    "    pickle.dump(df, open(df_filename, \"wb\"))\n",
    "    pickle.dump(model, open(model_filename, \"wb\"))\n",
    "    pickle.dump(test_df, open(train_df_filename, \"wb\"))\n",
    "    pickle.dump(train_df, open(test_df_filename, \"wb\"))\n",
    "    pickle.dump(train_scalers, open(scalers_filename, \"wb\"))"
   ]
  },
  {
   "cell_type": "code",
   "execution_count": 52,
   "id": "953706d5",
   "metadata": {},
   "outputs": [],
   "source": [
    "def plot_model(model, train_df, test_df, x_fixed_features, x_features, y_features, scalers, codes, title=\"Predictions after training\", save_path=\"GPR_figures/\"):\n",
    "    min_t, max_t = df[\"t\"].min(), df[\"t\"].max()\n",
    "    time_steps = np.linspace(min_t, max_t, max_t-min_t+1)\n",
    "    start_date, end_date = df[\"date\"].min(), df[\"date\"].max()\n",
    "    delta = end_date - start_date\n",
    "    dates = [start_date + timedelta(days=i) for i in range(delta.days+1)]\n",
    "    \n",
    "    for code in codes:\n",
    "        plt.figure()\n",
    "        plt.subplots(facecolor=\"white\")\n",
    "        \n",
    "        site_train_df, site_test_df = train_df.loc[train_df[\"code\"] == code], test_df.loc[test_df[\"code\"] == code]\n",
    "        \n",
    "        # PREDICT POLLUTION AT SITE ACROSS ALL DATES IN TIME RANGE\n",
    "        site_prediction_df = pd.DataFrame({\"t\": time_steps})\n",
    "        for fixed_feature in x_fixed_features:\n",
    "            site_prediction_df[fixed_feature] = site_train_df.iloc[0][fixed_feature]\n",
    "        site_prediction_df = site_prediction_df[x_features]\n",
    "        \n",
    "        # PLOT PREDICTION\n",
    "        prediction_mean, prediction_std = model.predict(site_prediction_df, return_std=True)\n",
    "        prediction_mean, prediction_std = prediction_mean.flatten(), prediction_std.flatten()\n",
    "        (line,) = plt.plot(dates, prediction_mean, lw=1.5, label=\"Mean of predictive posterior\")\n",
    "        plt.fill_between(\n",
    "            dates,\n",
    "            prediction_mean-1.96*prediction_std,\n",
    "            prediction_mean+1.96*prediction_std,\n",
    "            color=line.get_color(),\n",
    "            alpha=0.6,\n",
    "            label=r\"95% confidence interval\"\n",
    "        )\n",
    "        \n",
    "        # PLOT OBSERVED (TRAIN) DATA\n",
    "        plt.plot(site_train_df[\"date\"], site_train_df[y_features], \"x\", label=\"Training observations\", alpha=0.9, color=\"grey\", linestyle=\"None\")\n",
    "        \n",
    "        # PREDICT TEST DATA\n",
    "        test_mean, test_std = model.predict(site_test_df[x_features], return_std=True)\n",
    "        test_mean, test_std = test_mean.flatten(), test_std.flatten()\n",
    "\n",
    "        # PLOT TEST ACTUAL VALUE\n",
    "        plt.plot(site_test_df[\"date\"], site_test_df[y_features], \".\", label=\"Testing actual value\", alpha=0.75, color=\"red\", linestyle=\"None\")\n",
    "        \n",
    "        # PLOT DIFFERENCE BETWEEN TEST PREDICTION AND ACTUAL VALUE\n",
    "        test_dates = site_test_df[\"date\"].values\n",
    "        plt.plot((test_dates, test_dates), (test_mean, site_test_df[y_features].values.flatten()), c='red')# , label=\"Prediction error\")\n",
    "        \n",
    "        # PLOT TEST PREDICTION\n",
    "        plt.plot(site_test_df[\"date\"], test_mean, \"o\", label=\"Testing predictions\", alpha=0.75, color=\"blue\", linestyle=\"None\")\n",
    "        # percent_error = np.absolute(1 - np.divide(test_mean, site_test_df[y_features].values.flatten()))*100\n",
    "        # plt.scatter(site_test_df[\"date\"], test_mean, c=percent_error, vmin=0, vmax=round(np.max(percent_error)), cmap=\"bwr\", label=\"Testing points\")\n",
    "        # plt.colorbar()\n",
    "        \n",
    "        # SCORE TEST DATA\n",
    "        score = model.score(site_test_df[x_features], site_test_df[y_features])\n",
    "        \n",
    "        plt.title(f\"Model predictions for site {code}\\n Test score (n={site_test_df.shape[0]}): {score}\")\n",
    "        plt.xlabel(f\"Date\")\n",
    "        plt.ylabel(f\"Concentration of NO2 (ug/m3)\")\n",
    "\n",
    "        # create folder for model run\n",
    "        isExist = os.path.exists(save_path)\n",
    "        if not isExist:\n",
    "            os.makedirs(save_path)\n",
    "\n",
    "        plt.gcf().autofmt_xdate()\n",
    "        \n",
    "        handles, labels = plt.gca().get_legend_handles_labels()\n",
    "        by_label = dict(zip(labels, handles))\n",
    "        plt.legend(by_label.values(), by_label.keys())\n",
    "        plt.legend(loc=(1.04,0))\n",
    "        \n",
    "        plt.savefig(fname=save_path + \"prediction_\" + code + \".png\")\n",
    "        plt.close()"
   ]
  },
  {
   "cell_type": "code",
   "execution_count": 53,
   "id": "0e6313ea",
   "metadata": {},
   "outputs": [],
   "source": [
    "\"\"\"\n",
    "SPECIFY DATA PARAMETERS\n",
    "\"\"\"\n",
    "pollutant = \"NO2\"\n",
    "time_step = \"D\"\n",
    "time_range = (datetime(2020, 9, 1), datetime(2020, 12, 31))\n",
    "season = True\n",
    "day_of_week = True\n",
    "time_of_day = True\n",
    "field_strings = filter(None, [pollutant, time_step, time_range[0].strftime(\"%m%d%Y\"), time_range[1].strftime(\"%m%d%Y\"), str(season), str(day_of_week), str(time_of_day)])\n",
    "\n",
    "random_id = random.randint(0, 10000)\n",
    "figure_title = \"_\".join(field_strings)\n",
    "filename = figure_title = f\"{random_id}_{figure_title}\""
   ]
  },
  {
   "cell_type": "code",
   "execution_count": 54,
   "id": "f76c213d",
   "metadata": {},
   "outputs": [
    {
     "data": {
      "text/plain": [
       "'8051_NO2_D_09012020_12312020_True_True_True'"
      ]
     },
     "execution_count": 54,
     "metadata": {},
     "output_type": "execute_result"
    }
   ],
   "source": [
    "filename"
   ]
  },
  {
   "cell_type": "code",
   "execution_count": 65,
   "id": "b0f05682",
   "metadata": {},
   "outputs": [
    {
     "name": "stdout",
     "output_type": "stream",
     "text": [
      "winter\n",
      "spring\n",
      "summer\n",
      "autumn\n",
      "      code       date        no2   latitude  longitude  winter  spring  \\\n",
      "0      BG1 2020-09-01  18.766667  51.563752   0.177891       0       0   \n",
      "1      BG1 2020-09-02  19.266667  51.563752   0.177891       0       0   \n",
      "2      BG1 2020-09-03   9.825000  51.563752   0.177891       0       0   \n",
      "3      BG1 2020-09-04  12.375000  51.563752   0.177891       0       0   \n",
      "4      BG1 2020-09-05  16.560870  51.563752   0.177891       0       0   \n",
      "...    ...        ...        ...        ...        ...     ...     ...   \n",
      "10402  WMD 2020-12-27  23.254167  51.492248  -0.147115       1       0   \n",
      "10403  WMD 2020-12-28  30.925000  51.492248  -0.147115       1       0   \n",
      "10404  WMD 2020-12-29  25.375000  51.492248  -0.147115       1       0   \n",
      "10405  WMD 2020-12-30  42.866667  51.492248  -0.147115       1       0   \n",
      "10406  WMD 2020-12-31  53.300000  51.492248  -0.147115       1       0   \n",
      "\n",
      "       summer  autumn  \n",
      "0           0       1  \n",
      "1           0       1  \n",
      "2           0       1  \n",
      "3           0       1  \n",
      "4           0       1  \n",
      "...       ...     ...  \n",
      "10402       0       0  \n",
      "10403       0       0  \n",
      "10404       0       0  \n",
      "10405       0       0  \n",
      "10406       0       0  \n",
      "\n",
      "[10407 rows x 9 columns]\n"
     ]
    }
   ],
   "source": [
    "alex_data_path = \"../../data/\"\n",
    "ana_data_path = \"../data-collection/LAQN_API_data/\"\n",
    "df = load_data(pollutant, data_path=ana_data_path, time_step=time_step, time_range=time_range, season=season, day_of_week=day_of_week, time_of_day=time_of_day)"
   ]
  },
  {
   "cell_type": "code",
   "execution_count": 63,
   "id": "977e0d9a",
   "metadata": {},
   "outputs": [
    {
     "data": {
      "text/html": [
       "<div>\n",
       "<style scoped>\n",
       "    .dataframe tbody tr th:only-of-type {\n",
       "        vertical-align: middle;\n",
       "    }\n",
       "\n",
       "    .dataframe tbody tr th {\n",
       "        vertical-align: top;\n",
       "    }\n",
       "\n",
       "    .dataframe thead th {\n",
       "        text-align: right;\n",
       "    }\n",
       "</style>\n",
       "<table border=\"1\" class=\"dataframe\">\n",
       "  <thead>\n",
       "    <tr style=\"text-align: right;\">\n",
       "      <th></th>\n",
       "      <th>code</th>\n",
       "      <th>date</th>\n",
       "      <th>no2</th>\n",
       "      <th>latitude</th>\n",
       "      <th>longitude</th>\n",
       "      <th>winter</th>\n",
       "      <th>spring</th>\n",
       "      <th>summer</th>\n",
       "      <th>autumn</th>\n",
       "      <th>day_of_week</th>\n",
       "      <th>True</th>\n",
       "      <th>time_of_day</th>\n",
       "      <th>t</th>\n",
       "    </tr>\n",
       "  </thead>\n",
       "  <tbody>\n",
       "    <tr>\n",
       "      <th>0</th>\n",
       "      <td>BG1</td>\n",
       "      <td>2020-09-01</td>\n",
       "      <td>18.766667</td>\n",
       "      <td>51.563752</td>\n",
       "      <td>0.177891</td>\n",
       "      <td>0</td>\n",
       "      <td>0</td>\n",
       "      <td>0</td>\n",
       "      <td>1</td>\n",
       "      <td>1</td>\n",
       "      <td>0</td>\n",
       "      <td>0</td>\n",
       "      <td>0</td>\n",
       "    </tr>\n",
       "    <tr>\n",
       "      <th>8141</th>\n",
       "      <td>SK8</td>\n",
       "      <td>2020-09-01</td>\n",
       "      <td>55.645833</td>\n",
       "      <td>51.501391</td>\n",
       "      <td>-0.078203</td>\n",
       "      <td>0</td>\n",
       "      <td>0</td>\n",
       "      <td>0</td>\n",
       "      <td>1</td>\n",
       "      <td>1</td>\n",
       "      <td>0</td>\n",
       "      <td>0</td>\n",
       "      <td>0</td>\n",
       "    </tr>\n",
       "    <tr>\n",
       "      <th>9977</th>\n",
       "      <td>WM6</td>\n",
       "      <td>2020-09-01</td>\n",
       "      <td>49.987500</td>\n",
       "      <td>51.513929</td>\n",
       "      <td>-0.152793</td>\n",
       "      <td>0</td>\n",
       "      <td>0</td>\n",
       "      <td>0</td>\n",
       "      <td>1</td>\n",
       "      <td>1</td>\n",
       "      <td>0</td>\n",
       "      <td>0</td>\n",
       "      <td>0</td>\n",
       "    </tr>\n",
       "    <tr>\n",
       "      <th>2835</th>\n",
       "      <td>GB6</td>\n",
       "      <td>2020-09-01</td>\n",
       "      <td>46.604167</td>\n",
       "      <td>51.456300</td>\n",
       "      <td>0.085606</td>\n",
       "      <td>0</td>\n",
       "      <td>0</td>\n",
       "      <td>0</td>\n",
       "      <td>1</td>\n",
       "      <td>1</td>\n",
       "      <td>0</td>\n",
       "      <td>0</td>\n",
       "      <td>0</td>\n",
       "    </tr>\n",
       "    <tr>\n",
       "      <th>8061</th>\n",
       "      <td>SK6</td>\n",
       "      <td>2020-09-01</td>\n",
       "      <td>36.733333</td>\n",
       "      <td>51.493156</td>\n",
       "      <td>-0.101527</td>\n",
       "      <td>0</td>\n",
       "      <td>0</td>\n",
       "      <td>0</td>\n",
       "      <td>1</td>\n",
       "      <td>1</td>\n",
       "      <td>0</td>\n",
       "      <td>0</td>\n",
       "      <td>0</td>\n",
       "    </tr>\n",
       "  </tbody>\n",
       "</table>\n",
       "</div>"
      ],
      "text/plain": [
       "     code       date        no2   latitude  longitude  winter  spring  summer  \\\n",
       "0     BG1 2020-09-01  18.766667  51.563752   0.177891       0       0       0   \n",
       "8141  SK8 2020-09-01  55.645833  51.501391  -0.078203       0       0       0   \n",
       "9977  WM6 2020-09-01  49.987500  51.513929  -0.152793       0       0       0   \n",
       "2835  GB6 2020-09-01  46.604167  51.456300   0.085606       0       0       0   \n",
       "8061  SK6 2020-09-01  36.733333  51.493156  -0.101527       0       0       0   \n",
       "\n",
       "      autumn  day_of_week  True  time_of_day  t  \n",
       "0          1            1     0            0  0  \n",
       "8141       1            1     0            0  0  \n",
       "9977       1            1     0            0  0  \n",
       "2835       1            1     0            0  0  \n",
       "8061       1            1     0            0  0  "
      ]
     },
     "execution_count": 63,
     "metadata": {},
     "output_type": "execute_result"
    }
   ],
   "source": [
    "df.head()"
   ]
  },
  {
   "cell_type": "code",
   "execution_count": 214,
   "id": "d6e6c37a",
   "metadata": {},
   "outputs": [],
   "source": [
    "train_df, test_df = split_data(df)"
   ]
  },
  {
   "cell_type": "code",
   "execution_count": 215,
   "id": "0f060229",
   "metadata": {},
   "outputs": [
    {
     "name": "stderr",
     "output_type": "stream",
     "text": [
      "/Users/alexherrera/opt/anaconda3/envs/london-aq/lib/python3.7/site-packages/ipykernel_launcher.py:5: SettingWithCopyWarning: \n",
      "A value is trying to be set on a copy of a slice from a DataFrame.\n",
      "Try using .loc[row_indexer,col_indexer] = value instead\n",
      "\n",
      "See the caveats in the documentation: https://pandas.pydata.org/pandas-docs/stable/user_guide/indexing.html#returning-a-view-versus-a-copy\n",
      "  \"\"\"\n",
      "/Users/alexherrera/opt/anaconda3/envs/london-aq/lib/python3.7/site-packages/ipykernel_launcher.py:6: SettingWithCopyWarning: \n",
      "A value is trying to be set on a copy of a slice from a DataFrame.\n",
      "Try using .loc[row_indexer,col_indexer] = value instead\n",
      "\n",
      "See the caveats in the documentation: https://pandas.pydata.org/pandas-docs/stable/user_guide/indexing.html#returning-a-view-versus-a-copy\n",
      "  \n",
      "/Users/alexherrera/opt/anaconda3/envs/london-aq/lib/python3.7/site-packages/ipykernel_launcher.py:5: SettingWithCopyWarning: \n",
      "A value is trying to be set on a copy of a slice from a DataFrame.\n",
      "Try using .loc[row_indexer,col_indexer] = value instead\n",
      "\n",
      "See the caveats in the documentation: https://pandas.pydata.org/pandas-docs/stable/user_guide/indexing.html#returning-a-view-versus-a-copy\n",
      "  \"\"\"\n",
      "/Users/alexherrera/opt/anaconda3/envs/london-aq/lib/python3.7/site-packages/ipykernel_launcher.py:6: SettingWithCopyWarning: \n",
      "A value is trying to be set on a copy of a slice from a DataFrame.\n",
      "Try using .loc[row_indexer,col_indexer] = value instead\n",
      "\n",
      "See the caveats in the documentation: https://pandas.pydata.org/pandas-docs/stable/user_guide/indexing.html#returning-a-view-versus-a-copy\n",
      "  \n"
     ]
    }
   ],
   "source": [
    "scaled_features = [\"latitude\", \"longitude\"]\n",
    "train_scalers = scale_data(train_df, test_df, [\"latitude\", \"longitude\"])"
   ]
  },
  {
   "cell_type": "code",
   "execution_count": 216,
   "id": "b318fe98",
   "metadata": {},
   "outputs": [],
   "source": [
    "\"\"\"\n",
    "SPECIFY KERNEL PARAMETERS\n",
    "\"\"\"\n",
    "PERIODICITY = 7\n",
    "kernel = kernels.ExpSineSquared(periodicity=PERIODICITY)*kernels.RBF([0, 0, 1.0]) + kernels.RBF([1.0, 1.0, 0])"
   ]
  },
  {
   "cell_type": "code",
   "execution_count": 217,
   "id": "fa7ea276",
   "metadata": {
    "scrolled": true
   },
   "outputs": [
    {
     "name": "stderr",
     "output_type": "stream",
     "text": [
      "/Users/alexherrera/opt/anaconda3/envs/london-aq/lib/python3.7/site-packages/sklearn/gaussian_process/kernels.py:285: RuntimeWarning: divide by zero encountered in log\n",
      "  return np.log(np.hstack(theta))\n",
      "/Users/alexherrera/opt/anaconda3/envs/london-aq/lib/python3.7/site-packages/sklearn/gaussian_process/kernels.py:427: ConvergenceWarning: The optimal value found for dimension 0 of parameter k1__k2__length_scale is close to the specified lower bound 1e-05. Decreasing the bound and calling fit again may find a better value.\n",
      "  ConvergenceWarning,\n",
      "/Users/alexherrera/opt/anaconda3/envs/london-aq/lib/python3.7/site-packages/sklearn/gaussian_process/kernels.py:427: ConvergenceWarning: The optimal value found for dimension 1 of parameter k1__k2__length_scale is close to the specified lower bound 1e-05. Decreasing the bound and calling fit again may find a better value.\n",
      "  ConvergenceWarning,\n",
      "/Users/alexherrera/opt/anaconda3/envs/london-aq/lib/python3.7/site-packages/sklearn/gaussian_process/kernels.py:427: ConvergenceWarning: The optimal value found for dimension 2 of parameter k2__length_scale is close to the specified lower bound 1e-05. Decreasing the bound and calling fit again may find a better value.\n",
      "  ConvergenceWarning,\n"
     ]
    }
   ],
   "source": [
    "x_features = [\"scaled_latitude\", \"scaled_longitude\", \"t\", \"day_of_week\", \"time_of_day\"]\n",
    "y_features = [\"no2\"]\n",
    "model = train_GPR_model(kernel, train_df, x_features, y_features)"
   ]
  },
  {
   "cell_type": "code",
   "execution_count": 218,
   "id": "c4fae975",
   "metadata": {},
   "outputs": [],
   "source": [
    "save_model(filename, df, model, train_df, test_df, train_scalers)"
   ]
  },
  {
   "cell_type": "code",
   "execution_count": 219,
   "id": "df45b274",
   "metadata": {},
   "outputs": [
    {
     "data": {
      "text/plain": [
       "array(['scaled_latitude', 'scaled_longitude', 't'], dtype=object)"
      ]
     },
     "execution_count": 219,
     "metadata": {},
     "output_type": "execute_result"
    }
   ],
   "source": [
    "model.feature_names_in_"
   ]
  },
  {
   "cell_type": "code",
   "execution_count": 220,
   "id": "3596a923",
   "metadata": {},
   "outputs": [
    {
     "data": {
      "text/plain": [
       "0.8447019152634144"
      ]
     },
     "execution_count": 220,
     "metadata": {},
     "output_type": "execute_result"
    }
   ],
   "source": [
    "model.score(test_df[x_features], test_df[y_features])"
   ]
  },
  {
   "cell_type": "code",
   "execution_count": 221,
   "id": "ac08e071",
   "metadata": {},
   "outputs": [
    {
     "data": {
      "text/html": [
       "<div>\n",
       "<style scoped>\n",
       "    .dataframe tbody tr th:only-of-type {\n",
       "        vertical-align: middle;\n",
       "    }\n",
       "\n",
       "    .dataframe tbody tr th {\n",
       "        vertical-align: top;\n",
       "    }\n",
       "\n",
       "    .dataframe thead th {\n",
       "        text-align: right;\n",
       "    }\n",
       "</style>\n",
       "<table border=\"1\" class=\"dataframe\">\n",
       "  <thead>\n",
       "    <tr style=\"text-align: right;\">\n",
       "      <th></th>\n",
       "      <th>code</th>\n",
       "      <th>date</th>\n",
       "      <th>nox</th>\n",
       "      <th>no2</th>\n",
       "      <th>latitude</th>\n",
       "      <th>longitude</th>\n",
       "      <th>t</th>\n",
       "      <th>scaled_latitude</th>\n",
       "      <th>scaled_longitude</th>\n",
       "    </tr>\n",
       "  </thead>\n",
       "  <tbody>\n",
       "    <tr>\n",
       "      <th>6085</th>\n",
       "      <td>LB5</td>\n",
       "      <td>2020-10-01</td>\n",
       "      <td>82.623542</td>\n",
       "      <td>40.469735</td>\n",
       "      <td>51.485487</td>\n",
       "      <td>-0.124545</td>\n",
       "      <td>30</td>\n",
       "      <td>-0.231456</td>\n",
       "      <td>-0.206121</td>\n",
       "    </tr>\n",
       "    <tr>\n",
       "      <th>4823</th>\n",
       "      <td>HR1</td>\n",
       "      <td>2020-12-20</td>\n",
       "      <td>20.326494</td>\n",
       "      <td>18.649158</td>\n",
       "      <td>51.617327</td>\n",
       "      <td>-0.298775</td>\n",
       "      <td>110</td>\n",
       "      <td>1.968695</td>\n",
       "      <td>-1.484283</td>\n",
       "    </tr>\n",
       "    <tr>\n",
       "      <th>1653</th>\n",
       "      <td>CT3</td>\n",
       "      <td>2020-09-09</td>\n",
       "      <td>22.204179</td>\n",
       "      <td>17.410888</td>\n",
       "      <td>51.513847</td>\n",
       "      <td>-0.077766</td>\n",
       "      <td>8</td>\n",
       "      <td>0.241823</td>\n",
       "      <td>0.137058</td>\n",
       "    </tr>\n",
       "    <tr>\n",
       "      <th>242</th>\n",
       "      <td>BG2</td>\n",
       "      <td>2020-12-30</td>\n",
       "      <td>89.483204</td>\n",
       "      <td>36.990038</td>\n",
       "      <td>51.529389</td>\n",
       "      <td>0.132857</td>\n",
       "      <td>120</td>\n",
       "      <td>0.501185</td>\n",
       "      <td>1.682202</td>\n",
       "    </tr>\n",
       "    <tr>\n",
       "      <th>1169</th>\n",
       "      <td>BY7</td>\n",
       "      <td>2020-09-30</td>\n",
       "      <td>32.859231</td>\n",
       "      <td>20.637903</td>\n",
       "      <td>51.405546</td>\n",
       "      <td>0.018882</td>\n",
       "      <td>29</td>\n",
       "      <td>-1.565508</td>\n",
       "      <td>0.846073</td>\n",
       "    </tr>\n",
       "  </tbody>\n",
       "</table>\n",
       "</div>"
      ],
      "text/plain": [
       "     code       date        nox        no2   latitude  longitude    t  \\\n",
       "6085  LB5 2020-10-01  82.623542  40.469735  51.485487  -0.124545   30   \n",
       "4823  HR1 2020-12-20  20.326494  18.649158  51.617327  -0.298775  110   \n",
       "1653  CT3 2020-09-09  22.204179  17.410888  51.513847  -0.077766    8   \n",
       "242   BG2 2020-12-30  89.483204  36.990038  51.529389   0.132857  120   \n",
       "1169  BY7 2020-09-30  32.859231  20.637903  51.405546   0.018882   29   \n",
       "\n",
       "      scaled_latitude  scaled_longitude  \n",
       "6085        -0.231456         -0.206121  \n",
       "4823         1.968695         -1.484283  \n",
       "1653         0.241823          0.137058  \n",
       "242          0.501185          1.682202  \n",
       "1169        -1.565508          0.846073  "
      ]
     },
     "execution_count": 221,
     "metadata": {},
     "output_type": "execute_result"
    }
   ],
   "source": [
    "test_df.head()"
   ]
  },
  {
   "cell_type": "code",
   "execution_count": 222,
   "id": "55a36e94",
   "metadata": {},
   "outputs": [
    {
     "name": "stderr",
     "output_type": "stream",
     "text": [
      "/Users/alexherrera/opt/anaconda3/envs/london-aq/lib/python3.7/site-packages/ipykernel_launcher.py:10: RuntimeWarning: More than 20 figures have been opened. Figures created through the pyplot interface (`matplotlib.pyplot.figure`) are retained until explicitly closed and may consume too much memory. (To control this warning, see the rcParam `figure.max_open_warning`).\n",
      "  # Remove the CWD from sys.path while we load stuff.\n",
      "/Users/alexherrera/opt/anaconda3/envs/london-aq/lib/python3.7/site-packages/ipykernel_launcher.py:9: RuntimeWarning: More than 20 figures have been opened. Figures created through the pyplot interface (`matplotlib.pyplot.figure`) are retained until explicitly closed and may consume too much memory. (To control this warning, see the rcParam `figure.max_open_warning`).\n",
      "  if __name__ == '__main__':\n"
     ]
    },
    {
     "ename": "ValueError",
     "evalue": "Found array with 0 sample(s) (shape=(0, 3)) while a minimum of 1 is required.",
     "output_type": "error",
     "traceback": [
      "\u001b[0;31m---------------------------------------------------------------------------\u001b[0m",
      "\u001b[0;31mValueError\u001b[0m                                Traceback (most recent call last)",
      "\u001b[0;32m/var/folders/6c/3n2fd4rj4l3gj84562cjz0kr0000gn/T/ipykernel_21615/3348100749.py\u001b[0m in \u001b[0;36m<module>\u001b[0;34m\u001b[0m\n\u001b[1;32m      4\u001b[0m \u001b[0msite_codes\u001b[0m \u001b[0;34m=\u001b[0m \u001b[0mdf\u001b[0m\u001b[0;34m[\u001b[0m\u001b[0;34m\"code\"\u001b[0m\u001b[0;34m]\u001b[0m\u001b[0;34m.\u001b[0m\u001b[0munique\u001b[0m\u001b[0;34m(\u001b[0m\u001b[0;34m)\u001b[0m\u001b[0;34m\u001b[0m\u001b[0;34m\u001b[0m\u001b[0m\n\u001b[1;32m      5\u001b[0m \u001b[0msave_path\u001b[0m \u001b[0;34m=\u001b[0m \u001b[0;34mf\"GPR_figures/{filename}/\"\u001b[0m\u001b[0;34m\u001b[0m\u001b[0;34m\u001b[0m\u001b[0m\n\u001b[0;32m----> 6\u001b[0;31m \u001b[0mplot_model\u001b[0m\u001b[0;34m(\u001b[0m\u001b[0mmodel\u001b[0m\u001b[0;34m,\u001b[0m \u001b[0mtrain_df\u001b[0m\u001b[0;34m,\u001b[0m \u001b[0mtest_df\u001b[0m\u001b[0;34m,\u001b[0m \u001b[0mx_fixed_features\u001b[0m\u001b[0;34m,\u001b[0m \u001b[0mx_features\u001b[0m\u001b[0;34m,\u001b[0m \u001b[0my_features\u001b[0m\u001b[0;34m,\u001b[0m \u001b[0mtrain_scalers\u001b[0m\u001b[0;34m,\u001b[0m \u001b[0msite_codes\u001b[0m\u001b[0;34m,\u001b[0m \u001b[0msave_path\u001b[0m\u001b[0;34m=\u001b[0m\u001b[0msave_path\u001b[0m\u001b[0;34m)\u001b[0m\u001b[0;34m\u001b[0m\u001b[0;34m\u001b[0m\u001b[0m\n\u001b[0m",
      "\u001b[0;32m/var/folders/6c/3n2fd4rj4l3gj84562cjz0kr0000gn/T/ipykernel_21615/1946146162.py\u001b[0m in \u001b[0;36mplot_model\u001b[0;34m(model, train_df, test_df, x_fixed_features, x_features, y_features, scalers, codes, title, save_path)\u001b[0m\n\u001b[1;32m     35\u001b[0m \u001b[0;34m\u001b[0m\u001b[0m\n\u001b[1;32m     36\u001b[0m         \u001b[0;31m# PREDICT TEST DATA\u001b[0m\u001b[0;34m\u001b[0m\u001b[0;34m\u001b[0m\u001b[0;34m\u001b[0m\u001b[0m\n\u001b[0;32m---> 37\u001b[0;31m         \u001b[0mtest_mean\u001b[0m\u001b[0;34m,\u001b[0m \u001b[0mtest_std\u001b[0m \u001b[0;34m=\u001b[0m \u001b[0mmodel\u001b[0m\u001b[0;34m.\u001b[0m\u001b[0mpredict\u001b[0m\u001b[0;34m(\u001b[0m\u001b[0msite_test_df\u001b[0m\u001b[0;34m[\u001b[0m\u001b[0mx_features\u001b[0m\u001b[0;34m]\u001b[0m\u001b[0;34m,\u001b[0m \u001b[0mreturn_std\u001b[0m\u001b[0;34m=\u001b[0m\u001b[0;32mTrue\u001b[0m\u001b[0;34m)\u001b[0m\u001b[0;34m\u001b[0m\u001b[0;34m\u001b[0m\u001b[0m\n\u001b[0m\u001b[1;32m     38\u001b[0m         \u001b[0mtest_mean\u001b[0m\u001b[0;34m,\u001b[0m \u001b[0mtest_std\u001b[0m \u001b[0;34m=\u001b[0m \u001b[0mtest_mean\u001b[0m\u001b[0;34m.\u001b[0m\u001b[0mflatten\u001b[0m\u001b[0;34m(\u001b[0m\u001b[0;34m)\u001b[0m\u001b[0;34m,\u001b[0m \u001b[0mtest_std\u001b[0m\u001b[0;34m.\u001b[0m\u001b[0mflatten\u001b[0m\u001b[0;34m(\u001b[0m\u001b[0;34m)\u001b[0m\u001b[0;34m\u001b[0m\u001b[0;34m\u001b[0m\u001b[0m\n\u001b[1;32m     39\u001b[0m \u001b[0;34m\u001b[0m\u001b[0m\n",
      "\u001b[0;32m~/opt/anaconda3/envs/london-aq/lib/python3.7/site-packages/sklearn/gaussian_process/_gpr.py\u001b[0m in \u001b[0;36mpredict\u001b[0;34m(self, X, return_std, return_cov)\u001b[0m\n\u001b[1;32m    369\u001b[0m             \u001b[0mdtype\u001b[0m\u001b[0;34m,\u001b[0m \u001b[0mensure_2d\u001b[0m \u001b[0;34m=\u001b[0m \u001b[0;32mNone\u001b[0m\u001b[0;34m,\u001b[0m \u001b[0;32mFalse\u001b[0m\u001b[0;34m\u001b[0m\u001b[0;34m\u001b[0m\u001b[0m\n\u001b[1;32m    370\u001b[0m \u001b[0;34m\u001b[0m\u001b[0m\n\u001b[0;32m--> 371\u001b[0;31m         \u001b[0mX\u001b[0m \u001b[0;34m=\u001b[0m \u001b[0mself\u001b[0m\u001b[0;34m.\u001b[0m\u001b[0m_validate_data\u001b[0m\u001b[0;34m(\u001b[0m\u001b[0mX\u001b[0m\u001b[0;34m,\u001b[0m \u001b[0mensure_2d\u001b[0m\u001b[0;34m=\u001b[0m\u001b[0mensure_2d\u001b[0m\u001b[0;34m,\u001b[0m \u001b[0mdtype\u001b[0m\u001b[0;34m=\u001b[0m\u001b[0mdtype\u001b[0m\u001b[0;34m,\u001b[0m \u001b[0mreset\u001b[0m\u001b[0;34m=\u001b[0m\u001b[0;32mFalse\u001b[0m\u001b[0;34m)\u001b[0m\u001b[0;34m\u001b[0m\u001b[0;34m\u001b[0m\u001b[0m\n\u001b[0m\u001b[1;32m    372\u001b[0m \u001b[0;34m\u001b[0m\u001b[0m\n\u001b[1;32m    373\u001b[0m         \u001b[0;32mif\u001b[0m \u001b[0;32mnot\u001b[0m \u001b[0mhasattr\u001b[0m\u001b[0;34m(\u001b[0m\u001b[0mself\u001b[0m\u001b[0;34m,\u001b[0m \u001b[0;34m\"X_train_\"\u001b[0m\u001b[0;34m)\u001b[0m\u001b[0;34m:\u001b[0m  \u001b[0;31m# Unfitted;predict based on GP prior\u001b[0m\u001b[0;34m\u001b[0m\u001b[0;34m\u001b[0m\u001b[0m\n",
      "\u001b[0;32m~/opt/anaconda3/envs/london-aq/lib/python3.7/site-packages/sklearn/base.py\u001b[0m in \u001b[0;36m_validate_data\u001b[0;34m(self, X, y, reset, validate_separately, **check_params)\u001b[0m\n\u001b[1;32m    559\u001b[0m             \u001b[0;32mraise\u001b[0m \u001b[0mValueError\u001b[0m\u001b[0;34m(\u001b[0m\u001b[0;34m\"Validation should be done on X, y or both.\"\u001b[0m\u001b[0;34m)\u001b[0m\u001b[0;34m\u001b[0m\u001b[0;34m\u001b[0m\u001b[0m\n\u001b[1;32m    560\u001b[0m         \u001b[0;32melif\u001b[0m \u001b[0;32mnot\u001b[0m \u001b[0mno_val_X\u001b[0m \u001b[0;32mand\u001b[0m \u001b[0mno_val_y\u001b[0m\u001b[0;34m:\u001b[0m\u001b[0;34m\u001b[0m\u001b[0;34m\u001b[0m\u001b[0m\n\u001b[0;32m--> 561\u001b[0;31m             \u001b[0mX\u001b[0m \u001b[0;34m=\u001b[0m \u001b[0mcheck_array\u001b[0m\u001b[0;34m(\u001b[0m\u001b[0mX\u001b[0m\u001b[0;34m,\u001b[0m \u001b[0;34m**\u001b[0m\u001b[0mcheck_params\u001b[0m\u001b[0;34m)\u001b[0m\u001b[0;34m\u001b[0m\u001b[0;34m\u001b[0m\u001b[0m\n\u001b[0m\u001b[1;32m    562\u001b[0m             \u001b[0mout\u001b[0m \u001b[0;34m=\u001b[0m \u001b[0mX\u001b[0m\u001b[0;34m\u001b[0m\u001b[0;34m\u001b[0m\u001b[0m\n\u001b[1;32m    563\u001b[0m         \u001b[0;32melif\u001b[0m \u001b[0mno_val_X\u001b[0m \u001b[0;32mand\u001b[0m \u001b[0;32mnot\u001b[0m \u001b[0mno_val_y\u001b[0m\u001b[0;34m:\u001b[0m\u001b[0;34m\u001b[0m\u001b[0;34m\u001b[0m\u001b[0m\n",
      "\u001b[0;32m~/opt/anaconda3/envs/london-aq/lib/python3.7/site-packages/sklearn/utils/validation.py\u001b[0m in \u001b[0;36mcheck_array\u001b[0;34m(array, accept_sparse, accept_large_sparse, dtype, order, copy, force_all_finite, ensure_2d, allow_nd, ensure_min_samples, ensure_min_features, estimator)\u001b[0m\n\u001b[1;32m    798\u001b[0m                 \u001b[0;34m\"Found array with %d sample(s) (shape=%s) while a\"\u001b[0m\u001b[0;34m\u001b[0m\u001b[0;34m\u001b[0m\u001b[0m\n\u001b[1;32m    799\u001b[0m                 \u001b[0;34m\" minimum of %d is required%s.\"\u001b[0m\u001b[0;34m\u001b[0m\u001b[0;34m\u001b[0m\u001b[0m\n\u001b[0;32m--> 800\u001b[0;31m                 \u001b[0;34m%\u001b[0m \u001b[0;34m(\u001b[0m\u001b[0mn_samples\u001b[0m\u001b[0;34m,\u001b[0m \u001b[0marray\u001b[0m\u001b[0;34m.\u001b[0m\u001b[0mshape\u001b[0m\u001b[0;34m,\u001b[0m \u001b[0mensure_min_samples\u001b[0m\u001b[0;34m,\u001b[0m \u001b[0mcontext\u001b[0m\u001b[0;34m)\u001b[0m\u001b[0;34m\u001b[0m\u001b[0;34m\u001b[0m\u001b[0m\n\u001b[0m\u001b[1;32m    801\u001b[0m             )\n\u001b[1;32m    802\u001b[0m \u001b[0;34m\u001b[0m\u001b[0m\n",
      "\u001b[0;31mValueError\u001b[0m: Found array with 0 sample(s) (shape=(0, 3)) while a minimum of 1 is required."
     ]
    },
    {
     "data": {
      "text/plain": [
       "<Figure size 432x288 with 0 Axes>"
      ]
     },
     "metadata": {},
     "output_type": "display_data"
    },
    {
     "data": {
      "text/plain": [
       "<Figure size 432x288 with 0 Axes>"
      ]
     },
     "metadata": {},
     "output_type": "display_data"
    },
    {
     "data": {
      "text/plain": [
       "<Figure size 432x288 with 0 Axes>"
      ]
     },
     "metadata": {},
     "output_type": "display_data"
    },
    {
     "data": {
      "text/plain": [
       "<Figure size 432x288 with 0 Axes>"
      ]
     },
     "metadata": {},
     "output_type": "display_data"
    },
    {
     "data": {
      "text/plain": [
       "<Figure size 432x288 with 0 Axes>"
      ]
     },
     "metadata": {},
     "output_type": "display_data"
    },
    {
     "data": {
      "text/plain": [
       "<Figure size 432x288 with 0 Axes>"
      ]
     },
     "metadata": {},
     "output_type": "display_data"
    },
    {
     "data": {
      "text/plain": [
       "<Figure size 432x288 with 0 Axes>"
      ]
     },
     "metadata": {},
     "output_type": "display_data"
    },
    {
     "data": {
      "text/plain": [
       "<Figure size 432x288 with 0 Axes>"
      ]
     },
     "metadata": {},
     "output_type": "display_data"
    },
    {
     "data": {
      "text/plain": [
       "<Figure size 432x288 with 0 Axes>"
      ]
     },
     "metadata": {},
     "output_type": "display_data"
    },
    {
     "data": {
      "text/plain": [
       "<Figure size 432x288 with 0 Axes>"
      ]
     },
     "metadata": {},
     "output_type": "display_data"
    },
    {
     "data": {
      "text/plain": [
       "<Figure size 432x288 with 0 Axes>"
      ]
     },
     "metadata": {},
     "output_type": "display_data"
    },
    {
     "data": {
      "text/plain": [
       "<Figure size 432x288 with 0 Axes>"
      ]
     },
     "metadata": {},
     "output_type": "display_data"
    },
    {
     "data": {
      "text/plain": [
       "<Figure size 432x288 with 0 Axes>"
      ]
     },
     "metadata": {},
     "output_type": "display_data"
    },
    {
     "data": {
      "text/plain": [
       "<Figure size 432x288 with 0 Axes>"
      ]
     },
     "metadata": {},
     "output_type": "display_data"
    },
    {
     "data": {
      "text/plain": [
       "<Figure size 432x288 with 0 Axes>"
      ]
     },
     "metadata": {},
     "output_type": "display_data"
    },
    {
     "data": {
      "text/plain": [
       "<Figure size 432x288 with 0 Axes>"
      ]
     },
     "metadata": {},
     "output_type": "display_data"
    },
    {
     "data": {
      "text/plain": [
       "<Figure size 432x288 with 0 Axes>"
      ]
     },
     "metadata": {},
     "output_type": "display_data"
    },
    {
     "data": {
      "text/plain": [
       "<Figure size 432x288 with 0 Axes>"
      ]
     },
     "metadata": {},
     "output_type": "display_data"
    },
    {
     "data": {
      "text/plain": [
       "<Figure size 432x288 with 0 Axes>"
      ]
     },
     "metadata": {},
     "output_type": "display_data"
    },
    {
     "data": {
      "text/plain": [
       "<Figure size 432x288 with 0 Axes>"
      ]
     },
     "metadata": {},
     "output_type": "display_data"
    },
    {
     "data": {
      "text/plain": [
       "<Figure size 432x288 with 0 Axes>"
      ]
     },
     "metadata": {},
     "output_type": "display_data"
    },
    {
     "data": {
      "text/plain": [
       "<Figure size 432x288 with 0 Axes>"
      ]
     },
     "metadata": {},
     "output_type": "display_data"
    },
    {
     "data": {
      "text/plain": [
       "<Figure size 432x288 with 0 Axes>"
      ]
     },
     "metadata": {},
     "output_type": "display_data"
    },
    {
     "data": {
      "text/plain": [
       "<Figure size 432x288 with 0 Axes>"
      ]
     },
     "metadata": {},
     "output_type": "display_data"
    },
    {
     "data": {
      "text/plain": [
       "<Figure size 432x288 with 0 Axes>"
      ]
     },
     "metadata": {},
     "output_type": "display_data"
    },
    {
     "data": {
      "text/plain": [
       "<Figure size 432x288 with 0 Axes>"
      ]
     },
     "metadata": {},
     "output_type": "display_data"
    },
    {
     "data": {
      "text/plain": [
       "<Figure size 432x288 with 0 Axes>"
      ]
     },
     "metadata": {},
     "output_type": "display_data"
    },
    {
     "data": {
      "text/plain": [
       "<Figure size 432x288 with 0 Axes>"
      ]
     },
     "metadata": {},
     "output_type": "display_data"
    },
    {
     "data": {
      "text/plain": [
       "<Figure size 432x288 with 0 Axes>"
      ]
     },
     "metadata": {},
     "output_type": "display_data"
    },
    {
     "data": {
      "text/plain": [
       "<Figure size 432x288 with 0 Axes>"
      ]
     },
     "metadata": {},
     "output_type": "display_data"
    },
    {
     "data": {
      "text/plain": [
       "<Figure size 432x288 with 0 Axes>"
      ]
     },
     "metadata": {},
     "output_type": "display_data"
    },
    {
     "data": {
      "text/plain": [
       "<Figure size 432x288 with 0 Axes>"
      ]
     },
     "metadata": {},
     "output_type": "display_data"
    },
    {
     "data": {
      "text/plain": [
       "<Figure size 432x288 with 0 Axes>"
      ]
     },
     "metadata": {},
     "output_type": "display_data"
    },
    {
     "data": {
      "text/plain": [
       "<Figure size 432x288 with 0 Axes>"
      ]
     },
     "metadata": {},
     "output_type": "display_data"
    },
    {
     "data": {
      "text/plain": [
       "<Figure size 432x288 with 0 Axes>"
      ]
     },
     "metadata": {},
     "output_type": "display_data"
    },
    {
     "data": {
      "text/plain": [
       "<Figure size 432x288 with 0 Axes>"
      ]
     },
     "metadata": {},
     "output_type": "display_data"
    },
    {
     "data": {
      "text/plain": [
       "<Figure size 432x288 with 0 Axes>"
      ]
     },
     "metadata": {},
     "output_type": "display_data"
    },
    {
     "data": {
      "text/plain": [
       "<Figure size 432x288 with 0 Axes>"
      ]
     },
     "metadata": {},
     "output_type": "display_data"
    },
    {
     "data": {
      "text/plain": [
       "<Figure size 432x288 with 0 Axes>"
      ]
     },
     "metadata": {},
     "output_type": "display_data"
    },
    {
     "data": {
      "text/plain": [
       "<Figure size 432x288 with 0 Axes>"
      ]
     },
     "metadata": {},
     "output_type": "display_data"
    },
    {
     "data": {
      "text/plain": [
       "<Figure size 432x288 with 0 Axes>"
      ]
     },
     "metadata": {},
     "output_type": "display_data"
    },
    {
     "data": {
      "text/plain": [
       "<Figure size 432x288 with 0 Axes>"
      ]
     },
     "metadata": {},
     "output_type": "display_data"
    },
    {
     "data": {
      "text/plain": [
       "<Figure size 432x288 with 0 Axes>"
      ]
     },
     "metadata": {},
     "output_type": "display_data"
    },
    {
     "data": {
      "text/plain": [
       "<Figure size 432x288 with 0 Axes>"
      ]
     },
     "metadata": {},
     "output_type": "display_data"
    },
    {
     "data": {
      "text/plain": [
       "<Figure size 432x288 with 0 Axes>"
      ]
     },
     "metadata": {},
     "output_type": "display_data"
    },
    {
     "data": {
      "text/plain": [
       "<Figure size 432x288 with 0 Axes>"
      ]
     },
     "metadata": {},
     "output_type": "display_data"
    },
    {
     "data": {
      "text/plain": [
       "<Figure size 432x288 with 0 Axes>"
      ]
     },
     "metadata": {},
     "output_type": "display_data"
    },
    {
     "data": {
      "text/plain": [
       "<Figure size 432x288 with 0 Axes>"
      ]
     },
     "metadata": {},
     "output_type": "display_data"
    },
    {
     "data": {
      "text/plain": [
       "<Figure size 432x288 with 0 Axes>"
      ]
     },
     "metadata": {},
     "output_type": "display_data"
    },
    {
     "data": {
      "text/plain": [
       "<Figure size 432x288 with 0 Axes>"
      ]
     },
     "metadata": {},
     "output_type": "display_data"
    },
    {
     "data": {
      "text/plain": [
       "<Figure size 432x288 with 0 Axes>"
      ]
     },
     "metadata": {},
     "output_type": "display_data"
    },
    {
     "data": {
      "text/plain": [
       "<Figure size 432x288 with 0 Axes>"
      ]
     },
     "metadata": {},
     "output_type": "display_data"
    },
    {
     "data": {
      "text/plain": [
       "<Figure size 432x288 with 0 Axes>"
      ]
     },
     "metadata": {},
     "output_type": "display_data"
    },
    {
     "data": {
      "text/plain": [
       "<Figure size 432x288 with 0 Axes>"
      ]
     },
     "metadata": {},
     "output_type": "display_data"
    },
    {
     "data": {
      "text/plain": [
       "<Figure size 432x288 with 0 Axes>"
      ]
     },
     "metadata": {},
     "output_type": "display_data"
    },
    {
     "data": {
      "text/plain": [
       "<Figure size 432x288 with 0 Axes>"
      ]
     },
     "metadata": {},
     "output_type": "display_data"
    },
    {
     "data": {
      "text/plain": [
       "<Figure size 432x288 with 0 Axes>"
      ]
     },
     "metadata": {},
     "output_type": "display_data"
    },
    {
     "data": {
      "text/plain": [
       "<Figure size 432x288 with 0 Axes>"
      ]
     },
     "metadata": {},
     "output_type": "display_data"
    },
    {
     "data": {
      "text/plain": [
       "<Figure size 432x288 with 0 Axes>"
      ]
     },
     "metadata": {},
     "output_type": "display_data"
    },
    {
     "data": {
      "text/plain": [
       "<Figure size 432x288 with 0 Axes>"
      ]
     },
     "metadata": {},
     "output_type": "display_data"
    },
    {
     "data": {
      "text/plain": [
       "<Figure size 432x288 with 0 Axes>"
      ]
     },
     "metadata": {},
     "output_type": "display_data"
    },
    {
     "data": {
      "text/plain": [
       "<Figure size 432x288 with 0 Axes>"
      ]
     },
     "metadata": {},
     "output_type": "display_data"
    },
    {
     "data": {
      "text/plain": [
       "<Figure size 432x288 with 0 Axes>"
      ]
     },
     "metadata": {},
     "output_type": "display_data"
    },
    {
     "data": {
      "text/plain": [
       "<Figure size 432x288 with 0 Axes>"
      ]
     },
     "metadata": {},
     "output_type": "display_data"
    },
    {
     "data": {
      "text/plain": [
       "<Figure size 432x288 with 0 Axes>"
      ]
     },
     "metadata": {},
     "output_type": "display_data"
    },
    {
     "data": {
      "text/plain": [
       "<Figure size 432x288 with 0 Axes>"
      ]
     },
     "metadata": {},
     "output_type": "display_data"
    },
    {
     "data": {
      "text/plain": [
       "<Figure size 432x288 with 0 Axes>"
      ]
     },
     "metadata": {},
     "output_type": "display_data"
    },
    {
     "data": {
      "text/plain": [
       "<Figure size 432x288 with 0 Axes>"
      ]
     },
     "metadata": {},
     "output_type": "display_data"
    },
    {
     "data": {
      "text/plain": [
       "<Figure size 432x288 with 0 Axes>"
      ]
     },
     "metadata": {},
     "output_type": "display_data"
    },
    {
     "data": {
      "text/plain": [
       "<Figure size 432x288 with 0 Axes>"
      ]
     },
     "metadata": {},
     "output_type": "display_data"
    },
    {
     "data": {
      "text/plain": [
       "<Figure size 432x288 with 0 Axes>"
      ]
     },
     "metadata": {},
     "output_type": "display_data"
    },
    {
     "data": {
      "text/plain": [
       "<Figure size 432x288 with 0 Axes>"
      ]
     },
     "metadata": {},
     "output_type": "display_data"
    },
    {
     "data": {
      "text/plain": [
       "<Figure size 432x288 with 0 Axes>"
      ]
     },
     "metadata": {},
     "output_type": "display_data"
    },
    {
     "data": {
      "text/plain": [
       "<Figure size 432x288 with 0 Axes>"
      ]
     },
     "metadata": {},
     "output_type": "display_data"
    },
    {
     "data": {
      "text/plain": [
       "<Figure size 432x288 with 0 Axes>"
      ]
     },
     "metadata": {},
     "output_type": "display_data"
    },
    {
     "data": {
      "text/plain": [
       "<Figure size 432x288 with 0 Axes>"
      ]
     },
     "metadata": {},
     "output_type": "display_data"
    },
    {
     "data": {
      "text/plain": [
       "<Figure size 432x288 with 0 Axes>"
      ]
     },
     "metadata": {},
     "output_type": "display_data"
    },
    {
     "data": {
      "text/plain": [
       "<Figure size 432x288 with 0 Axes>"
      ]
     },
     "metadata": {},
     "output_type": "display_data"
    },
    {
     "data": {
      "text/plain": [
       "<Figure size 432x288 with 0 Axes>"
      ]
     },
     "metadata": {},
     "output_type": "display_data"
    },
    {
     "data": {
      "text/plain": [
       "<Figure size 432x288 with 0 Axes>"
      ]
     },
     "metadata": {},
     "output_type": "display_data"
    },
    {
     "data": {
      "text/plain": [
       "<Figure size 432x288 with 0 Axes>"
      ]
     },
     "metadata": {},
     "output_type": "display_data"
    },
    {
     "data": {
      "text/plain": [
       "<Figure size 432x288 with 0 Axes>"
      ]
     },
     "metadata": {},
     "output_type": "display_data"
    },
    {
     "data": {
      "text/plain": [
       "<Figure size 432x288 with 0 Axes>"
      ]
     },
     "metadata": {},
     "output_type": "display_data"
    },
    {
     "data": {
      "text/plain": [
       "<Figure size 432x288 with 0 Axes>"
      ]
     },
     "metadata": {},
     "output_type": "display_data"
    },
    {
     "data": {
      "text/plain": [
       "<Figure size 432x288 with 0 Axes>"
      ]
     },
     "metadata": {},
     "output_type": "display_data"
    },
    {
     "data": {
      "text/plain": [
       "<Figure size 432x288 with 0 Axes>"
      ]
     },
     "metadata": {},
     "output_type": "display_data"
    },
    {
     "data": {
      "text/plain": [
       "<Figure size 432x288 with 0 Axes>"
      ]
     },
     "metadata": {},
     "output_type": "display_data"
    },
    {
     "data": {
      "text/plain": [
       "<Figure size 432x288 with 0 Axes>"
      ]
     },
     "metadata": {},
     "output_type": "display_data"
    },
    {
     "data": {
      "text/plain": [
       "<Figure size 432x288 with 0 Axes>"
      ]
     },
     "metadata": {},
     "output_type": "display_data"
    },
    {
     "data": {
      "text/plain": [
       "<Figure size 432x288 with 0 Axes>"
      ]
     },
     "metadata": {},
     "output_type": "display_data"
    },
    {
     "data": {
      "image/png": "[encoded data removed]",
      "text/plain": [
       "<Figure size 432x288 with 1 Axes>"
      ]
     },
     "metadata": {},
     "output_type": "display_data"
    }
   ],
   "source": [
    "x_fixed_features = [\"scaled_latitude\", \"scaled_longitude\"]\n",
    "site_codes = df[\"code\"].unique()\n",
    "save_path = f\"GPR_figures/{filename}/\"\n",
    "plot_model(model, train_df, test_df, x_fixed_features, x_features, y_features, train_scalers, site_codes, save_path=save_path)"
   ]
  },
  {
   "cell_type": "code",
   "execution_count": null,
   "id": "c99c5776",
   "metadata": {},
   "outputs": [],
   "source": [
    "\"\"\"\n",
    "TRANSFORM SAVED MODELS TO FIT THIS NEW WORKFLOW\n",
    "\"\"\"\n",
    "filename = \"2679_NO2_D_09012020_12312020\"\n",
    "df = pickle.load(open(f\"{filename}_df.sav\", \"rb\"))\n",
    "\n",
    "df = df.sort_values(\"date\")\n",
    "dates = df[\"date\"].values\n",
    "\n",
    "t = -1\n",
    "current_date = None\n",
    "time_steps = []\n",
    "for date in dates:\n",
    "    if date != current_date:\n",
    "        t += 1\n",
    "        current_date = date\n",
    "    time_steps.append(t)\n",
    "df[\"t\"] = time_steps\n",
    "\n",
    "df = df.rename(columns={'norm_lat': 'scaled_latitude', 'norm_lon': 'scaled_longitude'})\n",
    "    \n",
    "model = pickle.load(open(f\"{filename}_model.sav\", \"rb\"))\n",
    "train_indices, test_indices = pickle.load(open(f\"{filename}_indices.sav\", \"rb\"))\n",
    "train_scalers = pickle.load(open(f\"{filename}_scalers.sav\", \"rb\"))\n",
    "site_codes = df[\"code\"].unique()\n",
    "train_df, test_df = df.iloc[train_indices, :], df.iloc[test_indices, :]"
   ]
  },
  {
   "cell_type": "code",
   "execution_count": null,
   "id": "d6bc9395",
   "metadata": {},
   "outputs": [],
   "source": []
  }
 ],
 "metadata": {
  "kernelspec": {
   "display_name": "Python 3 (ipykernel)",
   "language": "python",
   "name": "python3"
  },
  "language_info": {
   "codemirror_mode": {
    "name": "ipython",
    "version": 3
   },
   "file_extension": ".py",
   "mimetype": "text/x-python",
   "name": "python",
   "nbconvert_exporter": "python",
   "pygments_lexer": "ipython3",
   "version": "3.9.7"
  }
 },
 "nbformat": 4,
 "nbformat_minor": 5
}
