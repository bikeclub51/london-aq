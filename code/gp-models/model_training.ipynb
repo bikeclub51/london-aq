{
 "cells": [
  {
   "cell_type": "code",
   "execution_count": null,
   "id": "be7434a2",
   "metadata": {},
   "outputs": [],
   "source": [
    "\"\"\"\n",
    "Conversion from Ana's -> Alex's data\n",
    "Timestamp -> date\n",
    "SiteCode -> code\n",
    "Latitude -> latitude\n",
    "Longitude -> longitude\n",
    "transform_data(monthly_NO2_df, pollutant -> pollutant.lower())\n",
    "\"\"\""
   ]
  },
  {
   "cell_type": "code",
   "execution_count": 1,
   "id": "d59cf221",
   "metadata": {},
   "outputs": [],
   "source": [
    "from multiprocessing import pool\n",
    "import pandas as pd\n",
    "import numpy as np\n",
    "from datetime import datetime\n",
    "from sklearn.gaussian_process import GaussianProcessRegressor\n",
    "import sklearn.gaussian_process.kernels as kernels\n",
    "from sklearn.model_selection import train_test_split\n",
    "from sklearn.preprocessing import StandardScaler\n",
    "import pickle\n",
    "import time\n",
    "import matplotlib.pyplot as plt\n",
    "import os\n",
    "import random\n",
    "from calendar import monthrange"
   ]
  },
  {
   "cell_type": "code",
   "execution_count": 2,
   "id": "26f9df9c",
   "metadata": {},
   "outputs": [],
   "source": [
    "def load_data(pollutant, data_path=\"data-collection/\", timestep=None, time_range=None, season=None, dayOfWeek=None, timeOfDay=None):\n",
    "    \"\"\"\n",
    "    :param pollutant: {\"CO\", \"NO2\", \"O3\", \"SO2\", \"PM10\", \"PM25\"}\n",
    "    :param data_path: path to data directory\n",
    "    :param timestep: {\"H\", \"D\", \"M\", \"Y\"}\n",
    "    :param time_range: if provided, get data within the given time_range, inclusive (if second element isn't provided, defaults to today)\n",
    "    :param season: if provided, {\"winter\", \"spring\", \"summer\", \"autumn\"} for seasonal buckets\n",
    "            Winter: December, January, Ferbruary\n",
    "            Spring: March, April and May\n",
    "            Summer: June, July and August\n",
    "            Autumn: September, October and November\n",
    "    :param dayOfWeek: if provided, {\"weekday\", \"weekend\"}\n",
    "    :param timeOfDay: if provided, {\"day\", \"night\"}\n",
    "    \"\"\"\n",
    "    df = pd.read_csv(f\"{data_path}{pollutant}.csv\", parse_dates=[\"date\"])\n",
    "\n",
    "    # get data within a given time range\n",
    "    if time_range:\n",
    "        start, end = time_range\n",
    "        if not end:\n",
    "            end = datetime.today\n",
    "        df = df.loc[(df[\"date\"] >= start) & (df[\"date\"] <= end)]\n",
    "\n",
    "    df = df.set_index(\"date\")\n",
    "    # daily, monthly, yearly\n",
    "    if timestep in {\"D\", \"M\", \"Y\"}:\n",
    "        index_format = {\"D\": \"%Y-%m-%d\", \"M\": \"%Y-%m\", \"Y\": \"%Y\"}\n",
    "        df = df.groupby(by=[\"code\"]).resample(timestep).mean().dropna().reset_index()\n",
    "        # df[\"date\"] = df[\"date\"].apply(lambda x: x.strftime(index_format[timestep]))\n",
    "\n",
    "    # seasonal buckets\n",
    "    if season:\n",
    "        months = [12, 1, 2] if season == \"winter\" \\\n",
    "            else [i for i in range(3, 6)] if season == \"spring\" \\\n",
    "                else [i for i in range(6, 9)] if season == \"summer\" \\\n",
    "                    else [i for i in range(9, 12)] if season == \"autumn\" else [i for i in range(12)]\n",
    "\n",
    "        df[\"Month\"] = pd.DatetimeIndex(df['date']).month\n",
    "        # print(df)\n",
    "\n",
    "        # define condition: month must be within seasonal month range\n",
    "        condition = ((df.Month >= months[0]) & (df.Month <= months[-1]))\n",
    "        if season == \"winter\":\n",
    "            condition = ((df.Month >= months[0]) | (df.Month <= months[-1]))\n",
    "        df = df.loc[condition]\n",
    "        \n",
    "        # print(df)\n",
    "        # print(\"Season: \", season, \" , \", months)\n",
    "        # print(\"Season Months: \", df.Month.unique())\n",
    "\n",
    "        # drop created month column\n",
    "        df = df.drop([\"Month\"], axis=1)\n",
    "        print(df)\n",
    "        \n",
    "    # day of week buckets: weekday vs weekend\n",
    "    if dayOfWeek:\n",
    "        days = [i for i in range(5)] if dayOfWeek == \"weekday\" else [i for i in range(5,7)]\n",
    "\n",
    "        df[\"DayOfWeek\"] = pd.DatetimeIndex(df['date']).dayofweek\n",
    "\n",
    "        condition = ((df.DayOfWeek >= days[0]) & (df.DayOfWeek <= days[-1]))\n",
    "        df = df.loc[condition]\n",
    "\n",
    "        # print(df)\n",
    "        # print(\"Day of week: \", dayOfWeek, \" , \", days)\n",
    "        # print(\"Day of week days: \", df.DayOfWeek.unique())\n",
    "\n",
    "        df = df.drop([\"DayOfWeek\"], axis=1)\n",
    "    \n",
    "    # daytime (7am - 5pm) vs nighttime (5pm - 7am) buckets, according to London's sunrise and sunset times\n",
    "    if timeOfDay:\n",
    "        hours = [i for i in range(7, 18)] if timeOfDay == \"day\" else [i%24 for i in range(18, 31)]\n",
    "\n",
    "        df[\"Hour\"] = pd.DatetimeIndex(df['date']).hour\n",
    "\n",
    "        condition = ((df.Hour >= hours[0]) & (df.Hour <= hours[-1]))\n",
    "        if timeOfDay == \"night\":\n",
    "            condition = ((df.Hour >= hours[0]) | (df.Hour <= hours[-1]))\n",
    "        df = df.loc[condition]\n",
    "\n",
    "        # print(df)\n",
    "        # print(\"Time of day: \", timeOfDay, \" , \", hours)\n",
    "        # print(\"Hours of time of day in df: \", df.Hour.unique())\n",
    "\n",
    "        df = df.drop([\"Hour\"], axis=1)\n",
    "\n",
    "    return df"
   ]
  },
  {
   "cell_type": "code",
   "execution_count": 3,
   "id": "3609ded3",
   "metadata": {},
   "outputs": [],
   "source": [
    "def transform_data(df, pollutant, timestep):\n",
    "    df = df.sort_values(\"date\")\n",
    "    dates = df[\"date\"].values\n",
    "\n",
    "    COUNT = -1\n",
    "    CURRENT_DATE = None\n",
    "    ts = []\n",
    "    for date in dates:\n",
    "        if date != CURRENT_DATE:\n",
    "            COUNT += 1\n",
    "            CURRENT_DATE = date\n",
    "        ts.append(COUNT)\n",
    "    df['t'] = ts\n",
    "\n",
    "    lat_scaler = StandardScaler()\n",
    "    df[\"norm_lat\"] = lat_scaler.fit_transform(df[[\"latitude\"]].values)\n",
    "    lon_scaler = StandardScaler()\n",
    "    df[\"norm_lon\"] = lon_scaler.fit_transform(df[[\"longitude\"]].values)\n",
    "    pol_scaler = StandardScaler()\n",
    "    df[f\"norm_{pollutant}\"] = pol_scaler.fit_transform(df[[pollutant]].values)\n",
    "\n",
    "    return df, {\"lat\": lat_scaler, \"lon\": lon_scaler, pollutant: pol_scaler}"
   ]
  },
  {
   "cell_type": "code",
   "execution_count": 4,
   "id": "f16f84c8",
   "metadata": {},
   "outputs": [],
   "source": [
    "def get_X_Y_split(df, pollutant):\n",
    "    X = df[[\"norm_lat\", \"norm_lon\", \"t\"]].values\n",
    "    Y = df[[f\"norm_{pollutant}\"]].values\n",
    "    N, M = X.shape\n",
    "    indices = np.arange(N)\n",
    "    X_train, X_val, Y_train, Y_val, train_indices, test_indices = train_test_split(X, Y, indices, test_size=0.35)\n",
    "    return X, X_train, X_val, Y, Y_train, Y_val, train_indices, test_indices"
   ]
  },
  {
   "cell_type": "code",
   "execution_count": 5,
   "id": "a8266251",
   "metadata": {},
   "outputs": [],
   "source": [
    "def get_site_train_test_data(df, pol, train_indices, test_indices, code=None):\n",
    "    train_df = df.iloc[train_indices, :]\n",
    "    if code:\n",
    "        train_df = train_df.loc[train_df[\"code\"] == code]\n",
    "    train_X = train_df[[\"norm_lat\", \"norm_lon\", \"t\"]]\n",
    "    train_Y = train_df[[f\"norm_{pol}\"]]\n",
    "    \n",
    "    test_df = df.iloc[test_indices, :]\n",
    "    if code:\n",
    "        test_df = test_df.loc[test_df[\"code\"] == code]\n",
    "    test_X = test_df[[\"norm_lat\", \"norm_lon\", \"t\"]]\n",
    "    test_Y = test_df[[f\"norm_{pol}\"]]\n",
    "\n",
    "    if code:\n",
    "        all_df = df.loc[df[\"code\"] == code]\n",
    "    all_X = all_df[[\"norm_lat\", \"norm_lon\", \"t\"]]\n",
    "    all_Y = all_df[[f\"norm_{pol}\"]]\n",
    "    \n",
    "    return all_X, all_Y, train_X, train_Y, test_X, test_Y"
   ]
  },
  {
   "cell_type": "code",
   "execution_count": 6,
   "id": "62294808",
   "metadata": {},
   "outputs": [],
   "source": [
    "def get_values(site_train_test_data_output):\n",
    "    all_X, all_Y, train_X, train_Y, test_X, test_Y = site_train_test_data_output\n",
    "    all_X = all_X.values\n",
    "    all_Y = all_Y.values\n",
    "    train_X = train_X.values\n",
    "    train_Y = train_Y.values\n",
    "    test_X = test_X.values\n",
    "    test_Y = test_Y.values\n",
    "    return all_X, all_Y, train_X, train_Y, test_X, test_Y"
   ]
  },
  {
   "cell_type": "code",
   "execution_count": 7,
   "id": "21f8a464",
   "metadata": {},
   "outputs": [],
   "source": [
    "def plot_predictions(model, df, train_indices, test_indices, codes, title, save_path): #, X, X_train, X_val, y, y_train, y_val, codes, title, save_path):\n",
    "    '''\n",
    "    Plots predictions before and after training GPR model for given site code sensor location\n",
    "    :param site_code: str label of sensor location\n",
    "    '''\n",
    "    \n",
    "    lat_scaler, lon_scaler, pol_scaler = SCALERS['lat'], SCALERS['lon'], SCALERS['no2'] # TODO: generalize pollutant\n",
    "    min_t = df['t'].min()\n",
    "    max_t = df['t'].max()\n",
    "    t_s = np.linspace(min_t, max_t, (max_t-min_t+1)*10)\n",
    "    fig, ax = plt.subplots()\n",
    "    \n",
    "    for code in codes:\n",
    "        output = get_site_train_test_data(df, \"no2\", train_indices, test_indices, code) # TODO: generalize pollutant\n",
    "        temp = output[0]\n",
    "        lat, lon = temp.iloc[0]['norm_lat'], temp.iloc[0]['norm_lon']\n",
    "        temp = pd.DataFrame({\"t\": t_s})\n",
    "        temp['norm_lat'] = lat\n",
    "        temp['norm_lon'] = lon\n",
    "        temp = temp[['norm_lat', 'norm_lon', 't']]\n",
    "        output = (temp, output[1], output[2], output[3], output[4], output[5])\n",
    "        all_X, all_Y, train_X, train_Y, test_X, test_Y = get_values(output)\n",
    "\n",
    "        if (test_X.shape[0] > 0): # only plot if we have test data\n",
    "            plt.figure(figsize=(36, 12))\n",
    "            plt.subplots(facecolor='white')\n",
    "            all_mean_prediction, all_std_prediction = model.predict(all_X, return_std=True) # Predict Y values at test locations\n",
    "            all_mean_prediction, all_std_prediction = pol_scaler.inverse_transform(all_mean_prediction.reshape(-1, 1)), pol_scaler.inverse_transform(all_std_prediction.reshape(-1, 1))\n",
    "            all_X_t = all_X[:, 2] # only plot time for a given site\n",
    "            all_mean_prediction = all_mean_prediction.flatten()\n",
    "            all_std_prediction = all_std_prediction.flatten()\n",
    "\n",
    "            test_mean_prediction, test_std_prediction = model.predict(test_X, return_std=True)\n",
    "            test_mean_prediction, test_std_prediction = pol_scaler.inverse_transform(test_mean_prediction.reshape(-1, 1)), pol_scaler.inverse_transform(test_std_prediction.reshape(-1, 1))\n",
    "            test_X_t = test_X[:, 2]\n",
    "            test_mean_prediction = test_mean_prediction.flatten()\n",
    "            test_std_prediction = test_std_prediction.flatten()\n",
    "\n",
    "            train_X_t = train_X[:, 2] # only plot time for a given site\n",
    "\n",
    "            if train_Y.size > 0:\n",
    "                train_Y = pol_scaler.inverse_transform(train_Y).flatten()\n",
    "                plt.plot(train_X_t, train_Y, \"x\", label=\"Training points\", alpha=0.9, color=\"green\", linestyle=\"None\")\n",
    "            test_Y_plot = pol_scaler.inverse_transform(test_Y).flatten()\n",
    "            plt.plot(test_X_t, test_mean_prediction, \"o\", label=\"Testing point prediction\", alpha=0.9, color=\"red\", linestyle=\"None\")\n",
    "            plt.plot(test_X_t, test_Y_plot, \"o\", label=\"Testing point actual value\", alpha = 0.9, color=\"orange\", linestyle=\"None\")\n",
    "\n",
    "            all_X_t, all_mean_prediction = zip(*sorted(zip(all_X_t, all_mean_prediction)))\n",
    "            (line,) = plt.plot(all_X_t, all_mean_prediction, lw=1.5, label=\"Mean of predictive posterior\")\n",
    "            col = line.get_color() \n",
    "            \n",
    "            # plt.errorbar(\n",
    "            #     train_X_t,\n",
    "            #     train_Y,\n",
    "            #     noise_std,\n",
    "            #     linestyle=\"None\",\n",
    "            #     color=\"tab:blue\",\n",
    "            #     marker=\".\",\n",
    "            #     markersize=10,\n",
    "            #     label=\"Observations\",\n",
    "            # )\n",
    "\n",
    "            plt.fill_between(\n",
    "                all_X_t,\n",
    "                all_mean_prediction - all_std_prediction,#[:, 0],\n",
    "                all_mean_prediction + all_std_prediction,#[:, 0],\n",
    "                # all_mean_prediction - 1.96 * all_std_prediction,#[:, 0],\n",
    "                # all_mean_prediction + 1.96 * all_std_prediction,#[:, 0],\n",
    "                color=col,\n",
    "                alpha=0.8,\n",
    "                label=r\"1 std. dev.\"\n",
    "            )\n",
    "            # Z = model.inducing_variable.Z.numpy()\n",
    "            # plt.plot(Z, np.zeros_like(Z), \"k|\", mew=2, label=\"Inducing locations\")\n",
    "            plt.legend(loc=\"lower right\")\n",
    "            \n",
    "            # loss = model.training_loss((X_val, y_val))\n",
    "            # loss = 0\n",
    "            score = model.score(test_X, test_Y)\n",
    "            # score = 0\n",
    "            plt.title(f\"{title} ({code}); val score (n={test_X.shape[0]})={score}\")\n",
    "            plt.xlabel(f\"Timestep\")\n",
    "            plt.ylabel(f\"Concentration of NO2 (ug/m3)\")\n",
    "            \n",
    "            # create folder for model run\n",
    "            isExist = os.path.exists(save_path)\n",
    "            if not isExist:\n",
    "                os.makedirs(save_path)\n",
    "\n",
    "            plt.savefig(fname=save_path + \"prediction_\" + code + \".png\")\n",
    "            plt.close()"
   ]
  },
  {
   "cell_type": "code",
   "execution_count": 8,
   "id": "878a64ed",
   "metadata": {
    "scrolled": true
   },
   "outputs": [
    {
     "name": "stdout",
     "output_type": "stream",
     "text": [
      "Getting data...\n",
      "Done\n"
     ]
    }
   ],
   "source": [
    "pollutant = \"NO2\"\n",
    "timestep = \"D\"\n",
    "time_range = (datetime(2020, 9, 1), datetime(2020, 12, 31))\n",
    "season = None\n",
    "dayOfWeek = None\n",
    "timeOfDay = None # \"day\" # timestep must be \"H\" in order to create time of day buckets\n",
    "#figure_title = pollutant + \"_\" + timestep + \"_\" + str(subset) + \"_\" + season + \"_\" + dayOfWeek\n",
    "\n",
    "random_id = random.randint(0, 10000)\n",
    "figure_title = \"NO2_daily_2020\"\n",
    "filename = figure_title = f\"{random_id}_{figure_title}\"\n",
    "\n",
    "print(\"Getting data...\")\n",
    "# change subset param for all months\n",
    "df = load_data(pollutant, data_path=\"../../data/\", timestep=timestep, time_range=time_range, season=season, dayOfWeek=dayOfWeek, timeOfDay=timeOfDay)\n",
    "print(\"Done\")"
   ]
  },
  {
   "cell_type": "code",
   "execution_count": 41,
   "id": "ed0ca144",
   "metadata": {},
   "outputs": [
    {
     "data": {
      "text/html": [
       "<div>\n",
       "<style scoped>\n",
       "    .dataframe tbody tr th:only-of-type {\n",
       "        vertical-align: middle;\n",
       "    }\n",
       "\n",
       "    .dataframe tbody tr th {\n",
       "        vertical-align: top;\n",
       "    }\n",
       "\n",
       "    .dataframe thead th {\n",
       "        text-align: right;\n",
       "    }\n",
       "</style>\n",
       "<table border=\"1\" class=\"dataframe\">\n",
       "  <thead>\n",
       "    <tr style=\"text-align: right;\">\n",
       "      <th></th>\n",
       "      <th>code</th>\n",
       "      <th>date</th>\n",
       "      <th>nox</th>\n",
       "      <th>no2</th>\n",
       "      <th>latitude</th>\n",
       "      <th>longitude</th>\n",
       "    </tr>\n",
       "  </thead>\n",
       "  <tbody>\n",
       "    <tr>\n",
       "      <th>0</th>\n",
       "      <td>BG1</td>\n",
       "      <td>2020-09-01</td>\n",
       "      <td>28.481455</td>\n",
       "      <td>18.739817</td>\n",
       "      <td>51.563752</td>\n",
       "      <td>0.177891</td>\n",
       "    </tr>\n",
       "    <tr>\n",
       "      <th>1</th>\n",
       "      <td>BG1</td>\n",
       "      <td>2020-09-02</td>\n",
       "      <td>25.363198</td>\n",
       "      <td>19.234640</td>\n",
       "      <td>51.563752</td>\n",
       "      <td>0.177891</td>\n",
       "    </tr>\n",
       "    <tr>\n",
       "      <th>2</th>\n",
       "      <td>BG1</td>\n",
       "      <td>2020-09-03</td>\n",
       "      <td>11.182920</td>\n",
       "      <td>9.820599</td>\n",
       "      <td>51.563752</td>\n",
       "      <td>0.177891</td>\n",
       "    </tr>\n",
       "    <tr>\n",
       "      <th>3</th>\n",
       "      <td>BG1</td>\n",
       "      <td>2020-09-04</td>\n",
       "      <td>15.047920</td>\n",
       "      <td>12.363218</td>\n",
       "      <td>51.563752</td>\n",
       "      <td>0.177891</td>\n",
       "    </tr>\n",
       "    <tr>\n",
       "      <th>4</th>\n",
       "      <td>BG1</td>\n",
       "      <td>2020-09-05</td>\n",
       "      <td>19.220995</td>\n",
       "      <td>16.554275</td>\n",
       "      <td>51.563752</td>\n",
       "      <td>0.177891</td>\n",
       "    </tr>\n",
       "  </tbody>\n",
       "</table>\n",
       "</div>"
      ],
      "text/plain": [
       "  code       date        nox        no2   latitude  longitude\n",
       "0  BG1 2020-09-01  28.481455  18.739817  51.563752   0.177891\n",
       "1  BG1 2020-09-02  25.363198  19.234640  51.563752   0.177891\n",
       "2  BG1 2020-09-03  11.182920   9.820599  51.563752   0.177891\n",
       "3  BG1 2020-09-04  15.047920  12.363218  51.563752   0.177891\n",
       "4  BG1 2020-09-05  19.220995  16.554275  51.563752   0.177891"
      ]
     },
     "execution_count": 41,
     "metadata": {},
     "output_type": "execute_result"
    }
   ],
   "source": [
    "df.head()"
   ]
  },
  {
   "cell_type": "code",
   "execution_count": 48,
   "id": "ff7273c9",
   "metadata": {
    "scrolled": true
   },
   "outputs": [
    {
     "name": "stdout",
     "output_type": "stream",
     "text": [
      "Preparing data...\n",
      "     code       date         nox        no2   latitude  longitude  t  \\\n",
      "0     BG1 2020-09-01   28.481455  18.739817  51.563752   0.177891  0   \n",
      "7473  RB7 2020-09-01   71.866019  30.236531  51.569484   0.082907  0   \n",
      "1489  CR7 2020-09-01   73.649117  35.895752  51.362231  -0.117605  0   \n",
      "8684  TH4 2020-09-01  123.022765  53.081434  51.515046  -0.008418  0   \n",
      "1646  CT3 2020-09-01   47.945373  31.527763  51.513847  -0.077766  0   \n",
      "\n",
      "      norm_lat  norm_lon  norm_no2  \n",
      "0     1.075617  2.027039 -0.842800  \n",
      "7473  1.171141  1.327896 -0.146722  \n",
      "1489 -2.282563 -0.148008  0.195920  \n",
      "8684  0.263977  0.655675  1.236441  \n",
      "1646  0.243996  0.145233 -0.068544  \n",
      "(10284, 10)\n"
     ]
    }
   ],
   "source": [
    "print(\"Preparing data...\")\n",
    "df, SCALERS = transform_data(df, pollutant.lower(), timestep)\n",
    "X, X_train, X_val, Y, Y_train, Y_val, train_indices, test_indices = get_X_Y_split(df, pollutant.lower())\n",
    "site_codes = df[\"code\"].unique()\n",
    "print(df.head())\n",
    "print(df.shape)"
   ]
  },
  {
   "cell_type": "code",
   "execution_count": 49,
   "id": "96ec8e1f",
   "metadata": {},
   "outputs": [
    {
     "name": "stdout",
     "output_type": "stream",
     "text": [
      "Creating model...\n",
      "Training model...\n",
      "Started at 104.532346\n"
     ]
    },
    {
     "name": "stderr",
     "output_type": "stream",
     "text": [
      "/usr/local/lib/python3.9/site-packages/sklearn/gaussian_process/kernels.py:285: RuntimeWarning: divide by zero encountered in log\n",
      "  return np.log(np.hstack(theta))\n",
      "/usr/local/lib/python3.9/site-packages/sklearn/gaussian_process/kernels.py:420: ConvergenceWarning: The optimal value found for dimension 0 of parameter k1__k2__length_scale is close to the specified lower bound 1e-05. Decreasing the bound and calling fit again may find a better value.\n",
      "  warnings.warn(\n",
      "/usr/local/lib/python3.9/site-packages/sklearn/gaussian_process/kernels.py:420: ConvergenceWarning: The optimal value found for dimension 1 of parameter k1__k2__length_scale is close to the specified lower bound 1e-05. Decreasing the bound and calling fit again may find a better value.\n",
      "  warnings.warn(\n",
      "/usr/local/lib/python3.9/site-packages/sklearn/gaussian_process/kernels.py:420: ConvergenceWarning: The optimal value found for dimension 2 of parameter k2__length_scale is close to the specified lower bound 1e-05. Decreasing the bound and calling fit again may find a better value.\n",
      "  warnings.warn(\n"
     ]
    },
    {
     "name": "stdout",
     "output_type": "stream",
     "text": [
      "Finished after 6287.620389\n",
      "Scoring model...\n",
      "0.8248847839623461\n"
     ]
    }
   ],
   "source": [
    "print(\"Creating model...\")\n",
    "PERIODICITY = 7\n",
    "kernel = kernels.ExpSineSquared(periodicity=PERIODICITY)*kernels.RBF([0, 0, 1.0]) + kernels.RBF([1.0, 1.0, 0])\n",
    "# kernel = kernels.RBF([1.0, 1.0, 0])\n",
    "model = GaussianProcessRegressor(kernel=kernel, alpha=1e-10, n_restarts_optimizer=2, normalize_y=False)\n",
    "\n",
    "# plot_predictions(model, X, X_train, X_val, Y, Y_train, Y_val, site_codes, title=\"Predictions before training\", save_path=\"code/gp-models/GPR_figures/\" + figure_title + \"/preTraining/\")\n",
    "# plot_predictions(model, df, train_indices, test_indices, site_codes, title=\"Predictions before training\", save_path=\"GPR_figures/\" + figure_title + \"/preTraining/\")\n",
    "\n",
    "print(\"Training model...\")\n",
    "start_time = time.process_time()\n",
    "print(f\"Started at {start_time}\")\n",
    "model.fit(X_train, Y_train)\n",
    "elapsed_time = time.process_time()\n",
    "print(f\"Finished after {elapsed_time-start_time}\")\n",
    "\n",
    "# plot results\n",
    "# plot_predictions(model, X, X_train, X_val, Y, Y_train, Y_val, site_codes, title=\"Predictions after training\", save_path=\"code/gp-models/GPR_figures/\" + figure_title + \"/postTraining/\")\n",
    "print(\"Scoring model...\")\n",
    "print(model.score(X_val, Y_val))\n",
    "# final_train_X, final_train_Y, final_test_X, final_test_Y = get_site_train_test_data()"
   ]
  },
  {
   "cell_type": "code",
   "execution_count": 9,
   "id": "b1995e29",
   "metadata": {},
   "outputs": [
    {
     "name": "stdout",
     "output_type": "stream",
     "text": [
      "Saving model...\n"
     ]
    },
    {
     "ename": "NameError",
     "evalue": "name 'train_indices' is not defined",
     "output_type": "error",
     "traceback": [
      "\u001b[0;31m---------------------------------------------------------------------------\u001b[0m",
      "\u001b[0;31mNameError\u001b[0m                                 Traceback (most recent call last)",
      "\u001b[0;32m/var/folders/6c/3n2fd4rj4l3gj84562cjz0kr0000gn/T/ipykernel_18327/434378980.py\u001b[0m in \u001b[0;36m<module>\u001b[0;34m\u001b[0m\n\u001b[1;32m      3\u001b[0m \u001b[0mdf_filename\u001b[0m \u001b[0;34m=\u001b[0m \u001b[0;34mf\"{filename}_df.sav\"\u001b[0m\u001b[0;34m\u001b[0m\u001b[0;34m\u001b[0m\u001b[0m\n\u001b[1;32m      4\u001b[0m \u001b[0mmodel_filename\u001b[0m \u001b[0;34m=\u001b[0m \u001b[0;34mf\"{filename}_model.sav\"\u001b[0m\u001b[0;34m\u001b[0m\u001b[0;34m\u001b[0m\u001b[0m\n\u001b[0;32m----> 5\u001b[0;31m \u001b[0mindices\u001b[0m \u001b[0;34m=\u001b[0m \u001b[0;34m(\u001b[0m\u001b[0mtrain_indices\u001b[0m\u001b[0;34m,\u001b[0m \u001b[0mtest_indices\u001b[0m\u001b[0;34m)\u001b[0m\u001b[0;34m\u001b[0m\u001b[0;34m\u001b[0m\u001b[0m\n\u001b[0m\u001b[1;32m      6\u001b[0m \u001b[0mindices_filename\u001b[0m \u001b[0;34m=\u001b[0m \u001b[0;34mf\"{filename}_indices.sav\"\u001b[0m\u001b[0;34m\u001b[0m\u001b[0;34m\u001b[0m\u001b[0m\n\u001b[1;32m      7\u001b[0m \u001b[0mscalers_filename\u001b[0m \u001b[0;34m=\u001b[0m \u001b[0;34mf\"{filename}_scalers.sav\"\u001b[0m\u001b[0;34m\u001b[0m\u001b[0;34m\u001b[0m\u001b[0m\n",
      "\u001b[0;31mNameError\u001b[0m: name 'train_indices' is not defined"
     ]
    }
   ],
   "source": [
    "print(\"Saving model...\")\n",
    "df_filename = f\"{filename}_df.sav\"\n",
    "model_filename = f\"{filename}_model.sav\"\n",
    "indices = (train_indices, test_indices)\n",
    "indices_filename = f\"{filename}_indices.sav\"\n",
    "scalers_filename = f\"{filename}_scalers.sav\"\n",
    "pickle.dump(df, open(df_filename, \"wb\"))\n",
    "pickle.dump(model, open(model_filename, \"wb\"))\n",
    "pickle.dump(indices, open(indices_filename, \"wb\"))\n",
    "pickle.dump(SCALERS, open(scalers_filename, \"wb\"))\n",
    "print(\"Successfully trained and saved model at:\")\n",
    "print(df_filename)\n",
    "print(model_filename)\n",
    "print(indices_filename)\n",
    "print(scalers_filename)"
   ]
  },
  {
   "cell_type": "code",
   "execution_count": 12,
   "id": "46dd2d13",
   "metadata": {},
   "outputs": [
    {
     "name": "stderr",
     "output_type": "stream",
     "text": [
      "/Users/alexherrera/opt/anaconda3/envs/london-aq/lib/python3.7/site-packages/ipykernel_launcher.py:26: RuntimeWarning: More than 20 figures have been opened. Figures created through the pyplot interface (`matplotlib.pyplot.figure`) are retained until explicitly closed and may consume too much memory. (To control this warning, see the rcParam `figure.max_open_warning`).\n",
      "/Users/alexherrera/opt/anaconda3/envs/london-aq/lib/python3.7/site-packages/ipykernel_launcher.py:25: RuntimeWarning: More than 20 figures have been opened. Figures created through the pyplot interface (`matplotlib.pyplot.figure`) are retained until explicitly closed and may consume too much memory. (To control this warning, see the rcParam `figure.max_open_warning`).\n"
     ]
    },
    {
     "data": {
      "image/png": "[encoded data removed]",
      "text/plain": [
       "<Figure size 432x288 with 1 Axes>"
      ]
     },
     "metadata": {
      "needs_background": "light"
     },
     "output_type": "display_data"
    },
    {
     "data": {
      "text/plain": [
       "<Figure size 2592x864 with 0 Axes>"
      ]
     },
     "metadata": {},
     "output_type": "display_data"
    },
    {
     "data": {
      "text/plain": [
       "<Figure size 2592x864 with 0 Axes>"
      ]
     },
     "metadata": {},
     "output_type": "display_data"
    },
    {
     "data": {
      "text/plain": [
       "<Figure size 2592x864 with 0 Axes>"
      ]
     },
     "metadata": {},
     "output_type": "display_data"
    },
    {
     "data": {
      "text/plain": [
       "<Figure size 2592x864 with 0 Axes>"
      ]
     },
     "metadata": {},
     "output_type": "display_data"
    },
    {
     "data": {
      "text/plain": [
       "<Figure size 2592x864 with 0 Axes>"
      ]
     },
     "metadata": {},
     "output_type": "display_data"
    },
    {
     "data": {
      "text/plain": [
       "<Figure size 2592x864 with 0 Axes>"
      ]
     },
     "metadata": {},
     "output_type": "display_data"
    },
    {
     "data": {
      "text/plain": [
       "<Figure size 2592x864 with 0 Axes>"
      ]
     },
     "metadata": {},
     "output_type": "display_data"
    },
    {
     "data": {
      "text/plain": [
       "<Figure size 2592x864 with 0 Axes>"
      ]
     },
     "metadata": {},
     "output_type": "display_data"
    },
    {
     "data": {
      "text/plain": [
       "<Figure size 2592x864 with 0 Axes>"
      ]
     },
     "metadata": {},
     "output_type": "display_data"
    },
    {
     "data": {
      "text/plain": [
       "<Figure size 2592x864 with 0 Axes>"
      ]
     },
     "metadata": {},
     "output_type": "display_data"
    },
    {
     "data": {
      "text/plain": [
       "<Figure size 2592x864 with 0 Axes>"
      ]
     },
     "metadata": {},
     "output_type": "display_data"
    },
    {
     "data": {
      "text/plain": [
       "<Figure size 2592x864 with 0 Axes>"
      ]
     },
     "metadata": {},
     "output_type": "display_data"
    },
    {
     "data": {
      "text/plain": [
       "<Figure size 2592x864 with 0 Axes>"
      ]
     },
     "metadata": {},
     "output_type": "display_data"
    },
    {
     "data": {
      "text/plain": [
       "<Figure size 2592x864 with 0 Axes>"
      ]
     },
     "metadata": {},
     "output_type": "display_data"
    },
    {
     "data": {
      "text/plain": [
       "<Figure size 2592x864 with 0 Axes>"
      ]
     },
     "metadata": {},
     "output_type": "display_data"
    },
    {
     "data": {
      "text/plain": [
       "<Figure size 2592x864 with 0 Axes>"
      ]
     },
     "metadata": {},
     "output_type": "display_data"
    },
    {
     "data": {
      "text/plain": [
       "<Figure size 2592x864 with 0 Axes>"
      ]
     },
     "metadata": {},
     "output_type": "display_data"
    },
    {
     "data": {
      "text/plain": [
       "<Figure size 2592x864 with 0 Axes>"
      ]
     },
     "metadata": {},
     "output_type": "display_data"
    },
    {
     "data": {
      "text/plain": [
       "<Figure size 2592x864 with 0 Axes>"
      ]
     },
     "metadata": {},
     "output_type": "display_data"
    },
    {
     "data": {
      "text/plain": [
       "<Figure size 2592x864 with 0 Axes>"
      ]
     },
     "metadata": {},
     "output_type": "display_data"
    },
    {
     "data": {
      "text/plain": [
       "<Figure size 2592x864 with 0 Axes>"
      ]
     },
     "metadata": {},
     "output_type": "display_data"
    },
    {
     "data": {
      "text/plain": [
       "<Figure size 2592x864 with 0 Axes>"
      ]
     },
     "metadata": {},
     "output_type": "display_data"
    },
    {
     "data": {
      "text/plain": [
       "<Figure size 2592x864 with 0 Axes>"
      ]
     },
     "metadata": {},
     "output_type": "display_data"
    },
    {
     "data": {
      "text/plain": [
       "<Figure size 2592x864 with 0 Axes>"
      ]
     },
     "metadata": {},
     "output_type": "display_data"
    },
    {
     "data": {
      "text/plain": [
       "<Figure size 2592x864 with 0 Axes>"
      ]
     },
     "metadata": {},
     "output_type": "display_data"
    },
    {
     "data": {
      "text/plain": [
       "<Figure size 2592x864 with 0 Axes>"
      ]
     },
     "metadata": {},
     "output_type": "display_data"
    },
    {
     "data": {
      "text/plain": [
       "<Figure size 2592x864 with 0 Axes>"
      ]
     },
     "metadata": {},
     "output_type": "display_data"
    },
    {
     "data": {
      "text/plain": [
       "<Figure size 2592x864 with 0 Axes>"
      ]
     },
     "metadata": {},
     "output_type": "display_data"
    },
    {
     "data": {
      "text/plain": [
       "<Figure size 2592x864 with 0 Axes>"
      ]
     },
     "metadata": {},
     "output_type": "display_data"
    },
    {
     "data": {
      "text/plain": [
       "<Figure size 2592x864 with 0 Axes>"
      ]
     },
     "metadata": {},
     "output_type": "display_data"
    },
    {
     "data": {
      "text/plain": [
       "<Figure size 2592x864 with 0 Axes>"
      ]
     },
     "metadata": {},
     "output_type": "display_data"
    },
    {
     "data": {
      "text/plain": [
       "<Figure size 2592x864 with 0 Axes>"
      ]
     },
     "metadata": {},
     "output_type": "display_data"
    },
    {
     "data": {
      "text/plain": [
       "<Figure size 2592x864 with 0 Axes>"
      ]
     },
     "metadata": {},
     "output_type": "display_data"
    },
    {
     "data": {
      "text/plain": [
       "<Figure size 2592x864 with 0 Axes>"
      ]
     },
     "metadata": {},
     "output_type": "display_data"
    },
    {
     "data": {
      "text/plain": [
       "<Figure size 2592x864 with 0 Axes>"
      ]
     },
     "metadata": {},
     "output_type": "display_data"
    },
    {
     "data": {
      "text/plain": [
       "<Figure size 2592x864 with 0 Axes>"
      ]
     },
     "metadata": {},
     "output_type": "display_data"
    },
    {
     "data": {
      "text/plain": [
       "<Figure size 2592x864 with 0 Axes>"
      ]
     },
     "metadata": {},
     "output_type": "display_data"
    },
    {
     "data": {
      "text/plain": [
       "<Figure size 2592x864 with 0 Axes>"
      ]
     },
     "metadata": {},
     "output_type": "display_data"
    },
    {
     "data": {
      "text/plain": [
       "<Figure size 2592x864 with 0 Axes>"
      ]
     },
     "metadata": {},
     "output_type": "display_data"
    },
    {
     "data": {
      "text/plain": [
       "<Figure size 2592x864 with 0 Axes>"
      ]
     },
     "metadata": {},
     "output_type": "display_data"
    },
    {
     "data": {
      "text/plain": [
       "<Figure size 2592x864 with 0 Axes>"
      ]
     },
     "metadata": {},
     "output_type": "display_data"
    },
    {
     "data": {
      "text/plain": [
       "<Figure size 2592x864 with 0 Axes>"
      ]
     },
     "metadata": {},
     "output_type": "display_data"
    },
    {
     "data": {
      "text/plain": [
       "<Figure size 2592x864 with 0 Axes>"
      ]
     },
     "metadata": {},
     "output_type": "display_data"
    },
    {
     "data": {
      "text/plain": [
       "<Figure size 2592x864 with 0 Axes>"
      ]
     },
     "metadata": {},
     "output_type": "display_data"
    },
    {
     "data": {
      "text/plain": [
       "<Figure size 2592x864 with 0 Axes>"
      ]
     },
     "metadata": {},
     "output_type": "display_data"
    },
    {
     "data": {
      "text/plain": [
       "<Figure size 2592x864 with 0 Axes>"
      ]
     },
     "metadata": {},
     "output_type": "display_data"
    },
    {
     "data": {
      "text/plain": [
       "<Figure size 2592x864 with 0 Axes>"
      ]
     },
     "metadata": {},
     "output_type": "display_data"
    },
    {
     "data": {
      "text/plain": [
       "<Figure size 2592x864 with 0 Axes>"
      ]
     },
     "metadata": {},
     "output_type": "display_data"
    },
    {
     "data": {
      "text/plain": [
       "<Figure size 2592x864 with 0 Axes>"
      ]
     },
     "metadata": {},
     "output_type": "display_data"
    },
    {
     "data": {
      "text/plain": [
       "<Figure size 2592x864 with 0 Axes>"
      ]
     },
     "metadata": {},
     "output_type": "display_data"
    },
    {
     "data": {
      "text/plain": [
       "<Figure size 2592x864 with 0 Axes>"
      ]
     },
     "metadata": {},
     "output_type": "display_data"
    },
    {
     "data": {
      "text/plain": [
       "<Figure size 2592x864 with 0 Axes>"
      ]
     },
     "metadata": {},
     "output_type": "display_data"
    },
    {
     "data": {
      "text/plain": [
       "<Figure size 2592x864 with 0 Axes>"
      ]
     },
     "metadata": {},
     "output_type": "display_data"
    },
    {
     "data": {
      "text/plain": [
       "<Figure size 2592x864 with 0 Axes>"
      ]
     },
     "metadata": {},
     "output_type": "display_data"
    },
    {
     "data": {
      "text/plain": [
       "<Figure size 2592x864 with 0 Axes>"
      ]
     },
     "metadata": {},
     "output_type": "display_data"
    },
    {
     "data": {
      "text/plain": [
       "<Figure size 2592x864 with 0 Axes>"
      ]
     },
     "metadata": {},
     "output_type": "display_data"
    },
    {
     "data": {
      "text/plain": [
       "<Figure size 2592x864 with 0 Axes>"
      ]
     },
     "metadata": {},
     "output_type": "display_data"
    },
    {
     "data": {
      "text/plain": [
       "<Figure size 2592x864 with 0 Axes>"
      ]
     },
     "metadata": {},
     "output_type": "display_data"
    },
    {
     "data": {
      "text/plain": [
       "<Figure size 2592x864 with 0 Axes>"
      ]
     },
     "metadata": {},
     "output_type": "display_data"
    },
    {
     "data": {
      "text/plain": [
       "<Figure size 2592x864 with 0 Axes>"
      ]
     },
     "metadata": {},
     "output_type": "display_data"
    },
    {
     "data": {
      "text/plain": [
       "<Figure size 2592x864 with 0 Axes>"
      ]
     },
     "metadata": {},
     "output_type": "display_data"
    },
    {
     "data": {
      "text/plain": [
       "<Figure size 2592x864 with 0 Axes>"
      ]
     },
     "metadata": {},
     "output_type": "display_data"
    },
    {
     "data": {
      "text/plain": [
       "<Figure size 2592x864 with 0 Axes>"
      ]
     },
     "metadata": {},
     "output_type": "display_data"
    },
    {
     "data": {
      "text/plain": [
       "<Figure size 2592x864 with 0 Axes>"
      ]
     },
     "metadata": {},
     "output_type": "display_data"
    },
    {
     "data": {
      "text/plain": [
       "<Figure size 2592x864 with 0 Axes>"
      ]
     },
     "metadata": {},
     "output_type": "display_data"
    },
    {
     "data": {
      "text/plain": [
       "<Figure size 2592x864 with 0 Axes>"
      ]
     },
     "metadata": {},
     "output_type": "display_data"
    },
    {
     "data": {
      "text/plain": [
       "<Figure size 2592x864 with 0 Axes>"
      ]
     },
     "metadata": {},
     "output_type": "display_data"
    },
    {
     "data": {
      "text/plain": [
       "<Figure size 2592x864 with 0 Axes>"
      ]
     },
     "metadata": {},
     "output_type": "display_data"
    },
    {
     "data": {
      "text/plain": [
       "<Figure size 2592x864 with 0 Axes>"
      ]
     },
     "metadata": {},
     "output_type": "display_data"
    },
    {
     "data": {
      "text/plain": [
       "<Figure size 2592x864 with 0 Axes>"
      ]
     },
     "metadata": {},
     "output_type": "display_data"
    },
    {
     "data": {
      "text/plain": [
       "<Figure size 2592x864 with 0 Axes>"
      ]
     },
     "metadata": {},
     "output_type": "display_data"
    },
    {
     "data": {
      "text/plain": [
       "<Figure size 2592x864 with 0 Axes>"
      ]
     },
     "metadata": {},
     "output_type": "display_data"
    },
    {
     "data": {
      "text/plain": [
       "<Figure size 2592x864 with 0 Axes>"
      ]
     },
     "metadata": {},
     "output_type": "display_data"
    },
    {
     "data": {
      "text/plain": [
       "<Figure size 2592x864 with 0 Axes>"
      ]
     },
     "metadata": {},
     "output_type": "display_data"
    },
    {
     "data": {
      "text/plain": [
       "<Figure size 2592x864 with 0 Axes>"
      ]
     },
     "metadata": {},
     "output_type": "display_data"
    },
    {
     "data": {
      "text/plain": [
       "<Figure size 2592x864 with 0 Axes>"
      ]
     },
     "metadata": {},
     "output_type": "display_data"
    },
    {
     "data": {
      "text/plain": [
       "<Figure size 2592x864 with 0 Axes>"
      ]
     },
     "metadata": {},
     "output_type": "display_data"
    },
    {
     "data": {
      "text/plain": [
       "<Figure size 2592x864 with 0 Axes>"
      ]
     },
     "metadata": {},
     "output_type": "display_data"
    },
    {
     "data": {
      "text/plain": [
       "<Figure size 2592x864 with 0 Axes>"
      ]
     },
     "metadata": {},
     "output_type": "display_data"
    },
    {
     "data": {
      "text/plain": [
       "<Figure size 2592x864 with 0 Axes>"
      ]
     },
     "metadata": {},
     "output_type": "display_data"
    },
    {
     "data": {
      "text/plain": [
       "<Figure size 2592x864 with 0 Axes>"
      ]
     },
     "metadata": {},
     "output_type": "display_data"
    },
    {
     "data": {
      "text/plain": [
       "<Figure size 2592x864 with 0 Axes>"
      ]
     },
     "metadata": {},
     "output_type": "display_data"
    },
    {
     "data": {
      "text/plain": [
       "<Figure size 2592x864 with 0 Axes>"
      ]
     },
     "metadata": {},
     "output_type": "display_data"
    },
    {
     "data": {
      "text/plain": [
       "<Figure size 2592x864 with 0 Axes>"
      ]
     },
     "metadata": {},
     "output_type": "display_data"
    },
    {
     "data": {
      "text/plain": [
       "<Figure size 2592x864 with 0 Axes>"
      ]
     },
     "metadata": {},
     "output_type": "display_data"
    },
    {
     "data": {
      "text/plain": [
       "<Figure size 2592x864 with 0 Axes>"
      ]
     },
     "metadata": {},
     "output_type": "display_data"
    },
    {
     "data": {
      "text/plain": [
       "<Figure size 2592x864 with 0 Axes>"
      ]
     },
     "metadata": {},
     "output_type": "display_data"
    },
    {
     "data": {
      "text/plain": [
       "<Figure size 2592x864 with 0 Axes>"
      ]
     },
     "metadata": {},
     "output_type": "display_data"
    },
    {
     "data": {
      "text/plain": [
       "<Figure size 2592x864 with 0 Axes>"
      ]
     },
     "metadata": {},
     "output_type": "display_data"
    },
    {
     "data": {
      "text/plain": [
       "<Figure size 2592x864 with 0 Axes>"
      ]
     },
     "metadata": {},
     "output_type": "display_data"
    },
    {
     "data": {
      "text/plain": [
       "<Figure size 2592x864 with 0 Axes>"
      ]
     },
     "metadata": {},
     "output_type": "display_data"
    },
    {
     "data": {
      "text/plain": [
       "<Figure size 2592x864 with 0 Axes>"
      ]
     },
     "metadata": {},
     "output_type": "display_data"
    },
    {
     "data": {
      "text/plain": [
       "<Figure size 2592x864 with 0 Axes>"
      ]
     },
     "metadata": {},
     "output_type": "display_data"
    },
    {
     "data": {
      "text/plain": [
       "<Figure size 2592x864 with 0 Axes>"
      ]
     },
     "metadata": {},
     "output_type": "display_data"
    },
    {
     "data": {
      "text/plain": [
       "<Figure size 2592x864 with 0 Axes>"
      ]
     },
     "metadata": {},
     "output_type": "display_data"
    }
   ],
   "source": [
    "plot_predictions(model, df, train_indices, test_indices, site_codes, title=\"Predictions after training\", save_path=\"GPR_figures/\" + \"1823_NO2_monthly_2020\" + \"/postTraining/\")"
   ]
  },
  {
   "cell_type": "code",
   "execution_count": 10,
   "id": "76cec278",
   "metadata": {},
   "outputs": [],
   "source": [
    "df = pickle.load(open(\"1823_NO2_monthly_2020_df.sav\", \"rb\"))\n",
    "model = pickle.load(open(\"1823_NO2_monthly_2020_model.sav\", \"rb\"))\n",
    "train_indices, test_indices = pickle.load(open(\"1823_NO2_monthly_2020_indices.sav\", \"rb\"))\n",
    "SCALERS = pickle.load(open(\"1823_NO2_monthly_2020_scalers.sav\", \"rb\"))\n",
    "site_codes = df[\"code\"].unique()"
   ]
  },
  {
   "cell_type": "code",
   "execution_count": 16,
   "id": "752f8242",
   "metadata": {
    "scrolled": true
   },
   "outputs": [
    {
     "data": {
      "text/html": [
       "<div>\n",
       "<style scoped>\n",
       "    .dataframe tbody tr th:only-of-type {\n",
       "        vertical-align: middle;\n",
       "    }\n",
       "\n",
       "    .dataframe tbody tr th {\n",
       "        vertical-align: top;\n",
       "    }\n",
       "\n",
       "    .dataframe thead th {\n",
       "        text-align: right;\n",
       "    }\n",
       "</style>\n",
       "<table border=\"1\" class=\"dataframe\">\n",
       "  <thead>\n",
       "    <tr style=\"text-align: right;\">\n",
       "      <th></th>\n",
       "      <th>code</th>\n",
       "      <th>date</th>\n",
       "      <th>nox</th>\n",
       "      <th>no2</th>\n",
       "      <th>latitude</th>\n",
       "      <th>longitude</th>\n",
       "      <th>t</th>\n",
       "      <th>norm_lat</th>\n",
       "      <th>norm_lon</th>\n",
       "      <th>norm_no2</th>\n",
       "    </tr>\n",
       "  </thead>\n",
       "  <tbody>\n",
       "    <tr>\n",
       "      <th>0</th>\n",
       "      <td>BG1</td>\n",
       "      <td>2020-09-01</td>\n",
       "      <td>28.481455</td>\n",
       "      <td>18.739817</td>\n",
       "      <td>51.563752</td>\n",
       "      <td>0.177891</td>\n",
       "      <td>0</td>\n",
       "      <td>1.075617</td>\n",
       "      <td>2.027039</td>\n",
       "      <td>-0.842800</td>\n",
       "    </tr>\n",
       "    <tr>\n",
       "      <th>7473</th>\n",
       "      <td>RB7</td>\n",
       "      <td>2020-09-01</td>\n",
       "      <td>71.866019</td>\n",
       "      <td>30.236531</td>\n",
       "      <td>51.569484</td>\n",
       "      <td>0.082907</td>\n",
       "      <td>0</td>\n",
       "      <td>1.171141</td>\n",
       "      <td>1.327896</td>\n",
       "      <td>-0.146722</td>\n",
       "    </tr>\n",
       "    <tr>\n",
       "      <th>1489</th>\n",
       "      <td>CR7</td>\n",
       "      <td>2020-09-01</td>\n",
       "      <td>73.649117</td>\n",
       "      <td>35.895752</td>\n",
       "      <td>51.362231</td>\n",
       "      <td>-0.117605</td>\n",
       "      <td>0</td>\n",
       "      <td>-2.282563</td>\n",
       "      <td>-0.148008</td>\n",
       "      <td>0.195920</td>\n",
       "    </tr>\n",
       "    <tr>\n",
       "      <th>8684</th>\n",
       "      <td>TH4</td>\n",
       "      <td>2020-09-01</td>\n",
       "      <td>123.022765</td>\n",
       "      <td>53.081434</td>\n",
       "      <td>51.515046</td>\n",
       "      <td>-0.008418</td>\n",
       "      <td>0</td>\n",
       "      <td>0.263977</td>\n",
       "      <td>0.655675</td>\n",
       "      <td>1.236441</td>\n",
       "    </tr>\n",
       "    <tr>\n",
       "      <th>1646</th>\n",
       "      <td>CT3</td>\n",
       "      <td>2020-09-01</td>\n",
       "      <td>47.945373</td>\n",
       "      <td>31.527763</td>\n",
       "      <td>51.513847</td>\n",
       "      <td>-0.077766</td>\n",
       "      <td>0</td>\n",
       "      <td>0.243996</td>\n",
       "      <td>0.145233</td>\n",
       "      <td>-0.068544</td>\n",
       "    </tr>\n",
       "  </tbody>\n",
       "</table>\n",
       "</div>"
      ],
      "text/plain": [
       "     code       date         nox        no2   latitude  longitude  t  \\\n",
       "0     BG1 2020-09-01   28.481455  18.739817  51.563752   0.177891  0   \n",
       "7473  RB7 2020-09-01   71.866019  30.236531  51.569484   0.082907  0   \n",
       "1489  CR7 2020-09-01   73.649117  35.895752  51.362231  -0.117605  0   \n",
       "8684  TH4 2020-09-01  123.022765  53.081434  51.515046  -0.008418  0   \n",
       "1646  CT3 2020-09-01   47.945373  31.527763  51.513847  -0.077766  0   \n",
       "\n",
       "      norm_lat  norm_lon  norm_no2  \n",
       "0     1.075617  2.027039 -0.842800  \n",
       "7473  1.171141  1.327896 -0.146722  \n",
       "1489 -2.282563 -0.148008  0.195920  \n",
       "8684  0.263977  0.655675  1.236441  \n",
       "1646  0.243996  0.145233 -0.068544  "
      ]
     },
     "execution_count": 16,
     "metadata": {},
     "output_type": "execute_result"
    }
   ],
   "source": [
    "df.head()"
   ]
  },
  {
   "cell_type": "code",
   "execution_count": 29,
   "id": "e3bf757c",
   "metadata": {},
   "outputs": [],
   "source": [
    "a = df.groupby(by=[\"code\"])"
   ]
  },
  {
   "cell_type": "code",
   "execution_count": 30,
   "id": "de3593f1",
   "metadata": {},
   "outputs": [
    {
     "data": {
      "text/html": [
       "<div>\n",
       "<style scoped>\n",
       "    .dataframe tbody tr th:only-of-type {\n",
       "        vertical-align: middle;\n",
       "    }\n",
       "\n",
       "    .dataframe tbody tr th {\n",
       "        vertical-align: top;\n",
       "    }\n",
       "\n",
       "    .dataframe thead th {\n",
       "        text-align: right;\n",
       "    }\n",
       "</style>\n",
       "<table border=\"1\" class=\"dataframe\">\n",
       "  <thead>\n",
       "    <tr style=\"text-align: right;\">\n",
       "      <th></th>\n",
       "      <th>code</th>\n",
       "      <th>date</th>\n",
       "      <th>nox</th>\n",
       "      <th>no2</th>\n",
       "      <th>latitude</th>\n",
       "      <th>longitude</th>\n",
       "      <th>t</th>\n",
       "      <th>norm_lat</th>\n",
       "      <th>norm_lon</th>\n",
       "      <th>norm_no2</th>\n",
       "    </tr>\n",
       "  </thead>\n",
       "  <tbody>\n",
       "    <tr>\n",
       "      <th>0</th>\n",
       "      <td>BG1</td>\n",
       "      <td>2020-09-01</td>\n",
       "      <td>28.481455</td>\n",
       "      <td>18.739817</td>\n",
       "      <td>51.563752</td>\n",
       "      <td>0.177891</td>\n",
       "      <td>0</td>\n",
       "      <td>1.075617</td>\n",
       "      <td>2.027039</td>\n",
       "      <td>-0.842800</td>\n",
       "    </tr>\n",
       "    <tr>\n",
       "      <th>7473</th>\n",
       "      <td>RB7</td>\n",
       "      <td>2020-09-01</td>\n",
       "      <td>71.866019</td>\n",
       "      <td>30.236531</td>\n",
       "      <td>51.569484</td>\n",
       "      <td>0.082907</td>\n",
       "      <td>0</td>\n",
       "      <td>1.171141</td>\n",
       "      <td>1.327896</td>\n",
       "      <td>-0.146722</td>\n",
       "    </tr>\n",
       "    <tr>\n",
       "      <th>1489</th>\n",
       "      <td>CR7</td>\n",
       "      <td>2020-09-01</td>\n",
       "      <td>73.649117</td>\n",
       "      <td>35.895752</td>\n",
       "      <td>51.362231</td>\n",
       "      <td>-0.117605</td>\n",
       "      <td>0</td>\n",
       "      <td>-2.282563</td>\n",
       "      <td>-0.148008</td>\n",
       "      <td>0.195920</td>\n",
       "    </tr>\n",
       "    <tr>\n",
       "      <th>8684</th>\n",
       "      <td>TH4</td>\n",
       "      <td>2020-09-01</td>\n",
       "      <td>123.022765</td>\n",
       "      <td>53.081434</td>\n",
       "      <td>51.515046</td>\n",
       "      <td>-0.008418</td>\n",
       "      <td>0</td>\n",
       "      <td>0.263977</td>\n",
       "      <td>0.655675</td>\n",
       "      <td>1.236441</td>\n",
       "    </tr>\n",
       "    <tr>\n",
       "      <th>1646</th>\n",
       "      <td>CT3</td>\n",
       "      <td>2020-09-01</td>\n",
       "      <td>47.945373</td>\n",
       "      <td>31.527763</td>\n",
       "      <td>51.513847</td>\n",
       "      <td>-0.077766</td>\n",
       "      <td>0</td>\n",
       "      <td>0.243996</td>\n",
       "      <td>0.145233</td>\n",
       "      <td>-0.068544</td>\n",
       "    </tr>\n",
       "    <tr>\n",
       "      <th>...</th>\n",
       "      <td>...</td>\n",
       "      <td>...</td>\n",
       "      <td>...</td>\n",
       "      <td>...</td>\n",
       "      <td>...</td>\n",
       "      <td>...</td>\n",
       "      <td>...</td>\n",
       "      <td>...</td>\n",
       "      <td>...</td>\n",
       "      <td>...</td>\n",
       "    </tr>\n",
       "    <tr>\n",
       "      <th>8836</th>\n",
       "      <td>TL6</td>\n",
       "      <td>2020-12-06</td>\n",
       "      <td>37.858325</td>\n",
       "      <td>29.150973</td>\n",
       "      <td>51.503858</td>\n",
       "      <td>0.020574</td>\n",
       "      <td>96</td>\n",
       "      <td>0.077535</td>\n",
       "      <td>0.869083</td>\n",
       "      <td>-0.212448</td>\n",
       "    </tr>\n",
       "    <tr>\n",
       "      <th>8837</th>\n",
       "      <td>TL6</td>\n",
       "      <td>2020-12-07</td>\n",
       "      <td>72.981482</td>\n",
       "      <td>38.406185</td>\n",
       "      <td>51.503858</td>\n",
       "      <td>0.020574</td>\n",
       "      <td>97</td>\n",
       "      <td>0.077535</td>\n",
       "      <td>0.869083</td>\n",
       "      <td>0.347916</td>\n",
       "    </tr>\n",
       "    <tr>\n",
       "      <th>8809</th>\n",
       "      <td>TL4</td>\n",
       "      <td>2020-12-07</td>\n",
       "      <td>163.910713</td>\n",
       "      <td>62.723907</td>\n",
       "      <td>51.495057</td>\n",
       "      <td>0.004107</td>\n",
       "      <td>97</td>\n",
       "      <td>-0.069126</td>\n",
       "      <td>0.747875</td>\n",
       "      <td>1.820252</td>\n",
       "    </tr>\n",
       "    <tr>\n",
       "      <th>8838</th>\n",
       "      <td>TL6</td>\n",
       "      <td>2020-12-08</td>\n",
       "      <td>111.533034</td>\n",
       "      <td>44.887895</td>\n",
       "      <td>51.503858</td>\n",
       "      <td>0.020574</td>\n",
       "      <td>98</td>\n",
       "      <td>0.077535</td>\n",
       "      <td>0.869083</td>\n",
       "      <td>0.740356</td>\n",
       "    </tr>\n",
       "    <tr>\n",
       "      <th>8810</th>\n",
       "      <td>TL4</td>\n",
       "      <td>2020-12-08</td>\n",
       "      <td>151.625187</td>\n",
       "      <td>60.788183</td>\n",
       "      <td>51.495057</td>\n",
       "      <td>0.004107</td>\n",
       "      <td>98</td>\n",
       "      <td>-0.069126</td>\n",
       "      <td>0.747875</td>\n",
       "      <td>1.703052</td>\n",
       "    </tr>\n",
       "  </tbody>\n",
       "</table>\n",
       "<p>475 rows × 10 columns</p>\n",
       "</div>"
      ],
      "text/plain": [
       "     code       date         nox        no2   latitude  longitude   t  \\\n",
       "0     BG1 2020-09-01   28.481455  18.739817  51.563752   0.177891   0   \n",
       "7473  RB7 2020-09-01   71.866019  30.236531  51.569484   0.082907   0   \n",
       "1489  CR7 2020-09-01   73.649117  35.895752  51.362231  -0.117605   0   \n",
       "8684  TH4 2020-09-01  123.022765  53.081434  51.515046  -0.008418   0   \n",
       "1646  CT3 2020-09-01   47.945373  31.527763  51.513847  -0.077766   0   \n",
       "...   ...        ...         ...        ...        ...        ...  ..   \n",
       "8836  TL6 2020-12-06   37.858325  29.150973  51.503858   0.020574  96   \n",
       "8837  TL6 2020-12-07   72.981482  38.406185  51.503858   0.020574  97   \n",
       "8809  TL4 2020-12-07  163.910713  62.723907  51.495057   0.004107  97   \n",
       "8838  TL6 2020-12-08  111.533034  44.887895  51.503858   0.020574  98   \n",
       "8810  TL4 2020-12-08  151.625187  60.788183  51.495057   0.004107  98   \n",
       "\n",
       "      norm_lat  norm_lon  norm_no2  \n",
       "0     1.075617  2.027039 -0.842800  \n",
       "7473  1.171141  1.327896 -0.146722  \n",
       "1489 -2.282563 -0.148008  0.195920  \n",
       "8684  0.263977  0.655675  1.236441  \n",
       "1646  0.243996  0.145233 -0.068544  \n",
       "...        ...       ...       ...  \n",
       "8836  0.077535  0.869083 -0.212448  \n",
       "8837  0.077535  0.869083  0.347916  \n",
       "8809 -0.069126  0.747875  1.820252  \n",
       "8838  0.077535  0.869083  0.740356  \n",
       "8810 -0.069126  0.747875  1.703052  \n",
       "\n",
       "[475 rows x 10 columns]"
      ]
     },
     "execution_count": 30,
     "metadata": {},
     "output_type": "execute_result"
    }
   ],
   "source": [
    "a.head()"
   ]
  },
  {
   "cell_type": "code",
   "execution_count": 13,
   "id": "d6f9325d",
   "metadata": {},
   "outputs": [],
   "source": [
    "time_range = (datetime(2020, 9, 1), datetime(2020, 12, 31))"
   ]
  },
  {
   "cell_type": "code",
   "execution_count": 14,
   "id": "d674d10d",
   "metadata": {},
   "outputs": [
    {
     "name": "stdout",
     "output_type": "stream",
     "text": [
      "(datetime.datetime(2020, 9, 1, 0, 0), datetime.datetime(2020, 12, 31, 0, 0))\n"
     ]
    }
   ],
   "source": [
    "print(time_range)"
   ]
  },
  {
   "cell_type": "code",
   "execution_count": null,
   "id": "8de0622a",
   "metadata": {},
   "outputs": [],
   "source": []
  }
 ],
 "metadata": {
  "kernelspec": {
   "display_name": "Python 3 (ipykernel)",
   "language": "python",
   "name": "python3"
  },
  "language_info": {
   "codemirror_mode": {
    "name": "ipython",
    "version": 3
   },
   "file_extension": ".py",
   "mimetype": "text/x-python",
   "name": "python",
   "nbconvert_exporter": "python",
   "pygments_lexer": "ipython3",
   "version": "3.7.12"
  }
 },
 "nbformat": 4,
 "nbformat_minor": 5
}
