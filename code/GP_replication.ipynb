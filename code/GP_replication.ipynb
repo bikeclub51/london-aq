{
 "cells": [
  {
   "cell_type": "markdown",
   "metadata": {},
   "source": [
    "# Gaussian Process\n",
    "#### Replication of Adrianna's methods using LAQN data retrieved through the LAQN API and applied to multiple pollutants"
   ]
  },
  {
   "cell_type": "code",
   "execution_count": 2,
   "metadata": {},
   "outputs": [],
   "source": [
    "## load in relevant packages\n",
    "import pandas as pd  \n",
    "import numpy as np\n",
    "import matplotlib.pyplot as plt\n",
    "import gpflow\n",
    "\n",
    "np.random.seed(1)"
   ]
  },
  {
   "cell_type": "markdown",
   "metadata": {},
   "source": [
    "### Access & Process Data \n",
    "#### Read in data downloaded from LAQN API in download_data.py"
   ]
  },
  {
   "cell_type": "code",
   "execution_count": 1,
   "metadata": {},
   "outputs": [
    {
     "name": "stdout",
     "output_type": "stream",
     "text": [
      "Hourly Data of  O3\n"
     ]
    },
    {
     "data": {
      "text/html": [
       "<div>\n",
       "<style scoped>\n",
       "    .dataframe tbody tr th:only-of-type {\n",
       "        vertical-align: middle;\n",
       "    }\n",
       "\n",
       "    .dataframe tbody tr th {\n",
       "        vertical-align: top;\n",
       "    }\n",
       "\n",
       "    .dataframe thead th {\n",
       "        text-align: right;\n",
       "    }\n",
       "</style>\n",
       "<table border=\"1\" class=\"dataframe\">\n",
       "  <thead>\n",
       "    <tr style=\"text-align: right;\">\n",
       "      <th></th>\n",
       "      <th>O3</th>\n",
       "      <th>SiteCode</th>\n",
       "      <th>Latitude</th>\n",
       "      <th>Longitude</th>\n",
       "    </tr>\n",
       "    <tr>\n",
       "      <th>Timestamp</th>\n",
       "      <th></th>\n",
       "      <th></th>\n",
       "      <th></th>\n",
       "      <th></th>\n",
       "    </tr>\n",
       "  </thead>\n",
       "  <tbody>\n",
       "    <tr>\n",
       "      <th>2007-12-01 00:00:00</th>\n",
       "      <td>71.8</td>\n",
       "      <td>TD0</td>\n",
       "      <td>51.424304</td>\n",
       "      <td>-0.345715</td>\n",
       "    </tr>\n",
       "    <tr>\n",
       "      <th>2007-12-01 01:00:00</th>\n",
       "      <td>71.2</td>\n",
       "      <td>TD0</td>\n",
       "      <td>51.424304</td>\n",
       "      <td>-0.345715</td>\n",
       "    </tr>\n",
       "    <tr>\n",
       "      <th>2007-12-01 02:00:00</th>\n",
       "      <td>67.9</td>\n",
       "      <td>TD0</td>\n",
       "      <td>51.424304</td>\n",
       "      <td>-0.345715</td>\n",
       "    </tr>\n",
       "    <tr>\n",
       "      <th>2007-12-01 03:00:00</th>\n",
       "      <td>65.4</td>\n",
       "      <td>TD0</td>\n",
       "      <td>51.424304</td>\n",
       "      <td>-0.345715</td>\n",
       "    </tr>\n",
       "    <tr>\n",
       "      <th>2007-12-01 04:00:00</th>\n",
       "      <td>61.9</td>\n",
       "      <td>TD0</td>\n",
       "      <td>51.424304</td>\n",
       "      <td>-0.345715</td>\n",
       "    </tr>\n",
       "  </tbody>\n",
       "</table>\n",
       "</div>"
      ],
      "text/plain": [
       "                       O3 SiteCode   Latitude  Longitude\n",
       "Timestamp                                               \n",
       "2007-12-01 00:00:00  71.8      TD0  51.424304  -0.345715\n",
       "2007-12-01 01:00:00  71.2      TD0  51.424304  -0.345715\n",
       "2007-12-01 02:00:00  67.9      TD0  51.424304  -0.345715\n",
       "2007-12-01 03:00:00  65.4      TD0  51.424304  -0.345715\n",
       "2007-12-01 04:00:00  61.9      TD0  51.424304  -0.345715"
      ]
     },
     "execution_count": 1,
     "metadata": {},
     "output_type": "execute_result"
    }
   ],
   "source": [
    "import pandas as pd  \n",
    "\n",
    "## read in hourly data of given pollutant\n",
    "pollutant = \"O3\"\n",
    "hourly_df = pd.read_csv(\"../data/\" + pollutant + \"_data.csv\", sep=',', parse_dates=[\"Timestamp\"]).set_index(\"Timestamp\")\n",
    "\n",
    "print(\"Hourly Data of \", pollutant)\n",
    "hourly_df.head()\n",
    "# convert CSV to DF"
   ]
  },
  {
   "cell_type": "code",
   "execution_count": 2,
   "metadata": {},
   "outputs": [
    {
     "name": "stdout",
     "output_type": "stream",
     "text": [
      "Daily Data of  O3\n"
     ]
    },
    {
     "data": {
      "text/html": [
       "<div>\n",
       "<style scoped>\n",
       "    .dataframe tbody tr th:only-of-type {\n",
       "        vertical-align: middle;\n",
       "    }\n",
       "\n",
       "    .dataframe tbody tr th {\n",
       "        vertical-align: top;\n",
       "    }\n",
       "\n",
       "    .dataframe thead th {\n",
       "        text-align: right;\n",
       "    }\n",
       "</style>\n",
       "<table border=\"1\" class=\"dataframe\">\n",
       "  <thead>\n",
       "    <tr style=\"text-align: right;\">\n",
       "      <th></th>\n",
       "      <th>SiteCode</th>\n",
       "      <th>Timestamp</th>\n",
       "      <th>O3</th>\n",
       "      <th>Latitude</th>\n",
       "      <th>Longitude</th>\n",
       "    </tr>\n",
       "    <tr>\n",
       "      <th>date</th>\n",
       "      <th></th>\n",
       "      <th></th>\n",
       "      <th></th>\n",
       "      <th></th>\n",
       "      <th></th>\n",
       "    </tr>\n",
       "  </thead>\n",
       "  <tbody>\n",
       "    <tr>\n",
       "      <th>2007-12-01</th>\n",
       "      <td>BL0</td>\n",
       "      <td>2007-12-01</td>\n",
       "      <td>49.979167</td>\n",
       "      <td>51.522287</td>\n",
       "      <td>-0.125848</td>\n",
       "    </tr>\n",
       "    <tr>\n",
       "      <th>2007-12-02</th>\n",
       "      <td>BL0</td>\n",
       "      <td>2007-12-02</td>\n",
       "      <td>51.729167</td>\n",
       "      <td>51.522287</td>\n",
       "      <td>-0.125848</td>\n",
       "    </tr>\n",
       "    <tr>\n",
       "      <th>2007-12-03</th>\n",
       "      <td>BL0</td>\n",
       "      <td>2007-12-03</td>\n",
       "      <td>25.225000</td>\n",
       "      <td>51.522287</td>\n",
       "      <td>-0.125848</td>\n",
       "    </tr>\n",
       "    <tr>\n",
       "      <th>2007-12-04</th>\n",
       "      <td>BL0</td>\n",
       "      <td>2007-12-04</td>\n",
       "      <td>19.604167</td>\n",
       "      <td>51.522287</td>\n",
       "      <td>-0.125848</td>\n",
       "    </tr>\n",
       "    <tr>\n",
       "      <th>2007-12-05</th>\n",
       "      <td>BL0</td>\n",
       "      <td>2007-12-05</td>\n",
       "      <td>35.787500</td>\n",
       "      <td>51.522287</td>\n",
       "      <td>-0.125848</td>\n",
       "    </tr>\n",
       "  </tbody>\n",
       "</table>\n",
       "</div>"
      ],
      "text/plain": [
       "           SiteCode  Timestamp         O3   Latitude  Longitude\n",
       "date                                                           \n",
       "2007-12-01      BL0 2007-12-01  49.979167  51.522287  -0.125848\n",
       "2007-12-02      BL0 2007-12-02  51.729167  51.522287  -0.125848\n",
       "2007-12-03      BL0 2007-12-03  25.225000  51.522287  -0.125848\n",
       "2007-12-04      BL0 2007-12-04  19.604167  51.522287  -0.125848\n",
       "2007-12-05      BL0 2007-12-05  35.787500  51.522287  -0.125848"
      ]
     },
     "execution_count": 2,
     "metadata": {},
     "output_type": "execute_result"
    }
   ],
   "source": [
    "daily_df = hourly_df.groupby(by=[\"SiteCode\"]).resample(\"D\").mean().reset_index()\n",
    "daily_df[\"date\"] = daily_df[\"Timestamp\"].apply(lambda x: x.strftime(\"%Y-%m-%d\"))\n",
    "daily_df.set_index(\"date\", inplace=True)\n",
    "\n",
    "print(\"Daily Data of \", pollutant)\n",
    "daily_df.head()"
   ]
  },
  {
   "cell_type": "code",
   "execution_count": 3,
   "metadata": {},
   "outputs": [
    {
     "name": "stdout",
     "output_type": "stream",
     "text": [
      "Monthly Data of  O3\n"
     ]
    },
    {
     "data": {
      "text/html": [
       "<div>\n",
       "<style scoped>\n",
       "    .dataframe tbody tr th:only-of-type {\n",
       "        vertical-align: middle;\n",
       "    }\n",
       "\n",
       "    .dataframe tbody tr th {\n",
       "        vertical-align: top;\n",
       "    }\n",
       "\n",
       "    .dataframe thead th {\n",
       "        text-align: right;\n",
       "    }\n",
       "</style>\n",
       "<table border=\"1\" class=\"dataframe\">\n",
       "  <thead>\n",
       "    <tr style=\"text-align: right;\">\n",
       "      <th></th>\n",
       "      <th>SiteCode</th>\n",
       "      <th>Timestamp</th>\n",
       "      <th>O3</th>\n",
       "      <th>Latitude</th>\n",
       "      <th>Longitude</th>\n",
       "    </tr>\n",
       "    <tr>\n",
       "      <th>date</th>\n",
       "      <th></th>\n",
       "      <th></th>\n",
       "      <th></th>\n",
       "      <th></th>\n",
       "      <th></th>\n",
       "    </tr>\n",
       "  </thead>\n",
       "  <tbody>\n",
       "    <tr>\n",
       "      <th>2007-12</th>\n",
       "      <td>BL0</td>\n",
       "      <td>2007-12-31</td>\n",
       "      <td>20.212113</td>\n",
       "      <td>51.522287</td>\n",
       "      <td>-0.125848</td>\n",
       "    </tr>\n",
       "    <tr>\n",
       "      <th>2008-01</th>\n",
       "      <td>BL0</td>\n",
       "      <td>2008-01-31</td>\n",
       "      <td>27.960894</td>\n",
       "      <td>51.522287</td>\n",
       "      <td>-0.125848</td>\n",
       "    </tr>\n",
       "    <tr>\n",
       "      <th>2008-02</th>\n",
       "      <td>BL0</td>\n",
       "      <td>2008-02-29</td>\n",
       "      <td>19.813362</td>\n",
       "      <td>51.522287</td>\n",
       "      <td>-0.125848</td>\n",
       "    </tr>\n",
       "    <tr>\n",
       "      <th>2008-03</th>\n",
       "      <td>BL0</td>\n",
       "      <td>2008-03-31</td>\n",
       "      <td>36.158199</td>\n",
       "      <td>51.522287</td>\n",
       "      <td>-0.125848</td>\n",
       "    </tr>\n",
       "    <tr>\n",
       "      <th>2008-04</th>\n",
       "      <td>BL0</td>\n",
       "      <td>2008-04-30</td>\n",
       "      <td>38.231154</td>\n",
       "      <td>51.522287</td>\n",
       "      <td>-0.125848</td>\n",
       "    </tr>\n",
       "  </tbody>\n",
       "</table>\n",
       "</div>"
      ],
      "text/plain": [
       "        SiteCode  Timestamp         O3   Latitude  Longitude\n",
       "date                                                        \n",
       "2007-12      BL0 2007-12-31  20.212113  51.522287  -0.125848\n",
       "2008-01      BL0 2008-01-31  27.960894  51.522287  -0.125848\n",
       "2008-02      BL0 2008-02-29  19.813362  51.522287  -0.125848\n",
       "2008-03      BL0 2008-03-31  36.158199  51.522287  -0.125848\n",
       "2008-04      BL0 2008-04-30  38.231154  51.522287  -0.125848"
      ]
     },
     "execution_count": 3,
     "metadata": {},
     "output_type": "execute_result"
    }
   ],
   "source": [
    "monthly_df = hourly_df.groupby(by=[\"SiteCode\"]).resample(\"M\", convention=\"start\").mean().reset_index()\n",
    "monthly_df[\"date\"] = monthly_df[\"Timestamp\"].apply(lambda x: x.strftime(\"%Y-%m\"))\n",
    "monthly_df.set_index(\"date\", inplace=True)\n",
    "\n",
    "print(\"Monthly Data of \", pollutant)\n",
    "monthly_df.head()"
   ]
  },
  {
   "cell_type": "code",
   "execution_count": 4,
   "metadata": {},
   "outputs": [
    {
     "name": "stdout",
     "output_type": "stream",
     "text": [
      "Yearly Data of  O3\n"
     ]
    },
    {
     "data": {
      "text/html": [
       "<div>\n",
       "<style scoped>\n",
       "    .dataframe tbody tr th:only-of-type {\n",
       "        vertical-align: middle;\n",
       "    }\n",
       "\n",
       "    .dataframe tbody tr th {\n",
       "        vertical-align: top;\n",
       "    }\n",
       "\n",
       "    .dataframe thead th {\n",
       "        text-align: right;\n",
       "    }\n",
       "</style>\n",
       "<table border=\"1\" class=\"dataframe\">\n",
       "  <thead>\n",
       "    <tr style=\"text-align: right;\">\n",
       "      <th></th>\n",
       "      <th>SiteCode</th>\n",
       "      <th>Timestamp</th>\n",
       "      <th>O3</th>\n",
       "      <th>Latitude</th>\n",
       "      <th>Longitude</th>\n",
       "      <th>date</th>\n",
       "    </tr>\n",
       "  </thead>\n",
       "  <tbody>\n",
       "    <tr>\n",
       "      <th>0</th>\n",
       "      <td>BL0</td>\n",
       "      <td>2007-12-31</td>\n",
       "      <td>20.212113</td>\n",
       "      <td>51.522287</td>\n",
       "      <td>-0.125848</td>\n",
       "      <td>2007</td>\n",
       "    </tr>\n",
       "    <tr>\n",
       "      <th>1</th>\n",
       "      <td>BL0</td>\n",
       "      <td>2008-12-31</td>\n",
       "      <td>28.031154</td>\n",
       "      <td>51.522287</td>\n",
       "      <td>-0.125848</td>\n",
       "      <td>2008</td>\n",
       "    </tr>\n",
       "    <tr>\n",
       "      <th>2</th>\n",
       "      <td>BL0</td>\n",
       "      <td>2009-12-31</td>\n",
       "      <td>25.668282</td>\n",
       "      <td>51.522287</td>\n",
       "      <td>-0.125848</td>\n",
       "      <td>2009</td>\n",
       "    </tr>\n",
       "    <tr>\n",
       "      <th>3</th>\n",
       "      <td>BL0</td>\n",
       "      <td>2010-12-31</td>\n",
       "      <td>22.333717</td>\n",
       "      <td>51.522287</td>\n",
       "      <td>-0.125848</td>\n",
       "      <td>2010</td>\n",
       "    </tr>\n",
       "    <tr>\n",
       "      <th>4</th>\n",
       "      <td>BL0</td>\n",
       "      <td>2011-12-31</td>\n",
       "      <td>27.074341</td>\n",
       "      <td>51.522287</td>\n",
       "      <td>-0.125848</td>\n",
       "      <td>2011</td>\n",
       "    </tr>\n",
       "  </tbody>\n",
       "</table>\n",
       "</div>"
      ],
      "text/plain": [
       "  SiteCode  Timestamp         O3   Latitude  Longitude  date\n",
       "0      BL0 2007-12-31  20.212113  51.522287  -0.125848  2007\n",
       "1      BL0 2008-12-31  28.031154  51.522287  -0.125848  2008\n",
       "2      BL0 2009-12-31  25.668282  51.522287  -0.125848  2009\n",
       "3      BL0 2010-12-31  22.333717  51.522287  -0.125848  2010\n",
       "4      BL0 2011-12-31  27.074341  51.522287  -0.125848  2011"
      ]
     },
     "execution_count": 4,
     "metadata": {},
     "output_type": "execute_result"
    }
   ],
   "source": [
    "yearly_df = hourly_df.groupby(by=[\"SiteCode\"]).resample(\"Y\", convention=\"start\").mean().reset_index()\n",
    "yearly_df[\"date\"] = yearly_df[\"Timestamp\"].apply(lambda x: x.strftime(\"%Y\"))\n",
    "# yearly_df.set_index(\"date\", inplace=True)\n",
    "\n",
    "print(\"Yearly Data of \", pollutant)\n",
    "yearly_df.head()"
   ]
  },
  {
   "cell_type": "code",
   "execution_count": 5,
   "metadata": {},
   "outputs": [
    {
     "data": {
      "text/html": [
       "<div>\n",
       "<style scoped>\n",
       "    .dataframe tbody tr th:only-of-type {\n",
       "        vertical-align: middle;\n",
       "    }\n",
       "\n",
       "    .dataframe tbody tr th {\n",
       "        vertical-align: top;\n",
       "    }\n",
       "\n",
       "    .dataframe thead th {\n",
       "        text-align: right;\n",
       "    }\n",
       "</style>\n",
       "<table border=\"1\" class=\"dataframe\">\n",
       "  <thead>\n",
       "    <tr style=\"text-align: right;\">\n",
       "      <th></th>\n",
       "      <th>SiteCode</th>\n",
       "      <th>Timestamp</th>\n",
       "      <th>O3</th>\n",
       "      <th>Latitude</th>\n",
       "      <th>Longitude</th>\n",
       "      <th>date</th>\n",
       "    </tr>\n",
       "  </thead>\n",
       "  <tbody>\n",
       "    <tr>\n",
       "      <th>8</th>\n",
       "      <td>BL0</td>\n",
       "      <td>2015-12-31</td>\n",
       "      <td>30.758933</td>\n",
       "      <td>51.522287</td>\n",
       "      <td>-0.125848</td>\n",
       "      <td>2015</td>\n",
       "    </tr>\n",
       "    <tr>\n",
       "      <th>9</th>\n",
       "      <td>BL0</td>\n",
       "      <td>2016-12-31</td>\n",
       "      <td>25.429808</td>\n",
       "      <td>51.522287</td>\n",
       "      <td>-0.125848</td>\n",
       "      <td>2016</td>\n",
       "    </tr>\n",
       "    <tr>\n",
       "      <th>10</th>\n",
       "      <td>BL0</td>\n",
       "      <td>2017-12-31</td>\n",
       "      <td>29.384156</td>\n",
       "      <td>51.522287</td>\n",
       "      <td>-0.125848</td>\n",
       "      <td>2017</td>\n",
       "    </tr>\n",
       "    <tr>\n",
       "      <th>11</th>\n",
       "      <td>BL0</td>\n",
       "      <td>2018-12-31</td>\n",
       "      <td>34.801808</td>\n",
       "      <td>51.522287</td>\n",
       "      <td>-0.125848</td>\n",
       "      <td>2018</td>\n",
       "    </tr>\n",
       "    <tr>\n",
       "      <th>12</th>\n",
       "      <td>BL0</td>\n",
       "      <td>2019-12-31</td>\n",
       "      <td>36.350386</td>\n",
       "      <td>51.522287</td>\n",
       "      <td>-0.125848</td>\n",
       "      <td>2019</td>\n",
       "    </tr>\n",
       "  </tbody>\n",
       "</table>\n",
       "</div>"
      ],
      "text/plain": [
       "   SiteCode  Timestamp         O3   Latitude  Longitude  date\n",
       "8       BL0 2015-12-31  30.758933  51.522287  -0.125848  2015\n",
       "9       BL0 2016-12-31  25.429808  51.522287  -0.125848  2016\n",
       "10      BL0 2017-12-31  29.384156  51.522287  -0.125848  2017\n",
       "11      BL0 2018-12-31  34.801808  51.522287  -0.125848  2018\n",
       "12      BL0 2019-12-31  36.350386  51.522287  -0.125848  2019"
      ]
     },
     "execution_count": 5,
     "metadata": {},
     "output_type": "execute_result"
    }
   ],
   "source": [
    "# get usable data: 2015 and above\n",
    "df = yearly_df.loc[yearly_df[\"date\"] >= \"2015\"]\n",
    "df.head()"
   ]
  },
  {
   "cell_type": "markdown",
   "metadata": {},
   "source": [
    "#### Create Training & Testing Datasets"
   ]
  },
  {
   "cell_type": "code",
   "execution_count": 6,
   "metadata": {},
   "outputs": [
    {
     "name": "stdout",
     "output_type": "stream",
     "text": [
      "Model Features:\n",
      "(160, 3)\n",
      "[['2016' 51.522287 -0.125848]\n",
      " ['2017' 51.522287 -0.125848]\n",
      " ['2018' 51.522287 -0.125848]\n",
      " ['2019' 51.522287 -0.125848]\n",
      " ['2020' 51.522287 -0.125848]\n",
      " ['2021' 51.522287 -0.125848]\n",
      " ['2015' 51.4946486813055 0.137279111232178]\n",
      " ['2016' 51.4946486813055 0.137279111232178]\n",
      " ['2017' 51.4946486813055 0.137279111232178]]\n",
      "--------------------\n",
      "Variables:  O3\n",
      "(160, 1)\n",
      "[[30.75893312]\n",
      " [25.42980824]\n",
      " [29.38415635]\n",
      " [34.80180849]\n",
      " [36.35038615]\n",
      " [44.51012582]\n",
      " [42.41657855]\n",
      " [44.73705923]\n",
      " [37.0498008 ]\n",
      " [43.72014515]]\n"
     ]
    }
   ],
   "source": [
    "## divide into features and variable\n",
    "params = ['date', 'Latitude', 'Longitude']\n",
    "\n",
    "X = df[params].values\n",
    "y = df.loc[:, pollutant].values\n",
    "y = y.reshape(-1,1)\n",
    "\n",
    "## print previews\n",
    "print(\"Model Features:\")\n",
    "print(X.shape)\n",
    "print(X[1:10,:])\n",
    "\n",
    "print(\"--------------------\")\n",
    "\n",
    "print(\"Variables: \", pollutant)\n",
    "print(y.shape)\n",
    "print(y[0:10])\n"
   ]
  },
  {
   "cell_type": "code",
   "execution_count": 7,
   "metadata": {},
   "outputs": [
    {
     "name": "stdout",
     "output_type": "stream",
     "text": [
      "(120, 3)\n",
      "(120, 1)\n",
      "(40, 3)\n",
      "(40, 1)\n"
     ]
    }
   ],
   "source": [
    "from sklearn.model_selection import train_test_split\n",
    "## create validation dataset (no test set since using MLL)\n",
    "X_train, X_val, y_train, y_val = train_test_split(X, y, test_size=0.25, random_state=0) \n",
    "\n",
    "print(X_train.shape)\n",
    "print(y_train.shape)\n",
    "print(X_val.shape)\n",
    "print(y_val.shape)"
   ]
  },
  {
   "cell_type": "code",
   "execution_count": 8,
   "metadata": {},
   "outputs": [
    {
     "name": "stdout",
     "output_type": "stream",
     "text": [
      "(120, 1)\n",
      "(40, 1)\n"
     ]
    }
   ],
   "source": [
    "\n",
    "from sklearn.preprocessing import StandardScaler  \n",
    "feature_scaler = StandardScaler() \n",
    "\n",
    "## Normalize Y (after splitting into training and validation)\n",
    "\n",
    "## standardize y-values\n",
    "y_train = feature_scaler.fit_transform(y_train)\n",
    "y_val = feature_scaler.fit_transform(y_val)\n",
    "\n",
    "print(y_train.shape)\n",
    "print(y_val.shape)"
   ]
  },
  {
   "cell_type": "markdown",
   "metadata": {},
   "source": [
    "### Building GP model"
   ]
  },
  {
   "cell_type": "code",
   "execution_count": 9,
   "metadata": {},
   "outputs": [],
   "source": [
    "import gpflow"
   ]
  },
  {
   "cell_type": "code",
   "execution_count": 1,
   "metadata": {},
   "outputs": [
    {
     "name": "stdout",
     "output_type": "stream",
     "text": [
      "hello\n"
     ]
    },
    {
     "ename": "NameError",
     "evalue": "name 'gpflow' is not defined",
     "output_type": "error",
     "traceback": [
      "\u001b[0;31m---------------------------------------------------------------------------\u001b[0m",
      "\u001b[0;31mNameError\u001b[0m                                 Traceback (most recent call last)",
      "\u001b[0;32m/var/folders/8s/cmks6vfx4vxb_x2clcgwn8080000gn/T/ipykernel_47368/3969382125.py\u001b[0m in \u001b[0;36m<module>\u001b[0;34m\u001b[0m\n\u001b[1;32m      1\u001b[0m \u001b[0mprint\u001b[0m\u001b[0;34m(\u001b[0m\u001b[0;34m\"hello\"\u001b[0m\u001b[0;34m)\u001b[0m\u001b[0;34m\u001b[0m\u001b[0;34m\u001b[0m\u001b[0m\n\u001b[1;32m      2\u001b[0m \u001b[0;34m\u001b[0m\u001b[0m\n\u001b[0;32m----> 3\u001b[0;31m \u001b[0mk\u001b[0m \u001b[0;34m=\u001b[0m \u001b[0mgpflow\u001b[0m\u001b[0;34m.\u001b[0m\u001b[0mkernels\u001b[0m\u001b[0;34m.\u001b[0m\u001b[0mConstant\u001b[0m\u001b[0;34m(\u001b[0m\u001b[0;34m)\u001b[0m\u001b[0;34m\u001b[0m\u001b[0;34m\u001b[0m\u001b[0m\n\u001b[0m\u001b[1;32m      4\u001b[0m \u001b[0mgpflow\u001b[0m\u001b[0;34m.\u001b[0m\u001b[0mutilities\u001b[0m\u001b[0;34m.\u001b[0m\u001b[0mprint_summary\u001b[0m\u001b[0;34m(\u001b[0m\u001b[0mk\u001b[0m\u001b[0;34m,\u001b[0m \u001b[0mfmt\u001b[0m \u001b[0;34m=\u001b[0m \u001b[0;34m\"notebook\"\u001b[0m\u001b[0;34m)\u001b[0m\u001b[0;34m\u001b[0m\u001b[0;34m\u001b[0m\u001b[0m\n",
      "\u001b[0;31mNameError\u001b[0m: name 'gpflow' is not defined"
     ]
    }
   ],
   "source": [
    "print(\"hello\")\n",
    "\n",
    "k = gpflow.kernels.Constant()\n",
    "gpflow.utilities.print_summary(k, fmt = \"notebook\")"
   ]
  },
  {
   "cell_type": "code",
   "execution_count": 2,
   "metadata": {},
   "outputs": [],
   "source": [
    "import gpflow.kernels as kernels\n",
    "from gpflow.utilities import print_summary\n",
    "\n",
    "print(\"hello\")\n",
    "k = kernels.Constant() \n",
    "print_summary(k, fmt=\"notebook\")\n",
    "\n",
    "# k = SafeMatern52(lengthscales=1, active_dims=[0, 1]) + SafeMatern52(lengthscales=0.1, active_dims=[2])\n",
    "#, lengthscales=[0.01, 0.01, 0.01])\n",
    "# + gpflow.kernels.Periodic(gpflow.kernels.IsotropicStationary(), period=12)\n",
    "#k = gpflow.kernels.Matern52(active_dims=[2]) + gpflow.kernels.Matern52(active_dims=[0, 1])\n",
    "#k = SafeMatern52(active_dims=[2]) + SafeMatern52(active_dims=[0,1]) + gpflow.kernels.White(3)\n",
    "#k = gpflow.kernels.White(3) +\\\n",
    "#            gpflow.kernels.RBF(2, active_dims=[0,1], lengthscales=1.0) +\\\n",
    "#            gpflow.kernels.RBF(1, active_dims=[2], lengthscales=1.0) +\\\n",
    "#            gpflow.kernels.Periodic(gpflow.kernels.RBF(1, active_dims=[2], lengthscales=1.0), period=12.0)\n",
    "#k = gpflow.kernels.White(1)\n",
    "#k = gpflow.kernels.White() + gpflow.kernels.Matern52(active_dims=[0]) + gpflow.kernels.Matern52(active_dims=[1]) \\\n",
    "#+ gpflow.kernels.Matern52(active_dims=[2])\n",
    "#k = gpflow.kernels.SquaredExponential()\n",
    "# k = gpflow.kernels.SquaredExponential() + gpflow.kernels.SquaredExponential()\n",
    "\n",
    "# print(\"here\")"
   ]
  },
  {
   "cell_type": "code",
   "execution_count": 1,
   "metadata": {},
   "outputs": [],
   "source": [
    "##===================================================================================\n",
    "import gpflow \n",
    "# define GP kernel parameters\n",
    "\n",
    "## fullcovariance kernel(lat, long, time; lat', long', time') =\n",
    "## RBF(lat, long; lat', long') + RBF(time; time') * periodic(time; time')\n",
    "\n",
    "\n",
    "## kernel 0: White noise\n",
    "## kernel 1: RBF space (spatial relationship)\n",
    "## kernel 2: RBF time (short-term irregularities due to weather, error measurement)\n",
    "## kernel 3: RBF time * Periodic time\n",
    "# kernel = gpflow.kernels.White()\n",
    "kernel = gpflow.kernels.White(1) +\\\n",
    "            gpflow.kernels.RBF(2, active_dims=[0,1], lengthscales=1.0) +\\\n",
    "            gpflow.kernels.RBF(1, active_dims=[2], lengthscales=1.0) +\\\n",
    "            gpflow.kernels.RBF(1, active_dims=[2], lengthscales=1.0) *\\\n",
    "            gpflow.kernels.Periodic(1, period=12., active_dims=[2])\n",
    "\n",
    "## kernel 0: White noise\n",
    "## kernel 1: RBF time (noise, should be shorter length-scale)\n",
    "## kernel 1: RBF space\n",
    "## kernel 2: RBF time (short)\n",
    "## kernel 3: RBF time * Periodic time\n",
    "# kernel1 = gpflow.kernels.White(1) +\\\n",
    "#             gpflow.kernels.RBF(1, active_dims=[2], lengthscales=1.0) +\\\n",
    "#             gpflow.kernels.RBF(2, active_dims=[0,1], lengthscales=1.0) +\\\n",
    "#             gpflow.kernels.RBF(1, active_dims=[2], lengthscales=1.0) +\\\n",
    "#             gpflow.kernels.RBF(1, active_dims=[2], lengthscales=1.0) *\\\n",
    "#             gpflow.kernels.Periodic(1, period=12., active_dims=[2])\n",
    "\n",
    "## OLD\n",
    "## kernel 0: Constant\n",
    "## kernel 1: RBF space * RBF time\n",
    "## kernel 2: RBF time\n",
    "## kernel 3: RBF time * Periodic time\n",
    "#kernel1 = gpflow.kernels.Constant(1) +\\\n",
    "#            gpflow.kernels.RBF(2, active_dims=[0,1], lengthscales=1.0) *\\\n",
    "#            gpflow.kernels.RBF(1, active_dims=[2], lengthscales=1.0) +\\\n",
    "#            gpflow.kernels.RBF(1, active_dims=[2], lengthscales=1.0) +\\\n",
    "#            gpflow.kernels.RBF(1, active_dims=[2], lengthscales=1.0) *\\\n",
    "#            gpflow.kernels.Periodic(1, period=12., active_dims=[2])\n",
    "\n",
    "## kernel 0: Constant\n",
    "## kernel 1: RBF space * RBF time * Periodic time\n",
    "## kernel 2: RBF space * time\n",
    "# kernel2 = gpflow.kernels.Constant(1) +\\\n",
    "#             gpflow.kernels.RBF(2, active_dims=[0,1], lengthscales=1.0) *\\\n",
    "#             gpflow.kernels.RBF(1, active_dims=[2], lengthscales=1.0) *\\\n",
    "#             gpflow.kernels.Periodic(1, period=12., active_dims=[2]) +\\\n",
    "#             gpflow.kernels.RBF(2, active_dims=[0,1], lengthscales=1.0) *\\\n",
    "#             gpflow.kernels.RBF(1, active_dims=[2], lengthscales=1.0)\n",
    "\n",
    "# if kernel_flag == 0:\n",
    "#     selected_kernel = kernel0\n",
    "# if kernel_flag == 1:\n",
    "#     selected_kernel = kernel1\n",
    "# if kernel_flag == 2:\n",
    "#     selected_kernel = kernel2\n",
    "print(kernel)\n",
    "print_summary(kernel)"
   ]
  },
  {
   "cell_type": "code",
   "execution_count": 1,
   "metadata": {},
   "outputs": [],
   "source": [
    "import gpflow\n",
    "## build model\n",
    "model = gpflow.models.GPR(X_train, y_train, kern=k)\n",
    "model.likelihood.variance = 0.01\n",
    "\n",
    "## view \n",
    "model.as_pandas_table()\n",
    "print(model.as_pandas_table())\n",
    "print(\"hello\")"
   ]
  },
  {
   "cell_type": "code",
   "execution_count": 1,
   "metadata": {},
   "outputs": [],
   "source": [
    "import gpflow\n",
    "\n",
    "opt = gpflow.optimizers.Scipy()\n",
    "opt_logs = opt.minimize(model.training_loss, model.trainable_variables, options=dict(maxiter=5))\n"
   ]
  },
  {
   "cell_type": "code",
   "execution_count": null,
   "metadata": {},
   "outputs": [],
   "source": []
  }
 ],
 "metadata": {
  "interpreter": {
   "hash": "aee8b7b246df8f9039afb4144a1f6fd8d2ca17a180786b69acc140d282b71a49"
  },
  "kernelspec": {
   "display_name": "Python 3.9.7 64-bit",
   "language": "python",
   "name": "python3"
  },
  "language_info": {
   "codemirror_mode": {
    "name": "ipython",
    "version": 3
   },
   "file_extension": ".py",
   "mimetype": "text/x-python",
   "name": "python",
   "nbconvert_exporter": "python",
   "pygments_lexer": "ipython3",
   "version": "3.9.7"
  },
  "orig_nbformat": 4
 },
 "nbformat": 4,
 "nbformat_minor": 2
}
