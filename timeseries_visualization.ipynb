{
 "cells": [
  {
   "cell_type": "code",
   "execution_count": 1,
   "metadata": {},
   "outputs": [],
   "source": [
    "import pandas as pd\n",
    "from statsmodels.tsa.seasonal import seasonal_decompose"
   ]
  },
  {
   "cell_type": "code",
   "execution_count": 2,
   "metadata": {},
   "outputs": [],
   "source": [
    "df = pd.read_csv(\"R_data/NO2_final.csv\", parse_dates=[\"date\"]).set_index(\"date\")"
   ]
  },
  {
   "cell_type": "code",
   "execution_count": 3,
   "metadata": {
    "scrolled": true
   },
   "outputs": [
    {
     "data": {
      "text/html": [
       "<div>\n",
       "<style scoped>\n",
       "    .dataframe tbody tr th:only-of-type {\n",
       "        vertical-align: middle;\n",
       "    }\n",
       "\n",
       "    .dataframe tbody tr th {\n",
       "        vertical-align: top;\n",
       "    }\n",
       "\n",
       "    .dataframe thead th {\n",
       "        text-align: right;\n",
       "    }\n",
       "</style>\n",
       "<table border=\"1\" class=\"dataframe\">\n",
       "  <thead>\n",
       "    <tr style=\"text-align: right;\">\n",
       "      <th></th>\n",
       "      <th>nox</th>\n",
       "      <th>no2</th>\n",
       "      <th>site</th>\n",
       "      <th>code</th>\n",
       "      <th>latitude</th>\n",
       "      <th>longitude</th>\n",
       "      <th>site_type</th>\n",
       "    </tr>\n",
       "    <tr>\n",
       "      <th>date</th>\n",
       "      <th></th>\n",
       "      <th></th>\n",
       "      <th></th>\n",
       "      <th></th>\n",
       "      <th></th>\n",
       "      <th></th>\n",
       "      <th></th>\n",
       "    </tr>\n",
       "  </thead>\n",
       "  <tbody>\n",
       "    <tr>\n",
       "      <th>1996-08-08 00:00:00</th>\n",
       "      <td>43.93</td>\n",
       "      <td>43.93</td>\n",
       "      <td>- National Physical Laboratory, Teddington</td>\n",
       "      <td>TD0</td>\n",
       "      <td>51.424304</td>\n",
       "      <td>-0.345715</td>\n",
       "      <td>Suburban</td>\n",
       "    </tr>\n",
       "    <tr>\n",
       "      <th>1996-08-08 01:00:00</th>\n",
       "      <td>55.39</td>\n",
       "      <td>53.48</td>\n",
       "      <td>- National Physical Laboratory, Teddington</td>\n",
       "      <td>TD0</td>\n",
       "      <td>51.424304</td>\n",
       "      <td>-0.345715</td>\n",
       "      <td>Suburban</td>\n",
       "    </tr>\n",
       "    <tr>\n",
       "      <th>1996-08-08 02:00:00</th>\n",
       "      <td>45.84</td>\n",
       "      <td>45.84</td>\n",
       "      <td>- National Physical Laboratory, Teddington</td>\n",
       "      <td>TD0</td>\n",
       "      <td>51.424304</td>\n",
       "      <td>-0.345715</td>\n",
       "      <td>Suburban</td>\n",
       "    </tr>\n",
       "    <tr>\n",
       "      <th>1996-08-08 03:00:00</th>\n",
       "      <td>36.29</td>\n",
       "      <td>34.38</td>\n",
       "      <td>- National Physical Laboratory, Teddington</td>\n",
       "      <td>TD0</td>\n",
       "      <td>51.424304</td>\n",
       "      <td>-0.345715</td>\n",
       "      <td>Suburban</td>\n",
       "    </tr>\n",
       "    <tr>\n",
       "      <th>1996-08-08 04:00:00</th>\n",
       "      <td>34.38</td>\n",
       "      <td>32.47</td>\n",
       "      <td>- National Physical Laboratory, Teddington</td>\n",
       "      <td>TD0</td>\n",
       "      <td>51.424304</td>\n",
       "      <td>-0.345715</td>\n",
       "      <td>Suburban</td>\n",
       "    </tr>\n",
       "  </tbody>\n",
       "</table>\n",
       "</div>"
      ],
      "text/plain": [
       "                       nox    no2                                        site  \\\n",
       "date                                                                            \n",
       "1996-08-08 00:00:00  43.93  43.93  - National Physical Laboratory, Teddington   \n",
       "1996-08-08 01:00:00  55.39  53.48  - National Physical Laboratory, Teddington   \n",
       "1996-08-08 02:00:00  45.84  45.84  - National Physical Laboratory, Teddington   \n",
       "1996-08-08 03:00:00  36.29  34.38  - National Physical Laboratory, Teddington   \n",
       "1996-08-08 04:00:00  34.38  32.47  - National Physical Laboratory, Teddington   \n",
       "\n",
       "                    code   latitude  longitude site_type  \n",
       "date                                                      \n",
       "1996-08-08 00:00:00  TD0  51.424304  -0.345715  Suburban  \n",
       "1996-08-08 01:00:00  TD0  51.424304  -0.345715  Suburban  \n",
       "1996-08-08 02:00:00  TD0  51.424304  -0.345715  Suburban  \n",
       "1996-08-08 03:00:00  TD0  51.424304  -0.345715  Suburban  \n",
       "1996-08-08 04:00:00  TD0  51.424304  -0.345715  Suburban  "
      ]
     },
     "execution_count": 3,
     "metadata": {},
     "output_type": "execute_result"
    }
   ],
   "source": [
    "df.head()"
   ]
  },
  {
   "cell_type": "code",
   "execution_count": null,
   "metadata": {},
   "outputs": [],
   "source": [
    "daily_df = df.groupby(by=[\"code\"]).resample(\"D\").mean().reset_index()\n",
    "daily_df[\"date\"] = daily_df[\"date\"].apply(lambda x: x.strftime(\"%Y-%m-%d\"))\n",
    "daily_df.set_index(\"date\", inplace=True)"
   ]
  },
  {
   "cell_type": "code",
   "execution_count": null,
   "metadata": {},
   "outputs": [],
   "source": [
    "daily_df.head()"
   ]
  },
  {
   "cell_type": "code",
   "execution_count": 6,
   "metadata": {},
   "outputs": [],
   "source": [
    "monthly_df = df.groupby(by=[\"code\"]).resample(\"M\", convention=\"start\").mean().reset_index()\n",
    "monthly_df[\"date\"] = monthly_df[\"date\"].apply(lambda x: x.strftime(\"%Y-%m\"))\n",
    "monthly_df.set_index(\"date\", inplace=True)"
   ]
  },
  {
   "cell_type": "code",
   "execution_count": 7,
   "metadata": {},
   "outputs": [
    {
     "data": {
      "text/html": [
       "<div>\n",
       "<style scoped>\n",
       "    .dataframe tbody tr th:only-of-type {\n",
       "        vertical-align: middle;\n",
       "    }\n",
       "\n",
       "    .dataframe tbody tr th {\n",
       "        vertical-align: top;\n",
       "    }\n",
       "\n",
       "    .dataframe thead th {\n",
       "        text-align: right;\n",
       "    }\n",
       "</style>\n",
       "<table border=\"1\" class=\"dataframe\">\n",
       "  <thead>\n",
       "    <tr style=\"text-align: right;\">\n",
       "      <th></th>\n",
       "      <th>code</th>\n",
       "      <th>nox</th>\n",
       "      <th>no2</th>\n",
       "      <th>latitude</th>\n",
       "      <th>longitude</th>\n",
       "    </tr>\n",
       "    <tr>\n",
       "      <th>date</th>\n",
       "      <th></th>\n",
       "      <th></th>\n",
       "      <th></th>\n",
       "      <th></th>\n",
       "      <th></th>\n",
       "    </tr>\n",
       "  </thead>\n",
       "  <tbody>\n",
       "    <tr>\n",
       "      <th>1997-03</th>\n",
       "      <td>A30</td>\n",
       "      <td>247.941875</td>\n",
       "      <td>60.560430</td>\n",
       "      <td>51.373553</td>\n",
       "      <td>-0.29197</td>\n",
       "    </tr>\n",
       "    <tr>\n",
       "      <th>1997-04</th>\n",
       "      <td>A30</td>\n",
       "      <td>263.677406</td>\n",
       "      <td>71.724523</td>\n",
       "      <td>51.373553</td>\n",
       "      <td>-0.29197</td>\n",
       "    </tr>\n",
       "    <tr>\n",
       "      <th>1997-05</th>\n",
       "      <td>A30</td>\n",
       "      <td>251.253255</td>\n",
       "      <td>69.521366</td>\n",
       "      <td>51.373553</td>\n",
       "      <td>-0.29197</td>\n",
       "    </tr>\n",
       "    <tr>\n",
       "      <th>1997-06</th>\n",
       "      <td>A30</td>\n",
       "      <td>240.406770</td>\n",
       "      <td>61.292412</td>\n",
       "      <td>51.373553</td>\n",
       "      <td>-0.29197</td>\n",
       "    </tr>\n",
       "    <tr>\n",
       "      <th>1997-07</th>\n",
       "      <td>A30</td>\n",
       "      <td>257.308118</td>\n",
       "      <td>54.153329</td>\n",
       "      <td>51.373553</td>\n",
       "      <td>-0.29197</td>\n",
       "    </tr>\n",
       "  </tbody>\n",
       "</table>\n",
       "</div>"
      ],
      "text/plain": [
       "        code         nox        no2   latitude  longitude\n",
       "date                                                     \n",
       "1997-03  A30  247.941875  60.560430  51.373553   -0.29197\n",
       "1997-04  A30  263.677406  71.724523  51.373553   -0.29197\n",
       "1997-05  A30  251.253255  69.521366  51.373553   -0.29197\n",
       "1997-06  A30  240.406770  61.292412  51.373553   -0.29197\n",
       "1997-07  A30  257.308118  54.153329  51.373553   -0.29197"
      ]
     },
     "execution_count": 7,
     "metadata": {},
     "output_type": "execute_result"
    }
   ],
   "source": [
    "monthly_df.head()"
   ]
  },
  {
   "cell_type": "code",
   "execution_count": 8,
   "metadata": {},
   "outputs": [],
   "source": [
    "yearly_df = df.groupby(by=[\"code\"]).resample(\"Y\").mean().reset_index()\n",
    "yearly_df[\"date\"] = yearly_df[\"date\"].apply(lambda x: x.strftime(\"%Y\"))\n",
    "yearly_df.set_index(\"date\", inplace=True)"
   ]
  },
  {
   "cell_type": "code",
   "execution_count": 9,
   "metadata": {},
   "outputs": [
    {
     "data": {
      "text/html": [
       "<div>\n",
       "<style scoped>\n",
       "    .dataframe tbody tr th:only-of-type {\n",
       "        vertical-align: middle;\n",
       "    }\n",
       "\n",
       "    .dataframe tbody tr th {\n",
       "        vertical-align: top;\n",
       "    }\n",
       "\n",
       "    .dataframe thead th {\n",
       "        text-align: right;\n",
       "    }\n",
       "</style>\n",
       "<table border=\"1\" class=\"dataframe\">\n",
       "  <thead>\n",
       "    <tr style=\"text-align: right;\">\n",
       "      <th></th>\n",
       "      <th>code</th>\n",
       "      <th>nox</th>\n",
       "      <th>no2</th>\n",
       "      <th>latitude</th>\n",
       "      <th>longitude</th>\n",
       "    </tr>\n",
       "    <tr>\n",
       "      <th>date</th>\n",
       "      <th></th>\n",
       "      <th></th>\n",
       "      <th></th>\n",
       "      <th></th>\n",
       "      <th></th>\n",
       "    </tr>\n",
       "  </thead>\n",
       "  <tbody>\n",
       "    <tr>\n",
       "      <th>1997</th>\n",
       "      <td>A30</td>\n",
       "      <td>314.269389</td>\n",
       "      <td>65.982131</td>\n",
       "      <td>51.373553</td>\n",
       "      <td>-0.29197</td>\n",
       "    </tr>\n",
       "    <tr>\n",
       "      <th>1998</th>\n",
       "      <td>A30</td>\n",
       "      <td>291.840156</td>\n",
       "      <td>56.801657</td>\n",
       "      <td>51.373553</td>\n",
       "      <td>-0.29197</td>\n",
       "    </tr>\n",
       "    <tr>\n",
       "      <th>1999</th>\n",
       "      <td>A30</td>\n",
       "      <td>256.120856</td>\n",
       "      <td>58.470782</td>\n",
       "      <td>51.373553</td>\n",
       "      <td>-0.29197</td>\n",
       "    </tr>\n",
       "    <tr>\n",
       "      <th>2000</th>\n",
       "      <td>A30</td>\n",
       "      <td>212.220329</td>\n",
       "      <td>54.903419</td>\n",
       "      <td>51.373553</td>\n",
       "      <td>-0.29197</td>\n",
       "    </tr>\n",
       "    <tr>\n",
       "      <th>2001</th>\n",
       "      <td>A30</td>\n",
       "      <td>184.025497</td>\n",
       "      <td>53.486050</td>\n",
       "      <td>51.373553</td>\n",
       "      <td>-0.29197</td>\n",
       "    </tr>\n",
       "  </tbody>\n",
       "</table>\n",
       "</div>"
      ],
      "text/plain": [
       "     code         nox        no2   latitude  longitude\n",
       "date                                                  \n",
       "1997  A30  314.269389  65.982131  51.373553   -0.29197\n",
       "1998  A30  291.840156  56.801657  51.373553   -0.29197\n",
       "1999  A30  256.120856  58.470782  51.373553   -0.29197\n",
       "2000  A30  212.220329  54.903419  51.373553   -0.29197\n",
       "2001  A30  184.025497  53.486050  51.373553   -0.29197"
      ]
     },
     "execution_count": 9,
     "metadata": {},
     "output_type": "execute_result"
    }
   ],
   "source": [
    "yearly_df.head()"
   ]
  },
  {
   "cell_type": "code",
   "execution_count": 4,
   "metadata": {},
   "outputs": [],
   "source": [
    "import gpflow\n",
    "from gpflow.utilities import print_summary\n",
    "import tensorflow as tf\n",
    "from sklearn.model_selection import train_test_split\n",
    "from sklearn.preprocessing import StandardScaler  \n",
    "import numpy as np"
   ]
  },
  {
   "cell_type": "code",
   "execution_count": 5,
   "metadata": {},
   "outputs": [],
   "source": [
    "# Currently, this causes nan values in the df; need to investigate why\n",
    "gp_df = df.groupby(by=[\"code\"]).resample(\"M\", convention=\"start\").mean().dropna().reset_index()"
   ]
  },
  {
   "cell_type": "code",
   "execution_count": 6,
   "metadata": {},
   "outputs": [],
   "source": [
    "gp_df = gp_df.loc[gp_df[\"date\"] >= \"2000\"]"
   ]
  },
  {
   "cell_type": "code",
   "execution_count": 7,
   "metadata": {},
   "outputs": [],
   "source": [
    "n_months = 12\n",
    "start_year = gp_df[\"date\"].min().year\n",
    "gp_df['t'] = gp_df.apply(lambda row: (row.date.year-start_year)*n_months + (row.date.month%n_months), axis=1)"
   ]
  },
  {
   "cell_type": "code",
   "execution_count": 8,
   "metadata": {},
   "outputs": [],
   "source": [
    "feature_scaler = StandardScaler()\n",
    "X = gp_df[[\"latitude\", \"longitude\", \"t\"]].values\n",
    "#X[:, 0:2] = feature_scaler.fit_transform(X[:, 0:2] + np.random.normal(0, 1, size=X[:, 0:2].shape))\n",
    "X[:, 0:2] = feature_scaler.fit_transform(X[:, 0:2])\n",
    "Y = gp_df[[\"no2\"]].values\n",
    "Y = feature_scaler.fit_transform(Y)"
   ]
  },
  {
   "cell_type": "code",
   "execution_count": 9,
   "metadata": {},
   "outputs": [],
   "source": [
    "na = gp_df[gp_df.isna().any(axis=1)]"
   ]
  },
  {
   "cell_type": "code",
   "execution_count": 10,
   "metadata": {},
   "outputs": [
    {
     "data": {
      "text/plain": [
       "0"
      ]
     },
     "execution_count": 10,
     "metadata": {},
     "output_type": "execute_result"
    }
   ],
   "source": [
    "na.size"
   ]
  },
  {
   "cell_type": "code",
   "execution_count": 11,
   "metadata": {},
   "outputs": [],
   "source": [
    "N, M = X.shape"
   ]
  },
  {
   "cell_type": "code",
   "execution_count": 12,
   "metadata": {},
   "outputs": [
    {
     "name": "stdout",
     "output_type": "stream",
     "text": [
      "(17009, 3) (17009, 1) (5670, 3) (5670, 1)\n"
     ]
    }
   ],
   "source": [
    "X_train, X_val, Y_train, Y_val = train_test_split(X, Y, test_size=0.25 )\n",
    "print(X_train.shape, Y_train.shape, X_val.shape, Y_val.shape)"
   ]
  },
  {
   "cell_type": "code",
   "execution_count": 13,
   "metadata": {},
   "outputs": [],
   "source": [
    "class SafeMatern52(gpflow.kernels.Matern52):\n",
    "    def euclid_dist(self, X, X2):\n",
    "        r2 = self.square_dist(X, X2)\n",
    "        return tf.sqrt(r2 + 1e-1)"
   ]
  },
  {
   "cell_type": "code",
   "execution_count": null,
   "metadata": {},
   "outputs": [],
   "source": [
    "## KERNEL OPTIONS\n",
    "\n",
    "k = SafeMatern52(lengthscales=1, active_dims=[0, 1]) + SafeMatern52(lengthscales=0.1, active_dims=[2])\n",
    "#, lengthscales=[0.01, 0.01, 0.01])\n",
    "#k = gpflow.kernels.White() + gpflow.kernels.Periodic(gpflow.kernels.IsotropicStationary(), period=12)\n",
    "#k = gpflow.kernels.Matern52(active_dims=[2]) + gpflow.kernels.Matern52(active_dims=[0, 1])\n",
    "#k = SafeMatern52(active_dims=[2]) + SafeMatern52(active_dims=[0,1]) + gpflow.kernels.White(3)\n",
    "#k = gpflow.kernels.White(3) +\\\n",
    "#            gpflow.kernels.RBF(2, active_dims=[0,1], lengthscales=1.0) +\\\n",
    "#            gpflow.kernels.RBF(1, active_dims=[2], lengthscales=1.0) +\\\n",
    "#            gpflow.kernels.Periodic(gpflow.kernels.RBF(1, active_dims=[2], lengthscales=1.0), period=12.0)\n",
    "#k = gpflow.kernels.White(1)\n",
    "#k = gpflow.kernels.White() + gpflow.kernels.Matern52(active_dims=[0]) + gpflow.kernels.Matern52(active_dims=[1]) \\\n",
    "#+ gpflow.kernels.Matern52(active_dims=[2])\n",
    "#k = gpflow.kernels.SquaredExponential()"
   ]
  },
  {
   "cell_type": "code",
   "execution_count": 15,
   "metadata": {},
   "outputs": [
    {
     "name": "stdout",
     "output_type": "stream",
     "text": [
      "╒═════════════════════════════╤═══════════╤═════════════╤═════════╤═════════════╤═════════╤═════════╤═════════╕\n",
      "│ name                        │ class     │ transform   │ prior   │ trainable   │ shape   │ dtype   │   value │\n",
      "╞═════════════════════════════╪═══════════╪═════════════╪═════════╪═════════════╪═════════╪═════════╪═════════╡\n",
      "│ Sum.kernels[0].variance     │ Parameter │ Softplus    │         │ True        │ ()      │ float64 │     1   │\n",
      "├─────────────────────────────┼───────────┼─────────────┼─────────┼─────────────┼─────────┼─────────┼─────────┤\n",
      "│ Sum.kernels[0].lengthscales │ Parameter │ Softplus    │         │ True        │ ()      │ float64 │     1   │\n",
      "├─────────────────────────────┼───────────┼─────────────┼─────────┼─────────────┼─────────┼─────────┼─────────┤\n",
      "│ Sum.kernels[1].variance     │ Parameter │ Softplus    │         │ True        │ ()      │ float64 │     1   │\n",
      "├─────────────────────────────┼───────────┼─────────────┼─────────┼─────────────┼─────────┼─────────┼─────────┤\n",
      "│ Sum.kernels[1].lengthscales │ Parameter │ Softplus    │         │ True        │ ()      │ float64 │     0.1 │\n",
      "╘═════════════════════════════╧═══════════╧═════════════╧═════════╧═════════════╧═════════╧═════════╧═════════╛\n"
     ]
    }
   ],
   "source": [
    "print_summary(k)"
   ]
  },
  {
   "cell_type": "code",
   "execution_count": 18,
   "metadata": {},
   "outputs": [
    {
     "data": {
      "text/plain": [
       "<tf.Variable 'UnreadVariable' shape=() dtype=float64, numpy=-4.600266525158521>"
      ]
     },
     "execution_count": 18,
     "metadata": {},
     "output_type": "execute_result"
    }
   ],
   "source": [
    "#gpflow.mean_functions.Zero())\n",
    "m = gpflow.models.GPR((X_train, Y_train), kernel=k, mean_function=None)#gpflow.mean_functions.Zero())\n",
    "m.likelihood.variance.assign(0.01)\n",
    "#m.kernel.lengthscales.assign(np.array([0.3, 0.3, 0.3]))"
   ]
  },
  {
   "cell_type": "code",
   "execution_count": 19,
   "metadata": {},
   "outputs": [],
   "source": [
    "opt = gpflow.optimizers.Scipy()"
   ]
  },
  {
   "cell_type": "code",
   "execution_count": null,
   "metadata": {},
   "outputs": [],
   "source": [
    "opt_logs = opt.minimize(m.training_loss, m.trainable_variables, options=dict(maxiter=5))\n",
    "print_summary(m)"
   ]
  },
  {
   "cell_type": "code",
   "execution_count": null,
   "metadata": {},
   "outputs": [],
   "source": []
  }
 ],
 "metadata": {
  "kernelspec": {
   "display_name": "Python 3 (ipykernel)",
   "language": "python",
   "name": "python3"
  },
  "language_info": {
   "codemirror_mode": {
    "name": "ipython",
    "version": 3
   },
   "file_extension": ".py",
   "mimetype": "text/x-python",
   "name": "python",
   "nbconvert_exporter": "python",
   "pygments_lexer": "ipython3",
   "version": "3.7.12"
  }
 },
 "nbformat": 4,
 "nbformat_minor": 4
}
